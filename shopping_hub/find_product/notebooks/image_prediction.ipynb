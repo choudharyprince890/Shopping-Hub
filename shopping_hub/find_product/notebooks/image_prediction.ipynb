{
 "cells": [
  {
   "cell_type": "code",
   "execution_count": 1,
   "metadata": {},
   "outputs": [],
   "source": [
    "import tensorflow\n",
    "from keras.preprocessing import image"
   ]
  },
  {
   "cell_type": "code",
   "execution_count": 2,
   "metadata": {},
   "outputs": [],
   "source": [
    "import pandas as pd\n",
    "import numpy as np"
   ]
  },
  {
   "cell_type": "code",
   "execution_count": 3,
   "metadata": {},
   "outputs": [],
   "source": [
    "df = pd.read_csv('eshop.csv')"
   ]
  },
  {
   "cell_type": "code",
   "execution_count": 4,
   "metadata": {},
   "outputs": [
    {
     "data": {
      "text/html": [
       "<div>\n",
       "<style scoped>\n",
       "    .dataframe tbody tr th:only-of-type {\n",
       "        vertical-align: middle;\n",
       "    }\n",
       "\n",
       "    .dataframe tbody tr th {\n",
       "        vertical-align: top;\n",
       "    }\n",
       "\n",
       "    .dataframe thead th {\n",
       "        text-align: right;\n",
       "    }\n",
       "</style>\n",
       "<table border=\"1\" class=\"dataframe\">\n",
       "  <thead>\n",
       "    <tr style=\"text-align: right;\">\n",
       "      <th></th>\n",
       "      <th>image</th>\n",
       "      <th>name</th>\n",
       "      <th>description</th>\n",
       "      <th>price</th>\n",
       "      <th>size</th>\n",
       "      <th>category_id</th>\n",
       "    </tr>\n",
       "  </thead>\n",
       "  <tbody>\n",
       "    <tr>\n",
       "      <th>0</th>\n",
       "      <td>http://assets.myntassets.com/v1/images/style/p...</td>\n",
       "      <td>Navy Blue Shirts</td>\n",
       "      <td>Turtle Check Men Navy Blue Shirt</td>\n",
       "      <td>2785</td>\n",
       "      <td>NaN</td>\n",
       "      <td>1</td>\n",
       "    </tr>\n",
       "    <tr>\n",
       "      <th>1</th>\n",
       "      <td>http://assets.myntassets.com/v1/images/style/p...</td>\n",
       "      <td>Blue Jeans</td>\n",
       "      <td>Peter England Men Party Blue Jeans</td>\n",
       "      <td>534</td>\n",
       "      <td>NaN</td>\n",
       "      <td>1</td>\n",
       "    </tr>\n",
       "    <tr>\n",
       "      <th>2</th>\n",
       "      <td>http://assets.myntassets.com/v1/images/style/p...</td>\n",
       "      <td>Silver Watches</td>\n",
       "      <td>Titan Women Silver Watch</td>\n",
       "      <td>3233</td>\n",
       "      <td>NaN</td>\n",
       "      <td>2</td>\n",
       "    </tr>\n",
       "    <tr>\n",
       "      <th>3</th>\n",
       "      <td>http://assets.myntassets.com/v1/images/style/p...</td>\n",
       "      <td>Black Track Pants</td>\n",
       "      <td>Manchester United Men Solid Black Track Pants</td>\n",
       "      <td>2164</td>\n",
       "      <td>NaN</td>\n",
       "      <td>1</td>\n",
       "    </tr>\n",
       "    <tr>\n",
       "      <th>4</th>\n",
       "      <td>http://assets.myntassets.com/v1/images/style/p...</td>\n",
       "      <td>Grey Tshirts</td>\n",
       "      <td>Puma Men Grey T-shirt</td>\n",
       "      <td>4077</td>\n",
       "      <td>NaN</td>\n",
       "      <td>1</td>\n",
       "    </tr>\n",
       "  </tbody>\n",
       "</table>\n",
       "</div>"
      ],
      "text/plain": [
       "                                               image               name  \\\n",
       "0  http://assets.myntassets.com/v1/images/style/p...   Navy Blue Shirts   \n",
       "1  http://assets.myntassets.com/v1/images/style/p...         Blue Jeans   \n",
       "2  http://assets.myntassets.com/v1/images/style/p...     Silver Watches   \n",
       "3  http://assets.myntassets.com/v1/images/style/p...  Black Track Pants   \n",
       "4  http://assets.myntassets.com/v1/images/style/p...       Grey Tshirts   \n",
       "\n",
       "                                     description  price  size  category_id  \n",
       "0               Turtle Check Men Navy Blue Shirt   2785   NaN            1  \n",
       "1             Peter England Men Party Blue Jeans    534   NaN            1  \n",
       "2                       Titan Women Silver Watch   3233   NaN            2  \n",
       "3  Manchester United Men Solid Black Track Pants   2164   NaN            1  \n",
       "4                          Puma Men Grey T-shirt   4077   NaN            1  "
      ]
     },
     "execution_count": 4,
     "metadata": {},
     "output_type": "execute_result"
    }
   ],
   "source": [
    "df.head(5)"
   ]
  },
  {
   "cell_type": "code",
   "execution_count": 8,
   "metadata": {},
   "outputs": [
    {
     "data": {
      "text/plain": [
       "0        http://assets.myntassets.com/v1/images/style/p...\n",
       "1        http://assets.myntassets.com/v1/images/style/p...\n",
       "2        http://assets.myntassets.com/v1/images/style/p...\n",
       "3        http://assets.myntassets.com/v1/images/style/p...\n",
       "4        http://assets.myntassets.com/v1/images/style/p...\n",
       "                               ...                        \n",
       "44313    http://assets.myntassets.com/v1/images/style/p...\n",
       "44314    http://assets.myntassets.com/v1/images/style/p...\n",
       "44315    http://assets.myntassets.com/v1/images/style/p...\n",
       "44316    http://assets.myntassets.com/v1/images/style/p...\n",
       "44317    http://assets.myntassets.com/assets/images/516...\n",
       "Name: image, Length: 44318, dtype: object"
      ]
     },
     "execution_count": 8,
     "metadata": {},
     "output_type": "execute_result"
    }
   ],
   "source": [
    "fileanmes = df['image']\n",
    "fileanmes"
   ]
  },
  {
   "cell_type": "code",
   "execution_count": 9,
   "metadata": {},
   "outputs": [
    {
     "data": {
      "text/plain": [
       "['http://assets.myntassets.com/v1/images/style/properties/7a5b82d1372a7a5c6de67ae7a314fd91_images.jpg',\n",
       " 'http://assets.myntassets.com/v1/images/style/properties/4850873d0c417e6480a26059f83aac29_images.jpg',\n",
       " 'http://assets.myntassets.com/v1/images/style/properties/Titan-Women-Silver-Watch_b4ef04538840c0020e4829ecc042ead1_images.jpg',\n",
       " 'http://assets.myntassets.com/v1/images/style/properties/8153dc35d9a5420eeb93922067137db6_images.jpg',\n",
       " 'http://assets.myntassets.com/v1/images/style/properties/Puma-Men-Grey-T-shirt_32668f8a61454d0cc028a808cf21b383_images.jpg',\n",
       " 'http://assets.myntassets.com/v1/images/style/properties/9c1b19682ecf926c296f520d5d6e0972_images.jpg',\n",
       " 'http://assets.myntassets.com/v1/images/style/properties/06e9d4231254fdb2c7fe967ad413ad7b_images.jpg',\n",
       " 'http://assets.myntassets.com/v1/images/style/properties/45ddbc6a15140556214e15923244755b_images.jpg',\n",
       " 'http://assets.myntassets.com/v1/images/style/properties/4ca8848ab441378a392d9d5bf0b0f3c7_images.jpg',\n",
       " 'http://assets.myntassets.com/v1/images/style/properties/Skagen-Men-Black-Watch_4982b2b1a76a85a85c9adc8b4b2d523a_images.jpg',\n",
       " 'http://assets.myntassets.com/v1/images/style/properties/051d64772f1b38ff476fbf0a807f365a_images.jpg',\n",
       " 'http://assets.myntassets.com/v1/images/style/properties/8eee4563e14cf451b07f27761fd6535f_images.jpg',\n",
       " 'http://assets.myntassets.com/v1/images/style/properties/53690e3f396f411e184b249672d6ebae_images.jpg',\n",
       " 'http://assets.myntassets.com/v1/images/style/properties/Murcia-Women-Blue-Handbag_13cfaff26872c298112a8e7da15c1e1d_images.jpg',\n",
       " 'http://assets.myntassets.com/v1/images/style/properties/5cab6a2305d0e63142f721228aa6d293_images.jpg',\n",
       " 'http://assets.myntassets.com/v1/images/style/properties/8bc9be576081baae77e8561b1132288f_images.jpg',\n",
       " 'http://assets.myntassets.com/v1/images/style/properties/Police-Men-Black-Dial-Watch_5bd8cae4fc61052a6f00cfcd69c4a936_images.jpg',\n",
       " 'http://assets.myntassets.com/v1/images/style/properties/f3964f76c78edd85f4512d98b26d52e9_images.jpg',\n",
       " 'http://assets.myntassets.com/v1/image/style/properties/51832/Bwitch-Beige-Full-Coverage-Bra-BW335_1_d516fa94f14f0a5ecc90df7754390eb5.jpg',\n",
       " 'http://assets.myntassets.com/v1/images/style/properties/b14c7bf275c6edca3e849200fb7cbf6c_images.jpg',\n",
       " 'http://assets.myntassets.com/assets/images/17429/2018/3/5/11520250143953-CASIO-G-Shock-Men-Black-Digital-Watch-G223-8211520250143786-1.jpg',\n",
       " 'http://assets.myntassets.com/v1/images/style/properties/c5a22e9ccf9b10e0a89ffbbf3e386584_images.jpg',\n",
       " 'http://assets.myntassets.com/v1/images/style/properties/92589dc7416b70f1a5c6a4c1f13d14e3_images.jpg',\n",
       " 'http://assets.myntassets.com/v1/images/style/properties/59912a0287751ff0475c8748dbcf4ea0_images.jpg',\n",
       " 'http://assets.myntassets.com/v1/images/style/properties/3295fc148576955745c0b259d7968727_images.jpg',\n",
       " 'http://assets.myntassets.com/v1/images/style/properties/06edc2da9c6d103d299e5e8dafc5b6b9_images.jpg',\n",
       " 'http://assets.myntassets.com/v1/images/style/properties/Pitaraa-Women-Golden-Brass-Bead-Bracelet_179aa06939858b54e8e6c80fe12d94d5_images.jpg',\n",
       " 'http://assets.myntassets.com/v1/images/style/properties/296a8c388d05d67346db88af27d3b763_images.jpg',\n",
       " 'http://assets.myntassets.com/assets/images/56019/2019/1/11/49d718c4-6d86-42d1-8d00-1ce4b7851b2c1547190759839-Colorbar-Soft-Touch-Show-Stopper-Copper-Lipstick-037-2715471-1.jpg',\n",
       " 'http://assets.myntassets.com/v1/images/style/properties/88d0bc675d72477729f38c30332e749a_images.jpg',\n",
       " 'http://assets.myntassets.com/v1/images/style/properties/3af9f145845d8453a066322de35980af_images.jpg',\n",
       " 'http://assets.myntassets.com/v1/images/style/properties/0108969213975af06095ff84a0ec0c72_images.jpg',\n",
       " 'http://assets.myntassets.com/v1/images/style/properties/John-Players-Men-Brown-Shirt_7eec3b0568f65dc8f39a534376538551_images.jpg',\n",
       " 'http://assets.myntassets.com/v1/images/style/properties/9c3d77147758ab10f12caf6184fe13ef_images.jpg',\n",
       " 'http://assets.myntassets.com/v1/images/style/properties/Carlton-London-Women-Black-Gladiator-Sandals_b8f695202ccc1889f65d57b4000a888f_images.jpg',\n",
       " 'http://assets.myntassets.com/v1/images/style/properties/08a0c29d2ea67ca9449aa54466f6b0a1_images.jpg',\n",
       " 'http://assets.myntassets.com/v1/images/style/properties/Rocky-S-Women-White-Handbag_1440a0abd2ddaf3199965e604831b164_images.jpg',\n",
       " 'http://assets.myntassets.com/v1/images/style/properties/8b58c65e5634233b165c40cdbbcf58b8_images.jpg',\n",
       " 'http://assets.myntassets.com/v1/images/style/properties/072af0cd079f20296c72f3594a21f141_images.jpg',\n",
       " 'http://assets.myntassets.com/v1/images/style/properties/b56e261f9206aa95e42c43f4e62d0e5a_images.jpg',\n",
       " 'http://assets.myntassets.com/v1/images/style/properties/Peter-England-Men-Formal-Black-Beltbc472bd919c505690ecbc1eed8af7fbf_images.jpg',\n",
       " 'http://assets.myntassets.com/v1/images/style/properties/94a9deea53125663d9bbe61cb38b84b4_images.jpg',\n",
       " 'http://assets.myntassets.com/v1/images/style/properties/93aa34922c6446706c003ba2255747f5_images.jpg',\n",
       " 'http://assets.myntassets.com/v1/images/style/properties/df0a23e732654c5e7db3888e39393e79_images.jpg',\n",
       " 'http://assets.myntassets.com/v1/images/style/properties/0d2e2ceaaf6d09d447caad678b2edbe6_images.jpg',\n",
       " 'http://assets.myntassets.com/v1/images/style/properties/4eff2353c62ec8b7bca9fbbaf5996bd2_images.jpg',\n",
       " 'http://assets.myntassets.com/v1/images/style/properties/91ca48e3204f23cd376fad7f186875bf_images.jpg',\n",
       " 'http://assets.myntassets.com/v1/images/style/properties/155353efc674d253e30c213ca07bbb0b_images.jpg',\n",
       " 'http://assets.myntassets.com/v1/images/style/properties/5e557eb0be7c6420f7c7a6bbaa432993_images.jpg',\n",
       " 'http://assets.myntassets.com/v1/images/style/properties/2eb3aa5eefb3319f10f7815100a18e3c_images.jpg',\n",
       " 'http://assets.myntassets.com/v1/images/style/properties/676dd802241d46a5ce28c78d1dabbc5a_images.jpg',\n",
       " 'http://assets.myntassets.com/v1/images/style/properties/2976e4095e7b3ae2de99df54d2adeaaa_images.jpg',\n",
       " 'http://assets.myntassets.com/v1/images/style/properties/fee54b57fcd02b7c07d42b0918025099_images.jpg',\n",
       " 'http://assets.myntassets.com/v1/images/style/properties/Playboy-Men-Blue-Titanium-Briefs_5c63c52edabbab43f6aefc52842d73f2_images.jpg',\n",
       " 'http://assets.myntassets.com/v1/images/style/properties/Arrow-Men-Black-Formal-Shoes_70a3c7c185338a5636c8c0e668829bb6_images.jpg',\n",
       " 'http://assets.myntassets.com/v1/images/style/properties/02e4e32cd9d09052f0ec3d46fa747d39_images.jpg',\n",
       " 'http://assets.myntassets.com/v1/images/style/properties/206a0614c4644cd8816576efd47d60d8_images.jpg',\n",
       " 'http://assets.myntassets.com/v1/images/style/properties/1aae016d0abb224cfc18e6bd9bb01ad1_images.jpg',\n",
       " 'http://assets.myntassets.com/v1/images/style/properties/b2959d44db543af13d78492225a830de_images.jpg',\n",
       " 'http://assets.myntassets.com/v1/images/style/properties/b34550bc6415dcd66892de4ef2837fd9_images.jpg',\n",
       " 'http://assets.myntassets.com/v1/images/style/properties/FNF-Green-Collection-for-Wedding-Wear-Sari_6c60eef0b8d9cff87cfcd1f73953e5cd_images.jpg',\n",
       " 'http://assets.myntassets.com/v1/images/style/properties/cd16e955e4b6b3f9d7089c15652a3f00_images.jpg',\n",
       " 'http://assets.myntassets.com/v1/images/style/properties/b8024bdd3fc47c2b20bd840f89811979_images.jpg',\n",
       " 'http://assets.myntassets.com/v1/images/style/properties/97d3bb4a71c9f7da88305ce9144d8576_images.jpg',\n",
       " 'http://assets.myntassets.com/v1/images/style/properties/70e74ca34b3b534b19d6b006d5bfad0a_images.jpg',\n",
       " 'http://assets.myntassets.com/v1/images/style/properties/49f884ddf4420d869ad143857d3bc33d_images.jpg',\n",
       " 'http://assets.myntassets.com/v1/images/style/properties/438c41900a80acabb3ef197f0559a9eb_images.jpg',\n",
       " 'http://assets.myntassets.com/v1/images/style/properties/0707b75d2d44e9cec9d27c944294ddbe_images.jpg',\n",
       " 'http://assets.myntassets.com/v1/images/style/properties/Do-u-speak-green-Men-Blue-Shorts_40b6775eae62124195817a64d4ae4a93_images.jpg',\n",
       " 'http://assets.myntassets.com/v1/images/style/properties/6a6ebc47eaf2fe034bcfd94060a285ba_images.jpg',\n",
       " 'http://assets.myntassets.com/v1/images/style/properties/73bc7d63943231e4df1c7b7600496a3d_images.jpg',\n",
       " 'http://assets.myntassets.com/v1/images/style/properties/Vans-Men-Khaki-Shoes_dcaf7c703e9c0396650529df2b2a8893_images.jpg',\n",
       " 'http://assets.myntassets.com/v1/images/style/properties/0be615f02ae1f1cfe78155555a79007c_images.jpg',\n",
       " 'http://assets.myntassets.com/v1/images/style/properties/135f9aa8141d682fc218393049c70324_images.jpg',\n",
       " 'http://assets.myntassets.com/v1/images/style/properties/fcd52c6506b43f3af116a62c2ea81204_images.jpg',\n",
       " 'http://assets.myntassets.com/v1/images/style/properties/eba1c1b241555d8afa3f7232ed2c6933_images.jpg',\n",
       " 'http://assets.myntassets.com/v1/images/style/properties/8d6fd53f28e010658cdf5c14c43d0cb0_images.jpg',\n",
       " 'http://assets.myntassets.com/v1/images/style/properties/4d90e05b9e99e203b3ce191439619bcb_images.jpg',\n",
       " 'http://assets.myntassets.com/v1/images/style/properties/fe446adf94f9beb301b61bfc75a70bfa_images.jpg',\n",
       " 'http://assets.myntassets.com/v1/images/style/properties/0be6693dafb4261645b22c6e9e7e67f4_images.jpg',\n",
       " 'http://assets.myntassets.com/v1/images/style/properties/Image-Men-Classic-Eyewear-Black-Sunglasses_a37f3b87d0d05062ed063adc7aac78bf_images.jpg',\n",
       " 'http://assets.myntassets.com/v1/images/style/properties/69482728a521cbd2ba571e36016d5f63_images.jpg',\n",
       " 'http://assets.myntassets.com/v1/images/style/properties/8d7f0bbb0bdefcbcc692bcdf4a6400ee_images.jpg',\n",
       " 'http://assets.myntassets.com/v1/images/style/properties/c5c095c0e09eb200aa8d57457c53ec07_images.jpg',\n",
       " 'http://assets.myntassets.com/v1/images/style/properties/647838a2e988ab55b76c9aa9ddd15ad7_images.jpg',\n",
       " 'http://assets.myntassets.com/v1/images/style/properties/aff52e6e6bc208923a493612e8f6a3e7_images.jpg',\n",
       " 'http://assets.myntassets.com/v1/images/style/properties/80c170d3a8e46c81f22ecebd1f772d32_images.jpg',\n",
       " 'http://assets.myntassets.com/v1/images/style/properties/Streetwear-Ash-Nail-Polish--31_21d33100dbf0e4b8bb0b33a980de469b_images.jpg',\n",
       " 'http://assets.myntassets.com/v1/images/style/properties/1847a81fa1d237bfbae1e797dff55909_images.jpg',\n",
       " 'http://assets.myntassets.com/v1/images/style/properties/52ad8ae288ba080d88a116b3c70305ec_images.jpg',\n",
       " 'http://assets.myntassets.com/v1/images/style/properties/Tonga-Women-Maroon-Top_e5cc855ba59e5640817434d45f9c088d_images.jpg',\n",
       " 'http://assets.myntassets.com/v1/images/style/properties/aeb9132a29d8844aca73a4544d8135c5_images.jpg',\n",
       " 'http://assets.myntassets.com/v1/images/style/properties/cbc319393da4e3d0eb140d3c8a045d2c_images.jpg',\n",
       " 'http://assets.myntassets.com/v1/images/style/properties/2d986dbf9e5f64e3ab8471120c557db4_images.jpg',\n",
       " 'http://assets.myntassets.com/v1/images/style/properties/c5b0d7c1f0308be020655bc10ca16427_images.jpg',\n",
       " 'http://assets.myntassets.com/v1/images/style/properties/07f0136ab41d3167b3d1e8b84cfc5107_images.jpg',\n",
       " 'http://assets.myntassets.com/v1/images/style/properties/b23f1e70aec0102c360fb9dfdc476023_images.jpg',\n",
       " 'http://assets.myntassets.com/v1/images/style/properties/SDL-by-Sweet-Dreams-Women-White-Pyjama-Set_debea45adf6bdb5816030e5d05b53d2f_images.jpg',\n",
       " 'http://assets.myntassets.com/v1/images/style/properties/7a1bc7d255671c7f4b85f1b1b35e945b_images.jpg',\n",
       " 'http://assets.myntassets.com/v1/images/style/properties/2965814bbf6d6a14e720c712941b323c_images.jpg',\n",
       " 'http://assets.myntassets.com/v1/images/style/properties/c3a37f190933411b11c0fa488bc8bc4d_images.jpg',\n",
       " 'http://assets.myntassets.com/v1/images/style/properties/dce310e4c15223a6c964631190263284_images.jpg',\n",
       " 'http://assets.myntassets.com/v1/images/style/properties/ac5a2fb9462db16f4cf5fc0f3616a9e6_images.jpg',\n",
       " 'http://assets.myntassets.com/v1/images/style/properties/5059a8f382c53105f1bdce6780543934_images.jpg',\n",
       " 'http://assets.myntassets.com/v1/images/style/properties/1de1449cc15d68bc4e53fac49a1e0e18_images.jpg',\n",
       " 'http://assets.myntassets.com/v1/images/style/properties/Vans-Men-Blue-Casual-Shoes_f9ad04b071e06c34a04e2c0a047d58a1_images.jpg',\n",
       " 'http://assets.myntassets.com/v1/images/style/properties/Crocs-Kids-Navy-Blue-Clogs_dd0334757683ef726ca116cc7b8b6012_images.jpg',\n",
       " 'http://assets.myntassets.com/v1/images/style/properties/9b9622c9c440e59a67c876cf07706f3c_images.jpg',\n",
       " 'http://assets.myntassets.com/v1/images/style/properties/498da65eeee9a23f2049449258384d55_images.jpg',\n",
       " 'http://assets.myntassets.com/v1/images/style/properties/c0abfa74fe61af6ba9e5f4936f45e6c7_images.jpg',\n",
       " 'http://assets.myntassets.com/v1/images/style/properties/1049df82b306da238c324c6c7031b135_images.jpg',\n",
       " 'http://assets.myntassets.com/v1/images/style/properties/7cc4a01bf1667b6954fb9d44bfdda095_images.jpg',\n",
       " 'http://assets.myntassets.com/v1/images/style/properties/cea14ca6ae7273963babfa80798aa61c_images.jpg',\n",
       " 'http://assets.myntassets.com/v1/images/style/properties/22ab917e5ff62a05d1d932daf35cf158_images.jpg',\n",
       " 'http://assets.myntassets.com/v1/images/style/properties/42344fe581af7a4c62d2a39ceb57be24_images.jpg',\n",
       " 'http://assets.myntassets.com/v1/images/style/properties/US-Polo-Assn-Men-White---Navy-Blue-Shirt_233bed1565b9ac72f62fb685a2223f3c_images.jpg',\n",
       " 'http://assets.myntassets.com/v1/images/style/properties/e5b0ca8a3d69ff5f0d6e2d9303705eb9_images.jpg',\n",
       " 'http://assets.myntassets.com/v1/images/style/properties/a2826334fe816ee0e95ce93b8aabc90d_images.jpg',\n",
       " 'http://assets.myntassets.com/v1/images/style/properties/Jealous-21-Women-Black-Jeans_6c38590b2ec56b444a760aa56a8ef7e9_images.jpg',\n",
       " 'http://assets.myntassets.com/v1/images/style/properties/3101e6784596ba83c3fb728bcf5b6187_images.jpg',\n",
       " 'http://assets.myntassets.com/v1/images/style/properties/21c45000f209a31a74ed47f9ec9ac87e_images.jpg',\n",
       " 'http://assets.myntassets.com/v1/images/style/properties/1133e704c0d02e19ac7b09685788aa40_images.jpg',\n",
       " 'http://assets.myntassets.com/v1/images/style/properties/Sushilas-Women-Printed-Green-Kurta_c9347616597dbcbe6eca805e1677c269_images.jpg',\n",
       " 'http://assets.myntassets.com/v1/images/style/properties/Lucera-Women-Silver-Ring_dccb8dafadde1c4759acfb940fcb42e9_images.jpg',\n",
       " 'http://assets.myntassets.com/v1/images/style/properties/117451d5bf32c9ec341a6dfd0c28121a_images.jpg',\n",
       " 'http://assets.myntassets.com/v1/images/style/properties/f9f0f53a996cd6df9e48e4e685e25047_images.jpg',\n",
       " 'http://assets.myntassets.com/v1/images/style/properties/Ray-Ban-Men-Active-Lifestyle-Copper-Sunglassesb7761297ec669a622453f898fce8759f_images.jpg',\n",
       " 'http://assets.myntassets.com/v1/images/style/properties/6bb0dda205ff23b2b1fda526a3c74374_images.jpg',\n",
       " 'http://assets.myntassets.com/v1/images/style/properties/9b2dc2cfc35d37aee2f4d46532384605_images.jpg',\n",
       " 'http://assets.myntassets.com/v1/images/style/properties/c78acc78b83e4f2e014215d2a302f04b_images.jpg',\n",
       " 'http://assets.myntassets.com/v1/images/style/properties/112edfec7e1965c0f64ad9eb51cac579_images.jpg',\n",
       " 'http://assets.myntassets.com/v1/images/style/properties/2641289161a53042c64ced38cadb099b_images.jpg',\n",
       " 'http://assets.myntassets.com/v1/images/style/properties/59433decf845a0c856d3879435d95560_images.jpg',\n",
       " 'http://assets.myntassets.com/v1/images/style/properties/b0d3dcd6aaa7274486236fa267ef8cb5_images.jpg',\n",
       " 'http://assets.myntassets.com/v1/images/style/properties/4d16721ce6d31a02786fa271a40dbc86_images.jpg',\n",
       " 'http://assets.myntassets.com/v1/images/style/properties/ee617574380de80bee9cce9ec585e8be_images.jpg',\n",
       " 'http://assets.myntassets.com/v1/images/style/properties/7adfef9d7001cdcb9a58822c0c8b615f_images.jpg',\n",
       " 'http://assets.myntassets.com/v1/images/style/properties/Rocky-S-Women-Brown-Handbag_5b44f798c0d6b84b00ae5a6316d931af_images.jpg',\n",
       " 'http://assets.myntassets.com/v1/images/style/properties/5fdccf41dafc022f36adea9a7df6751c_images.jpg',\n",
       " 'http://assets.myntassets.com/v1/images/style/properties/9584fab8cde60a77e797973020e5c91d_images.jpg',\n",
       " 'http://assets.myntassets.com/v1/images/style/properties/28d91b2c102e5742714c7f706a73eeb4_images.jpg',\n",
       " 'http://assets.myntassets.com/v1/images/style/properties/9bd108a473fd6a01005be56f7f0a3807_images.jpg',\n",
       " 'http://assets.myntassets.com/v1/images/style/properties/7648ed40d904bf77502b84894f9cb980_images.jpg',\n",
       " 'http://assets.myntassets.com/v1/images/style/properties/daadf44edb9420bbd0d335702cf6e095_images.jpg',\n",
       " 'http://assets.myntassets.com/v1/images/style/properties/5c0c7cee1d5905a18f6a8d4821ae21aa_images.jpg',\n",
       " 'http://assets.myntassets.com/v1/images/style/properties/6c411e5ff01a791860ac0807b719cf28_images.jpg',\n",
       " 'http://assets.myntassets.com/v1/images/style/properties/477a546e340e50d1c7d4fb252a146692_images.jpg',\n",
       " 'http://assets.myntassets.com/v1/images/style/properties/16a858c7c58d665ba030df2f9f326086_images.jpg',\n",
       " 'http://assets.myntassets.com/v1/images/style/properties/aca469db7fbac91473fc2a810461889d_images.jpg',\n",
       " 'http://assets.myntassets.com/v1/images/style/properties/1c5acff37ece119c5adfe594c2b4bdcd_images.jpg',\n",
       " 'http://assets.myntassets.com/v1/images/style/properties/551485ddc5fa42d1734898e3b32e72c0_images.jpg',\n",
       " 'http://assets.myntassets.com/v1/images/style/properties/cef99b09020adbc2a0d7e5f9889ce9c4_images.jpg',\n",
       " 'http://assets.myntassets.com/v1/images/style/properties/4d0de24d6538a8507059625949e34878_images.jpg',\n",
       " 'http://assets.myntassets.com/v1/images/style/properties/50c7dd932d347768b05766e5dd231355_images.jpg',\n",
       " 'http://assets.myntassets.com/v1/images/style/properties/ef754e63472dece06abfa6d6c1266d91_images.jpg',\n",
       " 'http://assets.myntassets.com/v1/images/style/properties/ff82e800185f09437bdd38606dbd4ec6_images.jpg',\n",
       " 'http://assets.myntassets.com/v1/images/style/properties/Q-Q-Men-Silver-Dial-Watch_9bc915bdcff17ce2aa1168cf3a27654e_images.jpg',\n",
       " 'http://assets.myntassets.com/v1/images/style/properties/Levis-Men-White-Innerwear-Vest_ead823677896c7f737a55a7750d809c7_images.jpg',\n",
       " 'http://assets.myntassets.com/v1/images/style/properties/Maxima-Men-Black-Dial-Watch_c427a05e5f1d545b2b03ad86b4960427_images.jpg',\n",
       " 'http://assets.myntassets.com/v1/images/style/properties/f9622342fedb746c6515647f128b94a6_images.jpg',\n",
       " 'http://assets.myntassets.com/v1/images/style/properties/cc57b520818a0ada689545d2bdd025d9_images.jpg',\n",
       " 'http://assets.myntassets.com/v1/images/style/properties/FNF-Green-Collection-for-Wedding-Sari_7e6a7f6bba933b0923861ac3b65c9f5e_images.jpg',\n",
       " 'http://assets.myntassets.com/v1/images/style/properties/0ea0e6130d5d4c093e0e516f9b43ced6_images.jpg',\n",
       " 'http://assets.myntassets.com/v1/images/style/properties/7de650b81e8fd8be54794b6f466f3b8e_images.jpg',\n",
       " 'http://assets.myntassets.com/v1/images/style/properties/1223bc5aa8de555c058dbafa61b4c6cf_images.jpg',\n",
       " 'http://assets.myntassets.com/v1/images/style/properties/946643c653dae988057d427e72b4d5f6_images.jpg',\n",
       " 'http://assets.myntassets.com/v1/images/style/properties/bbddb8510d402639e0a038bde5ec08bb_images.jpg',\n",
       " 'http://assets.myntassets.com/v1/images/style/properties/b24d6360e5f726e86b7db28e2225894b_images.jpg',\n",
       " 'http://assets.myntassets.com/v1/images/style/properties/f0a2359518806948aa76a37b1c9fe2a9_images.jpg',\n",
       " 'http://assets.myntassets.com/v1/images/style/properties/c843af98fead5393ecf56934e07ca496_images.jpg',\n",
       " 'http://assets.myntassets.com/v1/images/style/properties/Catwalk-Women-Brown-Sandals_c094f60d90c695681a6b79cf241777fc_images.jpg',\n",
       " 'http://assets.myntassets.com/v1/images/style/properties/3db0d3544350b8d72f968ede0af3b0d3_images.jpg',\n",
       " 'http://assets.myntassets.com/v1/images/style/properties/97f41f38d2fa5f88fa5322daf7f093f6_images.jpg',\n",
       " 'http://assets.myntassets.com/v1/images/style/properties/Louis-Philippe-Men-Grey-Sunglasses_1446c537f905743abebac42f5a02f776_images.jpg',\n",
       " 'http://assets.myntassets.com/v1/images/style/properties/e01152d30659f4099b46cb0c1fcb918b_images.jpg',\n",
       " 'http://assets.myntassets.com/v1/images/style/properties/f21ff0021d5d5095ed087314e548ea24_images.jpg',\n",
       " 'http://assets.myntassets.com/v1/images/style/properties/ef0e264ebd347265da9fcf1bdff4b2f5_images.jpg',\n",
       " 'http://assets.myntassets.com/v1/images/style/properties/f8a2854d9f97f9fde7b768dd3648198d_images.jpg',\n",
       " 'http://assets.myntassets.com/v1/images/style/properties/0201105e4604bc784525d9cf0e972c40_images.jpg',\n",
       " 'http://assets.myntassets.com/v1/images/style/properties/3f475c2e490c2e2c653f10aa5a4a4506_images.jpg',\n",
       " 'http://assets.myntassets.com/v1/images/style/properties/5b427e7381af213df2d54a17cd193aea_images.jpg',\n",
       " 'http://assets.myntassets.com/v1/images/style/properties/ea497c53bbc69cb510e3f7b2fe4a7abb_images.jpg',\n",
       " 'http://assets.myntassets.com/v1/images/style/properties/47e0bf9f4a04bd6f5901c0f4fc65e54d_images.jpg',\n",
       " 'http://assets.myntassets.com/v1/images/style/properties/4f56561974db43db763f18a06caedbd0_images.jpg',\n",
       " 'http://assets.myntassets.com/v1/images/style/properties/75c8932f3b5a274c73e3c94f95540d7b_images.jpg',\n",
       " 'http://assets.myntassets.com/v1/images/style/properties/ColorBar-Soft-Touch-Mousse-Lipstick-025_9acb45fa8b3bc6021e8ef261642e9de1_images.jpg',\n",
       " 'http://assets.myntassets.com/v1/images/style/properties/bf2a4f36c9cc6b2fb51c5e7bad341681_images.jpg',\n",
       " 'http://assets.myntassets.com/v1/images/style/properties/ONLY-Women-directoire-blue-Trousers_9ad40a06ae4b8c071f84e12599c1c9b7_images.jpg',\n",
       " 'http://assets.myntassets.com/v1/images/style/properties/Colour-me-Women-Flowers-Deo_bbdd019aace399d86a7f5c4ba11f6881_images.jpg',\n",
       " 'http://assets.myntassets.com/v1/images/style/properties/fc3c1b46906d5c148c45f532d0b3ffb5_images.jpg',\n",
       " 'http://assets.myntassets.com/v1/images/style/properties/b195b911f558c0232e22849d1ca73193_images.jpg',\n",
       " 'http://assets.myntassets.com/v1/images/style/properties/cc658745ce38f9e09bec039a997155a9_images.jpg',\n",
       " 'http://assets.myntassets.com/v1/images/style/properties/d63e1260ab9823cd64cbe4336a5bb94d_images.jpg',\n",
       " 'http://assets.myntassets.com/v1/images/style/properties/5a76ef8930d8bd543d8f7e6f5383d390_images.jpg',\n",
       " 'http://assets.myntassets.com/v1/images/style/properties/f105cf31753c2cbdf23e8722dc83a019_images.jpg',\n",
       " 'http://assets.myntassets.com/v1/images/style/properties/Red-Rose-Maroon-Bra_c75c0ad76e53ba58736e6f8fd21d07b0_images.jpg',\n",
       " 'http://assets.myntassets.com/v1/images/style/properties/Probase-Men-Yellow-Boxers_80cada245724ee958e0c5721d51cfab7_images.jpg',\n",
       " 'http://assets.myntassets.com/v1/images/style/properties/8e4099bc672a376b156e1fe903fd5e16_images.jpg',\n",
       " 'http://assets.myntassets.com/v1/images/style/properties/895bed5b7e643c97fb880515cea0c930_images.jpg',\n",
       " 'http://assets.myntassets.com/v1/images/style/properties/b54b7d7f19b9dbb54c85c584719c46ef_images.jpg',\n",
       " 'http://assets.myntassets.com/v1/images/style/properties/ef9685293a987f515492addd034006bf_images.jpg',\n",
       " 'http://assets.myntassets.com/v1/images/style/properties/1279efc8b61fb461a804f0c1f82f276b_images.jpg',\n",
       " 'http://assets.myntassets.com/v1/images/style/properties/e2604389938f13f2cc1a772bba320a45_images.jpg',\n",
       " 'http://assets.myntassets.com/v1/images/style/properties/d0817a4778047d75a9d4f32e78b9b1fd_images.jpg',\n",
       " 'http://assets.myntassets.com/v1/images/style/properties/054b93509e888e996ba7b12b554870e3_images.jpg',\n",
       " 'http://assets.myntassets.com/v1/images/style/properties/9c0d1badace8d2eb9680232648e94d85_images.jpg',\n",
       " 'http://assets.myntassets.com/v1/images/style/properties/1dea61d01ec84aed63dcbb32adda717a_images.jpg',\n",
       " 'http://assets.myntassets.com/v1/images/style/properties/7b99e89eac30c7d4d78d54c8cc67e35a_images.jpg',\n",
       " 'http://assets.myntassets.com/v1/images/style/properties/b11805dfd1077ea3a4538fba3ffed149_images.jpg',\n",
       " 'http://assets.myntassets.com/v1/images/style/properties/c6a6fbe4d75e40529b7be5427d095142_images.jpg',\n",
       " 'http://assets.myntassets.com/v1/images/style/properties/4067d54c1f9caba707a51d665ef0e38e_images.jpg',\n",
       " 'http://assets.myntassets.com/v1/images/style/properties/88540c74d7d507c9371c5d9f37125ce1_images.jpg',\n",
       " 'http://assets.myntassets.com/v1/images/style/properties/a002d0eed07e5e2c140da41e8db2ddf7_images.jpg',\n",
       " 'http://assets.myntassets.com/v1/images/style/properties/98252134c6398e50aeebd873e6eafceb_images.jpg',\n",
       " 'http://assets.myntassets.com/v1/images/style/properties/5158808a5bdd60c8c8af6999f8481160_images.jpg',\n",
       " 'http://assets.myntassets.com/v1/images/style/properties/9c1df994bfd66e4485b82d0e74066d98_images.jpg',\n",
       " 'http://assets.myntassets.com/v1/images/style/properties/97b4da7324d9f9b3a6f507333141faae_images.jpg',\n",
       " 'http://assets.myntassets.com/v1/images/style/properties/493409fb23791fa2cb220289e92affd7_images.jpg',\n",
       " 'http://assets.myntassets.com/v1/images/style/properties/1d2eaf1491e0bf4906165ab1eaff3ad1_images.jpg',\n",
       " 'http://assets.myntassets.com/v1/images/style/properties/F-Sports-Men-White-Outlander-Sports-Shoes_b600b7c68b5e9dd8b56dcd8732ce0fda_images.jpg',\n",
       " 'http://assets.myntassets.com/v1/images/style/properties/Revlon-Gold-Dust-Poussiere-Doree-Colorburst-Lip-Gloss-024_ed41da69ac3f9c1c17cb6517a999b749_images.jpg',\n",
       " 'http://assets.myntassets.com/v1/images/style/properties/987d4390421e951dafe4bfdaba57f5fd_images.jpg',\n",
       " 'http://assets.myntassets.com/v1/images/style/properties/906c588711dcf840a61168758f463664_images.jpg',\n",
       " 'http://assets.myntassets.com/v1/images/style/properties/Police-Men-Steel-Dial-Watch_51e58f90f98b042641c9b54f09b54fd6_images.jpg',\n",
       " 'http://assets.myntassets.com/v1/images/style/properties/2e25195b2eaba31b89a991f2e0dbd532_images.jpg',\n",
       " 'http://assets.myntassets.com/v1/images/style/properties/ea051d39d65bfdcba994e6cd49061bd7_images.jpg',\n",
       " 'http://assets.myntassets.com/v1/images/style/properties/Estelle-Earrings_7271511bf974f34b0c0e80431617e034_images.jpg',\n",
       " 'http://assets.myntassets.com/v1/images/style/properties/144954d20ce2e31fe6953f3e249e9a68_images.jpg',\n",
       " 'http://assets.myntassets.com/v1/images/style/properties/a6ea6713bae041ef4f62d3612586d1ef_images.jpg',\n",
       " 'http://assets.myntassets.com/v1/images/style/properties/e9266175735b50a2f6d100ae2ef44fe6_images.jpg',\n",
       " 'http://assets.myntassets.com/v1/images/style/properties/8f3b9f4c5f554e39681567b22985966e_images.jpg',\n",
       " 'http://assets.myntassets.com/v1/images/style/properties/fae0ae76d008674551fbdbb64988ea51_images.jpg',\n",
       " 'http://assets.myntassets.com/v1/images/style/properties/58c4b740c2d2e9b52c6900579c7ff2d2_images.jpg',\n",
       " 'http://assets.myntassets.com/v1/images/style/properties/Puma-Men-White-and-Navy-Blue-Stripe-Polo-T-shirt_a81acd98afcadd66fa8ee8531c82ad46_images.jpg',\n",
       " 'http://assets.myntassets.com/v1/images/style/properties/416f7bd57546242fd72a817de0d517e5_images.jpg',\n",
       " 'http://assets.myntassets.com/v1/images/style/properties/9d4d7aa206e22813311c0a0406ce02a4_images.jpg',\n",
       " 'http://assets.myntassets.com/v1/images/style/properties/Colour-me-Men-Gold-Deo_73efa9034af7165f848dcc367558b461_images.jpg',\n",
       " 'http://assets.myntassets.com/v1/images/style/properties/6222ae36196ec90b30a683927c219428_images.jpg',\n",
       " 'http://assets.myntassets.com/v1/images/style/properties/Elle-Women-Dark-Pink-Top_ce0e1c18ffc47444dcb28bb7b78ae13f_images.jpg',\n",
       " 'http://assets.myntassets.com/v1/images/style/properties/5b0a6dd6aadd4d4ba230ff849b36481b_images.jpg',\n",
       " 'http://assets.myntassets.com/v1/images/style/properties/2a07ce87fedfca8928f12f3ddf6b7632_images.jpg',\n",
       " 'http://assets.myntassets.com/v1/images/style/properties/b057c9e8d5ccc63369807a12f67a39ac_images.jpg',\n",
       " 'http://assets.myntassets.com/v1/images/style/properties/f2d705addd04fcf5516aef873254441e_images.jpg',\n",
       " 'http://assets.myntassets.com/v1/images/style/properties/Red-Rose-Women-Bath-Robe_b47ef24153050e66fce7429a01204ca9_images.jpg',\n",
       " 'http://assets.myntassets.com/v1/images/style/properties/Puma-Unisex-White-Cap_d397dc3eb9ff8a12d079f08a9b6c430d_images.jpg',\n",
       " 'http://assets.myntassets.com/v1/images/style/properties/70506325cf800559ba06b15300846ea8_images.jpg',\n",
       " 'http://assets.myntassets.com/v1/images/style/properties/9234f2dacc377d713b7788f670f7bf9d_images.jpg',\n",
       " 'http://assets.myntassets.com/v1/images/style/properties/Coolers-Men-POKAR-Brown-Flip-Flops_8b247db935e7cfffb8f5a0b8d578f7bf_images.jpg',\n",
       " 'http://assets.myntassets.com/v1/images/style/properties/1041605c3decc95ef96c970da17ad051_images.jpg',\n",
       " 'http://assets.myntassets.com/v1/images/style/properties/Aurelia-Women-Navy-Blue-Kurta_269c51a0aa07f814b0d68df6b37d4113_images.jpg',\n",
       " 'http://assets.myntassets.com/v1/images/style/properties/c7a70ae4f57ca4c605f4fabb82c735fc_images.jpg',\n",
       " 'http://assets.myntassets.com/v1/images/style/properties/e87ae94ffdf37c089daaad8d451f6995_images.jpg',\n",
       " 'http://assets.myntassets.com/v1/images/style/properties/9f8463e724322e0b47cc9f615acab635_images.jpg',\n",
       " 'http://assets.myntassets.com/v1/images/style/properties/11dcaeada4fab2e575c449e922425c5d_images.jpg',\n",
       " 'http://assets.myntassets.com/v1/images/style/properties/3c92594cc9b62cba6a314a9ca9fd1e19_images.jpg',\n",
       " 'http://assets.myntassets.com/v1/images/style/properties/a576a21253c4cc6b7c04426389c1c58f_images.jpg',\n",
       " 'http://assets.myntassets.com/v1/images/style/properties/be1fc833328c2708141568e2476abe81_images.jpg',\n",
       " 'http://assets.myntassets.com/v1/images/style/properties/01c417703d7775105ba346c691f4700b_images.jpg',\n",
       " 'http://assets.myntassets.com/v1/images/style/properties/8e6291cb947f1d35eb4ebc3c73baf1eb_images.jpg',\n",
       " 'http://assets.myntassets.com/v1/images/style/properties/2811fe105e63b5795a6442edb85bb6cd_images.jpg',\n",
       " 'http://assets.myntassets.com/v1/images/style/properties/Catwalk-Women-Golden-Sandals_5fddd65067f3c7c0224439efc7a99ac8_images.jpg',\n",
       " 'http://assets.myntassets.com/v1/images/style/properties/97d87b20b1a8810ee10f617a8a7ccc52_images.jpg',\n",
       " 'http://assets.myntassets.com/v1/images/style/properties/018b322355f8a44f117488fee256049c_images.jpg',\n",
       " 'http://assets.myntassets.com/v1/images/style/properties/93455095a8c1bc951c7bd258b600dfa1_images.jpg',\n",
       " 'http://assets.myntassets.com/v1/images/style/properties/Classic-Polo-Mens-Swiss-Yellow-T-shirt_e87fa11cdb977d11d3e673a69f4a63db_images.jpg',\n",
       " 'http://assets.myntassets.com/v1/images/style/properties/7c9e2e7c405128361af34be207a439a2_images.jpg',\n",
       " 'http://assets.myntassets.com/v1/images/style/properties/749432e06d8d1b969077552ecebd9cd4_images.jpg',\n",
       " 'http://assets.myntassets.com/v1/images/style/properties/465863ba7b810b5ef6c516fe91c77308_images.jpg',\n",
       " 'http://assets.myntassets.com/v1/images/style/properties/9d76cb50cdc99a3519f78164dbc691ae_images.jpg',\n",
       " 'http://assets.myntassets.com/v1/images/style/properties/9dc3c008c07a5df5b46622ee5d8579de_images.jpg',\n",
       " 'http://assets.myntassets.com/v1/images/style/properties/a2a3d03e64b5041ab052d5a6b10d282a_images.jpg',\n",
       " 'http://assets.myntassets.com/v1/images/style/properties/b548017b7f2a2d8582c75ac1afeeb28b_images.jpg',\n",
       " 'http://assets.myntassets.com/v1/images/style/properties/b590f001fb08f324b17ce869686b27dc_images.jpg',\n",
       " 'http://assets.myntassets.com/v1/images/style/properties/Hanes-Men-Ultimate-Grey-Brief_0782bb329d30535e2a3bef5657940458_images.jpg',\n",
       " 'http://assets.myntassets.com/v1/images/style/properties/Revlon-Super-Lusterous-Mad-About-Mauve-Lipstick-304_82c2b163c41babfca78eeb61693c666d_images.jpg',\n",
       " 'http://assets.myntassets.com/v1/images/style/properties/ebe4131154706db0b3469237133343e2_images.jpg',\n",
       " 'http://assets.myntassets.com/v1/images/style/properties/83f4ab34db71459ba1f80bb8992cf9d5_images.jpg',\n",
       " 'http://assets.myntassets.com/v1/images/style/properties/Adidas-Unisex-Blue-Capf0fdfddb2e26677c8067afe9586c6cba_images.jpg',\n",
       " 'http://assets.myntassets.com/v1/images/style/properties/6c598ee94ff155384130481aec05525e_images.jpg',\n",
       " 'http://assets.myntassets.com/v1/images/style/properties/09fca1f67e3f78b18f76473749d93e59_images.jpg',\n",
       " 'http://assets.myntassets.com/v1/images/style/properties/9e616458a21ce9d3b0ddf0895b24df0b_images.jpg',\n",
       " 'http://assets.myntassets.com/v1/images/style/properties/10d750eb60726aff0c78cd599a20e0ab_images.jpg',\n",
       " 'http://assets.myntassets.com/v1/images/style/properties/5dfa5ed32e290bbaeedd937ecdaa9a8b_images.jpg',\n",
       " 'http://assets.myntassets.com/v1/images/style/properties/839c627c80dba9ac4412db3f35a52bb7_images.jpg',\n",
       " 'http://assets.myntassets.com/v1/images/style/properties/6934c2d1bc11313536fd82a1192a1d33_images.jpg',\n",
       " 'http://assets.myntassets.com/v1/images/style/properties/7909093ce4f956a24582b330a249d911_images.jpg',\n",
       " 'http://assets.myntassets.com/v1/images/style/properties/9473ae18face7603f7bdb4b6fda3d8e2_images.jpg',\n",
       " 'http://assets.myntassets.com/v1/images/style/properties/99808c9bdfee6165a0cec81d0219c1a1_images.jpg',\n",
       " 'http://assets.myntassets.com/v1/images/style/properties/Puma-Men-Olive-Techno-Ind-Sandal_3e7aa0b204f4317a017dfbefe260700b_images.jpg',\n",
       " 'http://assets.myntassets.com/v1/images/style/properties/8e3ddd6772fdb8b69c328402aa2baa0c_images.jpg',\n",
       " 'http://assets.myntassets.com/v1/images/style/properties/cbcfe2066b676f7852c6282f85dfc43b_images.jpg',\n",
       " 'http://assets.myntassets.com/v1/images/style/properties/17d5cdd77de6f87ee2451b98f3466d88_images.jpg',\n",
       " 'http://assets.myntassets.com/assets/images/55001/2018/3/9/11520591701090-Lakme-Absolute-Lip-Last-Day-Kiss-Lip-Colour-9831520591701048-1.jpg',\n",
       " 'http://assets.myntassets.com/v1/images/style/properties/f3dc8c5e7e7d7394150506a3f2f417c0_images.jpg',\n",
       " 'http://assets.myntassets.com/v1/images/style/properties/61d4d060e05c3e4ff1771c5e724d6c16_images.jpg',\n",
       " 'http://assets.myntassets.com/v1/images/style/properties/20e55321f145a292edb4cc9776ea1985_images.jpg',\n",
       " 'http://assets.myntassets.com/v1/images/style/properties/e1bba450764df5aed92151be769e42d0_images.jpg',\n",
       " 'http://assets.myntassets.com/v1/images/style/properties/Lovable-Women-Fiona-Purple-Bra_82e37d2949af0a30ff61f6f7fc80cadc_images.jpg',\n",
       " 'http://assets.myntassets.com/assets/images/27421/2015/11/23/11448283185049-Jockey-Women-Blue-Lounge-Pants-3621448283184622-1.jpg',\n",
       " 'http://assets.myntassets.com/v1/images/style/properties/Lotus-Herbals-Neem---Clove-Purifying-Face-Wash_576266f24033ada1522c55008afacea9_images.jpg',\n",
       " 'http://assets.myntassets.com/v1/images/style/properties/cd2a1ae491facf0acf36443998a0c217_images.jpg',\n",
       " 'http://assets.myntassets.com/v1/images/style/properties/3d8b78b013627f7e9d738ccec2972480_images.jpg',\n",
       " 'http://assets.myntassets.com/v1/images/style/properties/adc3a5566f4c3e9f3f729ab6f9e44c56_images.jpg',\n",
       " 'http://assets.myntassets.com/v1/images/style/properties/62f33289f2a1cbc88d6f8557a2c33638_images.jpg',\n",
       " 'http://assets.myntassets.com/v1/images/style/properties/Fabindia-Printed-Beige-Sari_b2b862ad19c18dc983c5cf843fe56bcc_images.jpg',\n",
       " 'http://assets.myntassets.com/v1/images/style/properties/e7559ae62df37abf5338b7992aa8c628_images.jpg',\n",
       " 'http://assets.myntassets.com/v1/images/style/properties/f202fe30bd9441e163b7fbcfcb53e8c2_images.jpg',\n",
       " 'http://assets.myntassets.com/v1/images/style/properties/33fe789a39b0590d649cd052e53b80b6_images.jpg',\n",
       " 'http://assets.myntassets.com/v1/images/style/properties/3c67058064553299e3cb62b79fedd1af_images.jpg',\n",
       " 'http://assets.myntassets.com/v1/images/style/properties/Lencia-Grey-Swarovski-Pearl-Necklace_8dca921b0f3b46449bbd5bb25f6f3dbb_images.jpg',\n",
       " 'http://assets.myntassets.com/v1/image/style/properties/45293/Casio-Women-Red-Dial-Watch_1_cc32a942220788a0b74c5708baff1e74.jpg',\n",
       " 'http://assets.myntassets.com/v1/images/style/properties/c2f94914c3151fa88bc00b924c9bea22_images.jpg',\n",
       " 'http://assets.myntassets.com/v1/images/style/properties/051884f22b637d9cf40922baecd8ff20_images.jpg',\n",
       " 'http://assets.myntassets.com/v1/images/style/properties/460dd2adbff063cc226b7146a811e7dc_images.jpg',\n",
       " 'http://assets.myntassets.com/v1/images/style/properties/79e693b484848f12265b4dd4a155fae9_images.jpg',\n",
       " 'http://assets.myntassets.com/v1/images/style/properties/907aca262d340d45f49d7d3690fdc953_images.jpg',\n",
       " 'http://assets.myntassets.com/v1/images/style/properties/a82a928bfbfba2e299574580ffa61dc9_images.jpg',\n",
       " 'http://assets.myntassets.com/v1/images/style/properties/8fa9232495f9cad5e31338c61f615afb_images.jpg',\n",
       " 'http://assets.myntassets.com/v1/images/style/properties/8ee197c54df34d4e59d56d847139fe49_images.jpg',\n",
       " 'http://assets.myntassets.com/v1/images/style/properties/2688bbbcf35b0e739e7d9e5039fd6cbf_images.jpg',\n",
       " 'http://assets.myntassets.com/v1/images/style/properties/4a0b8e5cd5f8b9fe8287301280ee204a_images.jpg',\n",
       " 'http://assets.myntassets.com/v1/images/style/properties/dc7e36dcafbb8aeb71dc2ebbd4427ca7_images.jpg',\n",
       " 'http://assets.myntassets.com/v1/images/style/properties/Van-Heusen-Unisex-Brown-Sunglasses_2099ffb4f8eb9fd28b80922f653aa42a_images.jpg',\n",
       " 'http://assets.myntassets.com/v1/images/style/properties/1e1ddab59626e99f7163c2c8c20743b6_images.jpg',\n",
       " 'http://assets.myntassets.com/v1/images/style/properties/Reebok-Men-Blue-Twist-Sandals_9d151773708628e8efa686c33561b54a_images.jpg',\n",
       " 'http://assets.myntassets.com/v1/images/style/properties/b5fe34a5c5a88054357f33b0d2b4ce46_images.jpg',\n",
       " 'http://assets.myntassets.com/v1/images/style/properties/d0e782df1a7287eb68da5806346605db_images.jpg',\n",
       " 'http://assets.myntassets.com/v1/images/style/properties/4642a9cf2604998cd7665a76a2bf87c1_images.jpg',\n",
       " 'http://assets.myntassets.com/v1/images/style/properties/Rasasi-Men-Emotion-Deo-and-Perfume-Set_f2bcc95e69a60ac6b5473ca68bcc5563_images.jpg',\n",
       " 'http://assets.myntassets.com/v1/images/style/properties/15324570d805103032f3a593d495aafe_images.jpg',\n",
       " 'http://assets.myntassets.com/v1/images/style/properties/9cad6be03b1e0b544055e140b526cb94_images.jpg',\n",
       " 'http://assets.myntassets.com/v1/images/style/properties/2dba90668d61bd7dd5e25a02d7612ee3_images.jpg',\n",
       " 'http://assets.myntassets.com/assets/images/55233/2018/5/3/11525323433330-Lakme-Nine-to-Five-Flawless-Makeup-Shell-Foundation-7251525323433284-1.jpg',\n",
       " 'http://assets.myntassets.com/v1/images/style/properties/6723c5b48a019f7940ac913e35240620_images.jpg',\n",
       " 'http://assets.myntassets.com/v1/images/style/properties/ec28a6e80636805d0bf993699b656c88_images.jpg',\n",
       " 'http://assets.myntassets.com/v1/images/style/properties/f8b19ba970bf91df7f4c1e263faa331c_images.jpg',\n",
       " 'http://assets.myntassets.com/v1/images/style/properties/5f2cc2a725967d426cc03f4a3fbb93c1_images.jpg',\n",
       " 'http://assets.myntassets.com/v1/images/style/properties/39873daedc5a92eef39894b612f5cbaf_images.jpg',\n",
       " 'http://assets.myntassets.com/v1/images/style/properties/279197619f868018854ce9bf9b812b87_images.jpg',\n",
       " 'http://assets.myntassets.com/v1/images/style/properties/6cb6a14583b044dca0a0bd9efc2fc4c7_images.jpg',\n",
       " 'http://assets.myntassets.com/v1/images/style/properties/b5df5f57f0feda7a42510b6ebedf4f4d_images.jpg',\n",
       " 'http://assets.myntassets.com/v1/images/style/properties/339f3148805bd725b88cebe54fd52d45_images.jpg',\n",
       " 'http://assets.myntassets.com/v1/images/style/properties/7f50a98d2319c37ba993f4bd39ec1df9_images.jpg',\n",
       " 'http://assets.myntassets.com/v1/images/style/properties/971d32f5f437a3e65d852648dd6bbdad_images.jpg',\n",
       " 'http://assets.myntassets.com/v1/images/style/properties/Calzini-Men-Pack-of-5-Sports-Socks_3056952ffdf96eaba3df0c68140a951b_images.jpg',\n",
       " 'http://assets.myntassets.com/v1/images/style/properties/Aneri-Women-Blue-Salwar-Suit_310b83bb9b3c42c1b2a9a0b63e612c78_images.jpg',\n",
       " 'http://assets.myntassets.com/v1/images/style/properties/f98d1337a330597f69db87bdcbe2c3f7_images.jpg',\n",
       " 'http://assets.myntassets.com/v1/images/style/properties/Elle-Women-Brown-Trousers_a7f66d28a9214c62dc8073fa66146018_images.jpg',\n",
       " 'http://assets.myntassets.com/v1/images/style/properties/fc4d12bcdc99ec17c6cbff23ce164f00_images.jpg',\n",
       " 'http://assets.myntassets.com/v1/images/style/properties/b996cb05ae7c16cabfa4cadc23818247_images.jpg',\n",
       " 'http://assets.myntassets.com/v1/images/style/properties/f12bab8f2514a0656f81aa863dd966c3_images.jpg',\n",
       " 'http://assets.myntassets.com/v1/images/style/properties/Rocky-S-Red-Clutch_6ef925fd1ad1ad8201c607dd14dd5ade_images.jpg',\n",
       " 'http://assets.myntassets.com/v1/images/style/properties/5dca5cfae72251582c7f14ac099212f3_images.jpg',\n",
       " 'http://assets.myntassets.com/v1/images/style/properties/Helix-Women-Silver-Dial-Watch_43fa66002d9a709539eb6ff7ed9384ce_images.jpg',\n",
       " 'http://assets.myntassets.com/v1/images/style/properties/90a495f259d10b2ff562dc0841721f7d_images.jpg',\n",
       " 'http://assets.myntassets.com/v1/images/style/properties/Titan-Men-Black-Dial-Watch_1b6fb70c7ca8b860eb0f3257b191e129_images.jpg',\n",
       " 'http://assets.myntassets.com/v1/images/style/properties/Morellato-Men-Black-Watch_75c8db9507b6fbde84d530568ac77b37_images.jpg',\n",
       " 'http://assets.myntassets.com/v1/images/style/properties/bf97cd1840466577838074675a9cbe1f_images.jpg',\n",
       " 'http://assets.myntassets.com/v1/images/style/properties/08be9002361c65ffa2e08a8f12464f56_images.jpg',\n",
       " 'http://assets.myntassets.com/v1/images/style/properties/8e033a452f0390d83a7c343f07177be0_images.jpg',\n",
       " 'http://assets.myntassets.com/v1/images/style/properties/86767de994125ef8c2482545f20aa370_images.jpg',\n",
       " 'http://assets.myntassets.com/v1/images/style/properties/f2be61ffbdcd20d97ef6aac78a1c3f58_images.jpg',\n",
       " 'http://assets.myntassets.com/v1/images/style/properties/6220c2b37ad0a42be62fb92b1d6c7e14_images.jpg',\n",
       " 'http://assets.myntassets.com/v1/images/style/properties/5f064c454ce1578a2a667d28872a0453_images.jpg',\n",
       " 'http://assets.myntassets.com/v1/images/style/properties/French-Connection-Women-Blue-Top_1230fe55a5335d7405f43cb5c43b3c90_images.jpg',\n",
       " 'http://assets.myntassets.com/v1/images/style/properties/e046ebf7dbb7ae5d9dd7980c21d264ac_images.jpg',\n",
       " 'http://assets.myntassets.com/v1/images/style/properties/1e3b40d501f5fbbceeab3879db474932_images.jpg',\n",
       " 'http://assets.myntassets.com/v1/images/style/properties/4ce7d857814ce0fec13e120fe55522c9_images.jpg',\n",
       " 'http://assets.myntassets.com/v1/images/style/properties/c572452716fa31fb03fa32d43629e335_images.jpg',\n",
       " 'http://assets.myntassets.com/v1/images/style/properties/9f9f083996862e825eb0ffb32ed9db31_images.jpg',\n",
       " 'http://assets.myntassets.com/v1/images/style/properties/11a62fad1b3fe096677f18cc0e7e75b9_images.jpg',\n",
       " 'http://assets.myntassets.com/v1/images/style/properties/749afc6258261f28bcd6b94c30f75cba_images.jpg',\n",
       " 'http://assets.myntassets.com/v1/images/style/properties/Puma-Men-Grey-T-shirt_cf275e8d9abdab9e307d6adbf8fc6d9f_images.jpg',\n",
       " 'http://assets.myntassets.com/v1/images/style/properties/Adidas-Men-Intense-Touch-100-ml-Perfume_97ab5eb6f4451e4af2913edbfde91f54_images.jpg',\n",
       " 'http://assets.myntassets.com/v1/images/style/properties/464879391de4e1a7b881dad3b7bd83a8_images.jpg',\n",
       " 'http://assets.myntassets.com/v1/images/style/properties/6addf68b5c1108a0db895cba2157c21f_images.jpg',\n",
       " 'http://assets.myntassets.com/v1/images/style/properties/689197cf54631e679c2db7ec742a6e09_images.jpg',\n",
       " 'http://assets.myntassets.com/v1/images/style/properties/f8bdfe085e37908f16bd5a9f16660748_images.jpg',\n",
       " 'http://assets.myntassets.com/v1/images/style/properties/SDL-by-Sweet-Dreams-Women-Pink---Black-Pyjama-Set_29ef1a45af8f10f5c12737350c74cfc5_images.jpg',\n",
       " 'http://assets.myntassets.com/v1/images/style/properties/dc428dc4301332468e7c6f8070c8f06b_images.jpg',\n",
       " 'http://assets.myntassets.com/v1/images/style/properties/07555cd5a97cd7ff5492fd344348dfcf_images.jpg',\n",
       " 'http://assets.myntassets.com/v1/images/style/properties/b150acdcab19e99002215aa95bffa983_images.jpg',\n",
       " 'http://assets.myntassets.com/v1/images/style/properties/91351f3c000928d10198c09cfa04611b_images.jpg',\n",
       " 'http://assets.myntassets.com/v1/images/style/properties/Lakme-Absolute-Matte-Merlot-Lipstick-45_bc13569d8288f127c70c917c9c75bb24_images.jpg',\n",
       " 'http://assets.myntassets.com/v1/images/style/properties/300c59d24b13b183d08ceee39e5e3aad_images.jpg',\n",
       " 'http://assets.myntassets.com/v1/images/style/properties/2ebe09ca473dc308c580e25f41fdd66f_images.jpg',\n",
       " 'http://assets.myntassets.com/v1/images/style/properties/0eeb810eac77b956c5b62381e1f3010b_images.jpg',\n",
       " 'http://assets.myntassets.com/v1/images/style/properties/FILA-Men-Sports-Shoes_f76566f76f49de0fdea5bedbe1c7db67_images.jpg',\n",
       " 'http://assets.myntassets.com/v1/images/style/properties/567c1373b2efe229d5da57fb9e3eef34_images.jpg',\n",
       " 'http://assets.myntassets.com/v1/images/style/properties/d839e1d71382ca6708416dbf6bfa9054_images.jpg',\n",
       " 'http://assets.myntassets.com/v1/images/style/properties/cd1874ab726cad7a6439f3886af1bd35_images.jpg',\n",
       " 'http://assets.myntassets.com/v1/images/style/properties/Image-Men-Sunglasses_f0ae900da0cad44ab4c6b106005185a1_images.jpg',\n",
       " 'http://assets.myntassets.com/v1/images/style/properties/4066aebdb467176a1e68e7b5c402130a_images.jpg',\n",
       " 'http://assets.myntassets.com/v1/images/style/properties/0454e503672f5f615a92e6c2a424bec6_images.jpg',\n",
       " 'http://assets.myntassets.com/v1/images/style/properties/5b7333bbf40e95f4c57e24d65903288d_images.jpg',\n",
       " 'http://assets.myntassets.com/v1/images/style/properties/1f3bf985f8d74b38a6606f020ea03146_images.jpg',\n",
       " 'http://assets.myntassets.com/v1/images/style/properties/84c52f370e03f1f4b0cc84d51d5022bb_images.jpg',\n",
       " 'http://assets.myntassets.com/v1/images/style/properties/8025d48579dca906daf4b3a72407715b_images.jpg',\n",
       " 'http://assets.myntassets.com/v1/images/style/properties/09edfdb4c1dc1478ea35507b0bdc41ce_images.jpg',\n",
       " 'http://assets.myntassets.com/v1/images/style/properties/2bbf55264e3e2ae8ed8763435341fb9e_images.jpg',\n",
       " 'http://assets.myntassets.com/v1/images/style/properties/6b1327e37cd1b6e78b1285ae76dff28a_images.jpg',\n",
       " 'http://assets.myntassets.com/v1/images/style/properties/cd76a36fca88fe74d1d25ee7fd96881a_images.jpg',\n",
       " 'http://assets.myntassets.com/v1/images/style/properties/7806d266865c89cb087a259ab7250e01_images.jpg',\n",
       " 'http://assets.myntassets.com/v1/images/style/properties/Tonga-Women-Grey-Top_f73ea340974e7cc7cb4db18f7889cec7_images.jpg',\n",
       " 'http://assets.myntassets.com/v1/images/style/properties/ab41fd1858b59cd914b435332ed2bffe_images.jpg',\n",
       " 'http://assets.myntassets.com/v1/images/style/properties/2cd34561dd4ed25df6d9fd070a9e88d9_images.jpg',\n",
       " 'http://assets.myntassets.com/v1/images/style/properties/048477a26c1da1d6aa87134c253ab97b_images.jpg',\n",
       " 'http://assets.myntassets.com/v1/images/style/properties/57601ed1977aecafecafbfb1fe49a424_images.jpg',\n",
       " 'http://assets.myntassets.com/v1/images/style/properties/a8b30e5a5ba28fc928c0b64cda5811e4_images.jpg',\n",
       " 'http://assets.myntassets.com/v1/images/style/properties/adf22f809f604e821145a616e4766061_images.jpg',\n",
       " 'http://assets.myntassets.com/v1/images/style/properties/FNF-Rust---Green-Collection-for-Wedding-Sari_8a5ee22b73ef48ec683e77ba3b8de5a4_images.jpg',\n",
       " 'http://assets.myntassets.com/v1/images/style/properties/79bf6743e22d6c1a225540a4ab1731a6_images.jpg',\n",
       " 'http://assets.myntassets.com/v1/images/style/properties/dc28614f846de2d3dd6d2935f88c4a01_images.jpg',\n",
       " 'http://assets.myntassets.com/v1/images/style/properties/ff75150c15d512495e88a438db10884d_images.jpg',\n",
       " 'http://assets.myntassets.com/v1/images/style/properties/Do-u-speak-Green-Girls-Olive-34-Pant_62311570aeebd7385030de554584a065_images.jpg',\n",
       " 'http://assets.myntassets.com/v1/images/style/properties/5c7d3d8c3d1d6cc0f1cdbe550220bc73_images.jpg',\n",
       " 'http://assets.myntassets.com/v1/images/style/properties/b6ce9035b4f54b8733940f2f10e2e0d4_images.jpg',\n",
       " 'http://assets.myntassets.com/v1/images/style/properties/d6c2a243dd5227d7ae5d10156477c38a_images.jpg',\n",
       " 'http://assets.myntassets.com/v1/images/style/properties/Vans-Men-Maroon---Grey-Era-Shoes_f95fd18a6cf5c1deede9c2a3304cfd2c_images.jpg',\n",
       " 'http://assets.myntassets.com/v1/images/style/properties/4a8e310b6a7184ea58ad3a7dc8590b27_images.jpg',\n",
       " 'http://assets.myntassets.com/v1/images/style/properties/be625a96a46f91544eb611751026314f_images.jpg',\n",
       " 'http://assets.myntassets.com/v1/images/style/properties/ceb79e65e6f47c0364f0e4dec3331178_images.jpg',\n",
       " 'http://assets.myntassets.com/v1/images/style/properties/0d44368c0dedf58c07d1ff32ee194abc_images.jpg',\n",
       " 'http://assets.myntassets.com/v1/images/style/properties/812fff8546b72c2f4bea1cf9a0ac0f13_images.jpg',\n",
       " 'http://assets.myntassets.com/v1/images/style/properties/Fossil-Men-Quartz-Chronograph-Watch_575c8fdbe42720059478b19e9dfd5e55_images.jpg',\n",
       " 'http://assets.myntassets.com/v1/images/style/properties/7cc9d6974c744535b7343cc863082311_images.jpg',\n",
       " 'http://assets.myntassets.com/v1/images/style/properties/eb3a69a17b6a64c1ad62a00796b91824_images.jpg',\n",
       " 'http://assets.myntassets.com/v1/images/style/properties/d9497aae4ed436340a1b6764ddc052ce_images.jpg',\n",
       " 'http://assets.myntassets.com/v1/images/style/properties/e0da05b38a2fe03cace0a8fbddc65006_images.jpg',\n",
       " 'http://assets.myntassets.com/v1/images/style/properties/33c356143683cffa7582fc7fa85d640f_images.jpg',\n",
       " 'http://assets.myntassets.com/v1/images/style/properties/6ad5930365254d23fcfd8aaabe39d7fd_images.jpg',\n",
       " 'http://assets.myntassets.com/v1/images/style/properties/ca1ea916513e30ffbd8d0f3d48460752_images.jpg',\n",
       " 'http://assets.myntassets.com/v1/images/style/properties/b51ddd8d00fdcb3261069363d18b6763_images.jpg',\n",
       " 'http://assets.myntassets.com/v1/images/style/properties/c6a98b1107df02d5791d0006235939df_images.jpg',\n",
       " 'http://assets.myntassets.com/v1/images/style/properties/819aca72eadcdd53e95d1631aae2e701_images.jpg',\n",
       " 'http://assets.myntassets.com/v1/images/style/properties/059445627a9611d38218864729d5eeb0_images.jpg',\n",
       " 'http://assets.myntassets.com/v1/images/style/properties/KIARA-Women-Brown-Handbag_98bb55cffd970f479b59b9e16d0713b6_images.jpg',\n",
       " 'http://assets.myntassets.com/v1/images/style/properties/332172e96e45f1a6d5ba979215736176_images.jpg',\n",
       " 'http://assets.myntassets.com/v1/images/style/properties/dabc32d2b3e99f80ef908374f84d161c_images.jpg',\n",
       " 'http://assets.myntassets.com/v1/images/style/properties/048fb21b5cddf5bf4bafb5b507ba9872_images.jpg',\n",
       " 'http://assets.myntassets.com/v1/images/style/properties/Fabindia-Silver-Earrings_35496103f164781c2264c2467b46a846_images.jpg',\n",
       " 'http://assets.myntassets.com/v1/images/style/properties/348a1c79e91c3c74047eecd5dd374957_images.jpg',\n",
       " 'http://assets.myntassets.com/v1/images/style/properties/Spice-Art-Women-Black-Handbag_2bf4728580599984a2a555db977b9e35_images.jpg',\n",
       " 'http://assets.myntassets.com/v1/images/style/properties/Allen-Solly-Women-Red-Shorts_a99033bbbb95bbf0b9cc2945a99e5f18_images.jpg',\n",
       " 'http://assets.myntassets.com/v1/images/style/properties/4ac891da14f596c2e69f75cfb8d1a56a_images.jpg',\n",
       " 'http://assets.myntassets.com/v1/images/style/properties/81780f9a8eebc7fb3d57ffffa7f455ae_images.jpg',\n",
       " 'http://assets.myntassets.com/v1/images/style/properties/08ba360a042300fffa932e37235edd6d_images.jpg',\n",
       " 'http://assets.myntassets.com/v1/images/style/properties/c42e34c84003a87f8fc0d5694e82d4c3_images.jpg',\n",
       " 'http://assets.myntassets.com/v1/images/style/properties/faf1d3dd73a661e25ed526e28fd8ea85_images.jpg',\n",
       " 'http://assets.myntassets.com/v1/images/style/properties/4d321b82e59d37960f77916416a4d594_images.jpg',\n",
       " 'http://assets.myntassets.com/v1/images/style/properties/2b2bb303e1b844960d62d84888b226e0_images.jpg',\n",
       " 'http://assets.myntassets.com/v1/images/style/properties/47d964476bfd4b4c30627d74c4f6a94d_images.jpg',\n",
       " 'http://assets.myntassets.com/v1/images/style/properties/Carlton-London-Women-Blue---Cream-Shoes_243d3b1aebc988e696a0ea409daff4bf_images.jpg',\n",
       " 'http://assets.myntassets.com/v1/images/style/properties/593368a3e9649a12de803e50fa2ed17a_images.jpg',\n",
       " 'http://assets.myntassets.com/v1/images/style/properties/54af17814bd8787468092abb74e7636a_images.jpg',\n",
       " 'http://assets.myntassets.com/v1/images/style/properties/John-Players-Men-Beige-Shorts_121cc979460c6139c92c31e560abc152_images.jpg',\n",
       " 'http://assets.myntassets.com/v1/images/style/properties/Rocky-S-Women-Beige-Handbag_cf13243aa8a7454917b557edd377d46e_images.jpg',\n",
       " 'http://assets.myntassets.com/v1/images/style/properties/ecfcc90e4ae597955732adf2680b9fa3_images.jpg',\n",
       " 'http://assets.myntassets.com/v1/images/style/properties/78bf924de236777a9bc6662b076449e4_images.jpg',\n",
       " 'http://assets.myntassets.com/v1/images/style/properties/0a031662373e7c27ae1415f5afb76e42_images.jpg',\n",
       " 'http://assets.myntassets.com/v1/images/style/properties/f811ce4aaa2f4c37fc962f2c069f0ee4_images.jpg',\n",
       " 'http://assets.myntassets.com/v1/images/style/properties/6703b9bc9762e04f4e53afaa0aaecb3d_images.jpg',\n",
       " 'http://assets.myntassets.com/v1/images/style/properties/Titan-Women-White-Watch_4f0365e5beb2f39bd6f333064101cb06_images.jpg',\n",
       " 'http://assets.myntassets.com/v1/images/style/properties/1c2d217895f9a1bf02a20b09084491da_images.jpg',\n",
       " 'http://assets.myntassets.com/v1/images/style/properties/2e95da933ac14a9c46b2629146a5ad51_images.jpg',\n",
       " 'http://assets.myntassets.com/v1/images/style/properties/51e88043cd7d2b28569c641fdb2fdc4c_images.jpg',\n",
       " 'http://assets.myntassets.com/v1/images/style/properties/Enamor-Rose-Full-Figure-Bra_d04d8cdbc6cef8399424eb4aa236a47b_images.jpg',\n",
       " 'http://assets.myntassets.com/v1/images/style/properties/305e775fce152c8d7ad4334dee5d2cae_images.jpg',\n",
       " 'http://assets.myntassets.com/v1/images/style/properties/f100c2c689ac3bf1ecbf643b1921c001_images.jpg',\n",
       " 'http://assets.myntassets.com/v1/images/style/properties/85d720a91f528535d65276aabff0ee69_images.jpg',\n",
       " 'http://assets.myntassets.com/v1/images/style/properties/fb270d2a6f06ba2d0736b2700ee916eb_images.jpg',\n",
       " 'http://assets.myntassets.com/v1/images/style/properties/6b6891bafdee4f7a91dc6198bb172de1_images.jpg',\n",
       " 'http://assets.myntassets.com/v1/images/style/properties/70ffebcb332030e98e65461076ac2fb0_images.jpg',\n",
       " 'http://assets.myntassets.com/v1/images/style/properties/0e1d36b05c6bd99ed90a50af5f4000a7_images.jpg',\n",
       " 'http://assets.myntassets.com/v1/images/style/properties/0c4bbbabc7387cf6190f60f42d28782c_images.jpg',\n",
       " 'http://assets.myntassets.com/v1/images/style/properties/4dcc3b32e48ebb49502a3384edff6ccf_images.jpg',\n",
       " 'http://assets.myntassets.com/v1/images/style/properties/39cef2982137215d71ed41a558159659_images.jpg',\n",
       " 'http://assets.myntassets.com/v1/images/style/properties/cd8e03fcea2341e5cf5dfad3a47734d3_images.jpg',\n",
       " 'http://assets.myntassets.com/assets/images/57563/2016/11/21/11479705887376-Lotus-Herbals-Pure-Colours-Nutty-Brown-Lipstick-666-2131479705887284-1.jpg',\n",
       " 'http://assets.myntassets.com/v1/images/style/properties/Mother-Earth-Women-Red-Kurta_573ea7192ffd5b39893b3eda44983b1f_images.jpg',\n",
       " 'http://assets.myntassets.com/v1/images/style/properties/8801f4359aee713a7036663fd1684d60_images.jpg',\n",
       " 'http://assets.myntassets.com/v1/images/style/properties/9aeb7516044919916346d95f0a5d2c99_images.jpg',\n",
       " 'http://assets.myntassets.com/v1/images/style/properties/Lino-Perros-Women-Silver-Clutchd9e16c28cd153b082ef61c4f6765a109_images.jpg',\n",
       " 'http://assets.myntassets.com/v1/images/style/properties/2dd0e7200dcf5daacf75e84254cf44da_images.jpg',\n",
       " 'http://assets.myntassets.com/v1/images/style/properties/Wildcraft-Unisex-Black---Grey-Printed-Duffle-Bag-Cum-Backpack_690474057244f1cc1f6c1f546fe244e9_images.jpg',\n",
       " 'http://assets.myntassets.com/v1/images/style/properties/a37f66d6f15149ddeeaf17f4cdfd13d3_images.jpg',\n",
       " 'http://assets.myntassets.com/v1/images/style/properties/ddb28ca95c2f393d91fbc1480d4052b8_images.jpg',\n",
       " 'http://assets.myntassets.com/v1/images/style/properties/9af8eb6d150cbf09178137613fb1e594_images.jpg',\n",
       " 'http://assets.myntassets.com/v1/images/style/properties/8705fb78a89aedee509372dabeb00045_images.jpg',\n",
       " 'http://assets.myntassets.com/v1/images/style/properties/3fa8e7f3bd3eeb217a8cb060d1db2567_images.jpg',\n",
       " 'http://assets.myntassets.com/v1/images/style/properties/45238d144ec35bc28a35230fb0f7934b_images.jpg',\n",
       " 'http://assets.myntassets.com/v1/images/style/properties/b470ee8121b08981d0e1385aaf7b4f46_images.jpg',\n",
       " 'http://assets.myntassets.com/v1/images/style/properties/91352b9549b9c0d570180dd1be12738d_images.jpg',\n",
       " 'http://assets.myntassets.com/v1/images/style/properties/Van-Heusen-Unisex-Brown-Sunglasses_c9daa6b4b86307e4a8ce1f4576923e67_images.jpg',\n",
       " 'http://assets.myntassets.com/v1/images/style/properties/c80c08ee91ff76e9ef5f3ec53fc6b6a7_images.jpg',\n",
       " 'http://assets.myntassets.com/v1/images/style/properties/8adcbdc72af005d52b053e6dd93ecc2c_images.jpg',\n",
       " 'http://assets.myntassets.com/v1/images/style/properties/70545e7653ee98ed7a82d2b13fc2d93b_images.jpg',\n",
       " 'http://assets.myntassets.com/v1/images/style/properties/Proline-Men-Grey-Track-Pants_0bfd1e2ecdfb383b0b95593b68ef704d_images.jpg',\n",
       " 'http://assets.myntassets.com/assets/images/55234/2018/5/3/11525323471619-Lakme-9to5-Flawless-Makeup-Marble-Foundation-7751525323471576-1.jpg',\n",
       " 'http://assets.myntassets.com/v1/images/style/properties/783442c36bbe6603d9bd4b370af1bf9f_images.jpg',\n",
       " 'http://assets.myntassets.com/v1/images/style/properties/40b830e01b25eee921ea6c1ba16f1629_images.jpg',\n",
       " 'http://assets.myntassets.com/v1/images/style/properties/8ad35a71d39ef0432055771175ca3adc_images.jpg',\n",
       " 'http://assets.myntassets.com/v1/images/style/properties/9eb242530f597631a641415ccee785eb_images.jpg',\n",
       " 'http://assets.myntassets.com/v1/images/style/properties/261167465883f9d74752dfbcb912fa60_images.jpg',\n",
       " 'http://assets.myntassets.com/v1/images/style/properties/Puma-Men-Ferrari-Lifestyle-Red-Cap_48586ae4176104869e154c76a09aace4_images.jpg',\n",
       " 'http://assets.myntassets.com/v1/images/style/properties/0f5f0082a3413804e4f2adc80d59a3bb_images.jpg',\n",
       " 'http://assets.myntassets.com/v1/images/style/properties/Chromozome-Men-Charcoal-Pack-of-Two-Trunks_eee242524c525aeba025d69edbfac784_images.jpg',\n",
       " 'http://assets.myntassets.com/v1/images/style/properties/768a928ae2726a525ee2a7142b977491_images.jpg',\n",
       " 'http://assets.myntassets.com/v1/images/style/properties/f71789410ce672f1c9c1be939ecd9f7e_images.jpg',\n",
       " 'http://assets.myntassets.com/v1/images/style/properties/4a043d1c950303676ebb777a1f31efde_images.jpg',\n",
       " 'http://assets.myntassets.com/v1/images/style/properties/Lakme-Sheer-Satin-Lip-Gloss-51_a10d5925678851da0b94a7e230f4e6e9_images.jpg',\n",
       " 'http://assets.myntassets.com/v1/images/style/properties/bcb01252e8d12d743d85d0001586fee0_images.jpg',\n",
       " 'http://assets.myntassets.com/v1/images/style/properties/edc8bd246a01901b33b58dad2aba1386_images.jpg',\n",
       " 'http://assets.myntassets.com/assets/images/27426/2016/2/8/11454933652080-Jockey-Women-Grey-Melange-Shorts-1291454933651500-1.jpg',\n",
       " 'http://assets.myntassets.com/v1/images/style/properties/683aba986f6883e3a5c64fb97c994342_images.jpg',\n",
       " 'http://assets.myntassets.com/v1/images/style/properties/0eb97e007901b52825760ea05ab73f09_images.jpg',\n",
       " 'http://assets.myntassets.com/v1/images/style/properties/03ebf01907cd1829a47dd66600543a56_images.jpg',\n",
       " 'http://assets.myntassets.com/v1/images/style/properties/ab539228aaa6b834a99eef6cf339c057_images.jpg',\n",
       " 'http://assets.myntassets.com/v1/images/style/properties/94ff278a731ad83bf42f0b44ebd6e38b_images.jpg',\n",
       " 'http://assets.myntassets.com/v1/images/style/properties/b6ba990c288d73cee599dedcd27e1098_images.jpg',\n",
       " 'http://assets.myntassets.com/v1/images/style/properties/9598b35f6e2de51542d2c2ef9110f86b_images.jpg',\n",
       " 'http://assets.myntassets.com/v1/images/style/properties/ALayna-Women-Off-White-Kurta_7bcf85e4b08cb7c1dd41f805d4dfae1d_images.jpg',\n",
       " 'http://assets.myntassets.com/v1/images/style/properties/5c439c0c29672ff85b3aaafb66a43ae8_images.jpg',\n",
       " 'http://assets.myntassets.com/v1/images/style/properties/244ce269d1bb4273bdf95a427083ef2a_images.jpg',\n",
       " 'http://assets.myntassets.com/assets/images/45294/2016/2/11/11455184679645-Casio-Women-Black-Dial-Watch-6591455184679230-1.jpg',\n",
       " 'http://assets.myntassets.com/v1/images/style/properties/Lencia-White-Swarovski-Pearl-Necklace_e5da32190af372b0a3a58a27f6616450_images.jpg',\n",
       " 'http://assets.myntassets.com/v1/images/style/properties/45f254c1992b0d9a55adf6c7c7f20ed8_images.jpg',\n",
       " 'http://assets.myntassets.com/v1/images/style/properties/841e642f22d1031b940126b54f3fe2bc_images.jpg',\n",
       " 'http://assets.myntassets.com/v1/images/style/properties/4384892e6c432bcd6aad44d1e3792437_images.jpg',\n",
       " 'http://assets.myntassets.com/v1/images/style/properties/Gliders-Men-Brown-Leather-Sandals_95633c99c7d10aa8995f5c3d6920374d_images.jpg',\n",
       " 'http://assets.myntassets.com/v1/images/style/properties/d4622bdcbde3a2544ce0ba6c4ae4541b_images.jpg',\n",
       " 'http://assets.myntassets.com/v1/images/style/properties/Yelloe-Black-Animal-Print-Clutche15b6d1186ace2eb2a844cf143e0e597_images.jpg',\n",
       " 'http://assets.myntassets.com/v1/images/style/properties/bb406db0fb2f98a1a49538fc1b14c444_images.jpg',\n",
       " 'http://assets.myntassets.com/v1/images/style/properties/e12348ff6e8ce788a82060aa7bbd55f6_images.jpg',\n",
       " 'http://assets.myntassets.com/v1/images/style/properties/cf493bdbb43980ef920fbc7b0186defb_images.jpg',\n",
       " 'http://assets.myntassets.com/v1/images/style/properties/1f7c87ee0ac12c35df8c1dd28e2cd692_images.jpg',\n",
       " 'http://assets.myntassets.com/v1/images/style/properties/7a987d9396adbb584aa6ceb2cca10fa0_images.jpg',\n",
       " 'http://assets.myntassets.com/v1/images/style/properties/Revlon-Super-Lustrous-Plum-Baby-Lipstick-313_fa487d6576dd8b154e41518ee55a70e5_images.jpg',\n",
       " 'http://assets.myntassets.com/v1/images/style/properties/5c145f1074d79ebf9aff413ccfe6e910_images.jpg',\n",
       " 'http://assets.myntassets.com/v1/images/style/properties/Adidas-Unisex-Green-Cape37522dbe6fd8d3810a3b39ef9aa6f2e_images.jpg',\n",
       " 'http://assets.myntassets.com/v1/images/style/properties/Arrow-Men-Black---Brown-Reversible-Belt_869df184bfc3eb57e41573e7b3b7c076_images.jpg',\n",
       " 'http://assets.myntassets.com/v1/images/style/properties/ff487d5e2a7f343d35859997db375cab_images.jpg',\n",
       " 'http://assets.myntassets.com/v1/images/style/properties/Reid---Taylor-Men-Wallets_96ad37ba32edf59cba28a45efa7d9571_images.jpg',\n",
       " 'http://assets.myntassets.com/v1/images/style/properties/Amante-Women-AmanteWhiteBra-White-Bra_377ee108d4470e931fb1c5bab38ed295_images.jpg',\n",
       " 'http://assets.myntassets.com/v1/images/style/properties/Modacc-Women-Black-Handbag_bc90660f883df700267dfac2d919b455_images.jpg',\n",
       " 'http://assets.myntassets.com/v1/images/style/properties/dedbae54d5a67c52c6b08cb832f50622_images.jpg',\n",
       " 'http://assets.myntassets.com/v1/images/style/properties/1c40d2b94c58f8037380b197a26f567d_images.jpg',\n",
       " 'http://assets.myntassets.com/v1/images/style/properties/Puma-Men-Black-T-shirt_d019196a9f38dbfea90a6f38649bfef6_images.jpg',\n",
       " 'http://assets.myntassets.com/v1/images/style/properties/Lotto-Women-Blue---Red-Disco-Holic-Flip-Flops_0eabb4ca00b0b575b10fa37c8c8bd4a0_images.jpg',\n",
       " 'http://assets.myntassets.com/v1/images/style/properties/07932c2277eda49d29639f0fe3c4e4c6_images.jpg',\n",
       " 'http://assets.myntassets.com/v1/images/style/properties/63db656dc4734d22a042a82d4d2220b4_images.jpg',\n",
       " 'http://assets.myntassets.com/v1/images/style/properties/36fea288ee96091dc00afe5c45ba4805_images.jpg',\n",
       " 'http://assets.myntassets.com/v1/images/style/properties/167dfcd0f558d3963d42cb9d98961f95_images.jpg',\n",
       " 'http://assets.myntassets.com/v1/images/style/properties/265eaf9a05b99fdb4dbe35b18b471e8d_images.jpg',\n",
       " 'http://assets.myntassets.com/v1/images/style/properties/Elle-Women-Green-Essentials-Top_4005e959727a4e1d62466cbac510a810_images.jpg',\n",
       " 'http://assets.myntassets.com/v1/images/style/properties/29fd56a0b77043ee672235e0cfd353cc_images.jpg',\n",
       " 'http://assets.myntassets.com/v1/images/style/properties/80ffbb3edcd94ef2b348c5e53dc29621_images.jpg',\n",
       " 'http://assets.myntassets.com/v1/images/style/properties/Colour-Me-Women-Pink-Perfume_0fce837cf337e245edf7830f2884376d_images.jpg',\n",
       " 'http://assets.myntassets.com/assets/images/52475/2016/1/4/11451906716090-Red-Rose-Women-White--Red-Polka-Dot-Print-Bath-Robe-8241451906713582-1.jpg',\n",
       " 'http://assets.myntassets.com/v1/images/style/properties/a63da69bf6b0a00d95dde7d444f57bc5_images.jpg',\n",
       " 'http://assets.myntassets.com/v1/images/style/properties/fc3c2314edb31f522eab09b78ebede00_images.jpg',\n",
       " 'http://assets.myntassets.com/v1/images/style/properties/ca603a625578f83eebaa222051bb442b_images.jpg',\n",
       " 'http://assets.myntassets.com/v1/images/style/properties/60e3adcc93dac38c1a11aeff00b90822_images.jpg',\n",
       " 'http://assets.myntassets.com/v1/images/style/properties/fa0228df29b9f0e6f46a58f62fed8038_images.jpg',\n",
       " 'http://assets.myntassets.com/v1/images/style/properties/Aurelia-Women-Black-Kurta_c4c320f95ca75370cd5968f71c1e94f0_images.jpg',\n",
       " 'http://assets.myntassets.com/v1/images/style/properties/9d22cd623d2c887d649df21a6a1758ce_images.jpg',\n",
       " 'http://assets.myntassets.com/v1/images/style/properties/01e181b9f43cdda40a21b6f05e97666c_images.jpg',\n",
       " 'http://assets.myntassets.com/v1/images/style/properties/83e6f0f11f87f208f15e833fede48f5c_images.jpg',\n",
       " 'http://assets.myntassets.com/v1/images/style/properties/552349c3a71d91b9f26a26d66dafc5fa_images.jpg',\n",
       " 'http://assets.myntassets.com/v1/images/style/properties/c50036bd2469e6bceef6f8ac1c34fe8e_images.jpg',\n",
       " 'http://assets.myntassets.com/v1/images/style/properties/072446b47aeccf5ef6837c6ec38dee0c_images.jpg',\n",
       " 'http://assets.myntassets.com/v1/images/style/properties/b1d9e4498de202e29570bd08090f26a9_images.jpg',\n",
       " 'http://assets.myntassets.com/v1/images/style/properties/8680d7b6d8acbf1405c70fb76d61c50d_images.jpg',\n",
       " 'http://assets.myntassets.com/v1/images/style/properties/844538a2e29332348d82db7ac9e654f3_images.jpg',\n",
       " 'http://assets.myntassets.com/v1/images/style/properties/32d7552ec969da21fa44144d0feacd1b_images.jpg',\n",
       " 'http://assets.myntassets.com/v1/images/style/properties/ffd7ff3429c7b21608356a3151f9d3d4_images.jpg',\n",
       " 'http://assets.myntassets.com/v1/images/style/properties/18df81e244e799aeac9f715dd9465b2d_images.jpg',\n",
       " 'http://assets.myntassets.com/v1/images/style/properties/Catwalk-Women-Multi-coloured-Heels_be86b9c7d80ce88c557298beaad57be2_images.jpg',\n",
       " 'http://assets.myntassets.com/v1/images/style/properties/1b95cb05b0764bd86a680349f5d6fb1f_images.jpg',\n",
       " 'http://assets.myntassets.com/v1/images/style/properties/UCB-Womens-Crystal-Benetton-Green-T-shirt_b968dc92b9557aa699a993e633f3ec77_images.jpg',\n",
       " 'http://assets.myntassets.com/v1/images/style/properties/87321ab7962a30b2e9b01fa16997029c_images.jpg',\n",
       " 'http://assets.myntassets.com/v1/images/style/properties/94218ed43f33a3f01c61df343a0260f3_images.jpg',\n",
       " 'http://assets.myntassets.com/v1/images/style/properties/Lucera-Women-Silver-Ring_f10d9935a0b8f21d6127ff07fb615643_images.jpg',\n",
       " 'http://assets.myntassets.com/v1/images/style/properties/071dd59248e30f876b273d0cd2b6ec2b_images.jpg',\n",
       " 'http://assets.myntassets.com/v1/images/style/properties/Jealous-21-Women-Teal-Shirt_33d3c1ebfd4326101c5d138dbef83c65_images.jpg',\n",
       " 'http://assets.myntassets.com/v1/images/style/properties/4c6e1b047904fe55b1b3fd4e1f26afea_images.jpg',\n",
       " 'http://assets.myntassets.com/v1/images/style/properties/250838b0730b8630f23237809398b114_images.jpg',\n",
       " 'http://assets.myntassets.com/v1/images/style/properties/2558270228d27a0f9c0d6eff4e540c0d_images.jpg',\n",
       " 'http://assets.myntassets.com/v1/images/style/properties/F-Sports-Men-Black-Pace-Sports-Shoes_564a9fd92f55538cafab82567a7fbce3_images.jpg',\n",
       " 'http://assets.myntassets.com/v1/images/style/properties/Aspen-Women-White-Dial-Watch_afe4ddc9872ccf04a851dd843b7b1203_images.jpg',\n",
       " 'http://assets.myntassets.com/v1/images/style/properties/Police-Men-Black-Dial-Watch_a6fcb77e1c453be2e1f5837a29cf258d_images.jpg',\n",
       " 'http://assets.myntassets.com/v1/images/style/properties/4ef2abf41a4d35aec21fa772bb74adf5_images.jpg',\n",
       " 'http://assets.myntassets.com/v1/images/style/properties/5b8f4d8f89d556b20cdba75bad71a23e_images.jpg',\n",
       " 'http://assets.myntassets.com/v1/images/style/properties/Revlon-Color-Brust-Hot-Pink-Lip-Gloss-10_edeac468abc18e53ae151c9947320d1b_images.jpg',\n",
       " 'http://assets.myntassets.com/v1/images/style/properties/Estelle-Earrings_1ea09ecbdb3e6808144918ecab70122a_images.jpg',\n",
       " 'http://assets.myntassets.com/v1/images/style/properties/95be55c54f165083eaf611739c261183_images.jpg',\n",
       " 'http://assets.myntassets.com/v1/images/style/properties/3fab2ad9e05ab42350a215e39a88e81e_images.jpg',\n",
       " 'http://assets.myntassets.com/v1/images/style/properties/33924b87c12a1b72deb3c8297cf9a72d_images.jpg',\n",
       " 'http://assets.myntassets.com/v1/images/style/properties/6e87fe4893ca930227d3491f46947783_images.jpg',\n",
       " 'http://assets.myntassets.com/v1/images/style/properties/0411da3a022ade1d11dfb7affdc6f536_images.jpg',\n",
       " 'http://assets.myntassets.com/v1/images/style/properties/2b27b053871a6e9325c0f422fe92b67a_images.jpg',\n",
       " 'http://assets.myntassets.com/v1/images/style/properties/241cb3c033e40196e1c7ce5f21f20ad5_images.jpg',\n",
       " 'http://assets.myntassets.com/v1/images/style/properties/4f0ccca7a9e076bbb478348e321df468_images.jpg',\n",
       " 'http://assets.myntassets.com/v1/images/style/properties/Puma-Men-Green-and-Blue-Striped-Polo-T-shirt_a59ed8a1d192b9095cb5904aae3d2783_images.jpg',\n",
       " 'http://assets.myntassets.com/v1/images/style/properties/7f98a5ed0ace114dd53496079ebf66be_images.jpg',\n",
       " 'http://assets.myntassets.com/v1/images/style/properties/ONLY-Women-Orange-Trousers_317f0e045fb28b45820102148bdc4f7b_images.jpg',\n",
       " 'http://assets.myntassets.com/assets/images/56021/2018/2/16/11518767275065-Colorbar-Soft-Touch-Venus-Lipstick-034-1191518767275028-1.jpg',\n",
       " 'http://assets.myntassets.com/v1/images/style/properties/15921a3a0cb13a30a920f8bfbef3c7ed_images.jpg',\n",
       " 'http://assets.myntassets.com/v1/images/style/properties/f1d954cfacfc79f32325794d43b6c3a0_images.jpg',\n",
       " 'http://assets.myntassets.com/v1/images/style/properties/1397081a5a637d539b0197aae4a6855e_images.jpg',\n",
       " 'http://assets.myntassets.com/v1/images/style/properties/Cavallini-Women-Deo_24f86c03497ca88209bc4639565152ad_images.jpg',\n",
       " 'http://assets.myntassets.com/v1/images/style/properties/Peri-Peri-Women-White-Bra_e94a285c2c2dfc0ab742eda172d0e2c3_images.jpg',\n",
       " 'http://assets.myntassets.com/v1/images/style/properties/29363780401bc3b628796450214d5266_images.jpg',\n",
       " 'http://assets.myntassets.com/v1/images/style/properties/Red-Rose-Pink---Black-Nightdress_7135320d1c8d8a91765103eacd79ff19_images.jpg',\n",
       " 'http://assets.myntassets.com/v1/images/style/properties/sOliver-Women-Grey-Shirt_cefde0d6bd0b74888e9d34814be33deb_images.jpg',\n",
       " 'http://assets.myntassets.com/v1/images/style/properties/ace210a5d0c0192e586736ceef135dff_images.jpg',\n",
       " 'http://assets.myntassets.com/v1/images/style/properties/4fb51b6af9daa7d7e7b37a54ee98d6a8_images.jpg',\n",
       " 'http://assets.myntassets.com/v1/images/style/properties/aaf0b739cd9003999c599bc0fba283e4_images.jpg',\n",
       " 'http://assets.myntassets.com/v1/images/style/properties/95dd8b87ceff0247a70579ba850c0164_images.jpg',\n",
       " 'http://assets.myntassets.com/v1/images/style/properties/b4912a94db18a093e185d9e4c2649edf_images.jpg',\n",
       " 'http://assets.myntassets.com/v1/images/style/properties/5ab7fb83e0891f3453746c9a073e3ec6_images.jpg',\n",
       " 'http://assets.myntassets.com/v1/images/style/properties/91a4e27feeff9df032dab2f078513732_images.jpg',\n",
       " 'http://assets.myntassets.com/v1/images/style/properties/c8c6fd3233823726f484da6b7007f016_images.jpg',\n",
       " 'http://assets.myntassets.com/v1/images/style/properties/967bf381f8fa631bae7830f11c6f3aaa_images.jpg',\n",
       " 'http://assets.myntassets.com/v1/images/style/properties/2302abf56311dd985dd4f2227f3159e5_images.jpg',\n",
       " 'http://assets.myntassets.com/v1/images/style/properties/Enamor-Women-Peach-Bra_92f183113d2e2308280712d09ba91658_images.jpg',\n",
       " 'http://assets.myntassets.com/v1/images/style/properties/115e53e76402ea9af077f2d5e44a7ea4_images.jpg',\n",
       " 'http://assets.myntassets.com/v1/images/style/properties/4082c1426acb0becf0a683c7632bdefb_images.jpg',\n",
       " 'http://assets.myntassets.com/v1/images/style/properties/e8b9dff957e93239e3dc85fbb4711eea_images.jpg',\n",
       " 'http://assets.myntassets.com/v1/images/style/properties/cf5d17a1ea049fde4d93c31d7a5d3249_images.jpg',\n",
       " 'http://assets.myntassets.com/v1/images/style/properties/8c29f66ec78e78081504b6ad73e6af8b_images.jpg',\n",
       " 'http://assets.myntassets.com/v1/images/style/properties/19bcac6a0dfadc76e51f433c21353070_images.jpg',\n",
       " 'http://assets.myntassets.com/v1/images/style/properties/2a09216723dc52a345f4b19213147e0d_images.jpg',\n",
       " 'http://assets.myntassets.com/v1/images/style/properties/69b55593f043e59513642eeea29a737b_images.jpg',\n",
       " 'http://assets.myntassets.com/v1/images/style/properties/65b6116e73b95222a12a01d5460b0e85_images.jpg',\n",
       " 'http://assets.myntassets.com/v1/images/style/properties/Lotus-Herbals-Moistpetals-Rudy-Pink-Lipstick-140_fa1c58eb5de4afa96296ebd0d17aede2_images.jpg',\n",
       " 'http://assets.myntassets.com/v1/images/style/properties/30bdfec62477379208f3867499e951da_images.jpg',\n",
       " 'http://assets.myntassets.com/v1/images/style/properties/b9828d5eb23f75d6cb4ba5a66f292b83_images.jpg',\n",
       " 'http://assets.myntassets.com/v1/images/style/properties/ee72992612c863eb745e67ffdfd710ce_images.jpg',\n",
       " 'http://assets.myntassets.com/v1/images/style/properties/d2a8d3e7f53e9eb31a35f84f100b5def_images.jpg',\n",
       " 'http://assets.myntassets.com/v1/images/style/properties/4a4b697ef1fe5d38b38c85a357e21364_images.jpg',\n",
       " 'http://assets.myntassets.com/v1/images/style/properties/8e313b831ecb312d445cb49176d23b8f_images.jpg',\n",
       " 'http://assets.myntassets.com/v1/images/style/properties/9854a566783e31b6172f1deab77281fa_images.jpg',\n",
       " 'http://assets.myntassets.com/v1/images/style/properties/2168c1954a31148429a42e0b4713da75_images.jpg',\n",
       " 'http://assets.myntassets.com/v1/images/style/properties/45cf3125c4b4d62a70d092642cb20ade_images.jpg',\n",
       " 'http://assets.myntassets.com/v1/images/style/properties/14a0d59953458f475aefe3feda05a59c_images.jpg',\n",
       " 'http://assets.myntassets.com/assets/images/51660/2016/5/20/11463745871517-Fossil-Men-Black-Dial-Watch-AM4384-9531463745871355-1.jpg',\n",
       " 'http://assets.myntassets.com/v1/images/style/properties/a3740805ecd4cfcc325c62f31f36ac19_images.jpg',\n",
       " 'http://assets.myntassets.com/v1/images/style/properties/fe55685f6ea6d6adffb2591f2c72135e_images.jpg',\n",
       " 'http://assets.myntassets.com/v1/images/style/properties/a537d39e1561221aed28102099c90c66_images.jpg',\n",
       " 'http://assets.myntassets.com/v1/images/style/properties/036080ad254438901d32fb0e3c6369e6_images.jpg',\n",
       " 'http://assets.myntassets.com/v1/images/style/properties/6fb082f65d44f4202ec31a692072c670_images.jpg',\n",
       " 'http://assets.myntassets.com/v1/images/style/properties/b1ff46e8d902c8cf2eb2664e792014a6_images.jpg',\n",
       " 'http://assets.myntassets.com/v1/images/style/properties/440c755b5bf8e95bd75d3a8b511f96da_images.jpg',\n",
       " 'http://assets.myntassets.com/v1/images/style/properties/f23c4d59eb6ca3cd621c3db690e0c708_images.jpg',\n",
       " 'http://assets.myntassets.com/v1/images/style/properties/6e945cb500ebcec2187d5289389062d4_images.jpg',\n",
       " 'http://assets.myntassets.com/v1/images/style/properties/ea3f97ed1d89b449b782c01da33591b3_images.jpg',\n",
       " 'http://assets.myntassets.com/v1/images/style/properties/6ddb4d4164841bb5cef5b7b7f282d563_images.jpg',\n",
       " 'http://assets.myntassets.com/v1/images/style/properties/c7118251a3a216f7667ba45f8f621ccc_images.jpg',\n",
       " 'http://assets.myntassets.com/v1/images/style/properties/1cd4ff69be2545cf4bd12e62f3c68890_images.jpg',\n",
       " 'http://assets.myntassets.com/v1/images/style/properties/5e64f7d7273ccbd20f45fd27c20f2d5b_images.jpg',\n",
       " 'http://assets.myntassets.com/v1/images/style/properties/850fe0b3abd042bd9af245d22f884528_images.jpg',\n",
       " 'http://assets.myntassets.com/v1/images/style/properties/f8d3472a2bd68974dda67781d80156ce_images.jpg',\n",
       " 'http://assets.myntassets.com/v1/images/style/properties/64c62f3e3406deb5326d7bf6f4c417f4_images.jpg',\n",
       " 'http://assets.myntassets.com/v1/images/style/properties/bf609f778c0433c073cf4857238104eb_images.jpg',\n",
       " 'http://assets.myntassets.com/v1/images/style/properties/942600076a8ee0acef2e6ac94bafbc17_images.jpg',\n",
       " 'http://assets.myntassets.com/v1/images/style/properties/Nike-Unisex-U-Black-Capsaef73c0e1cbf3f01b86867ee3cb01263_images.jpg',\n",
       " 'http://assets.myntassets.com/v1/images/style/properties/24f753782c9608794f668bb11e121a37_images.jpg',\n",
       " 'http://assets.myntassets.com/v1/images/style/properties/37da655b48ef258563ea85941746348b_images.jpg',\n",
       " 'http://assets.myntassets.com/v1/images/style/properties/793eb55fe964506704a09f4113f6fe19_images.jpg',\n",
       " 'http://assets.myntassets.com/v1/images/style/properties/97dd8facb3d7f56c2c92dc4d29e456ed_images.jpg',\n",
       " 'http://assets.myntassets.com/v1/images/style/properties/bb16165bfc63aacfc18bd93325220359_images.jpg',\n",
       " 'http://assets.myntassets.com/v1/images/style/properties/d0ee2c3d9795f7a1d0f5679e3a6cde55_images.jpg',\n",
       " 'http://assets.myntassets.com/v1/images/style/properties/821d377e49f3aa198c1937e9793099a6_images.jpg',\n",
       " 'http://assets.myntassets.com/v1/images/style/properties/Maxima-Men-White-Dial-Watch_2c70c1ed41ee4cd5fdc723fce9187a94_images.jpg',\n",
       " 'http://assets.myntassets.com/v1/images/style/properties/Levis-Men-Navy-Blue-Brief_c16b7fac8aaf798d7c9b9fe48afc1d8a_images.jpg',\n",
       " 'http://assets.myntassets.com/v1/images/style/properties/Q-Q-Men-Steel-Digital-Watch_e51dddb12b940435f212771f64dfc98b_images.jpg',\n",
       " 'http://assets.myntassets.com/v1/images/style/properties/105c607753deea7b4ae6bc41d51661ee_images.jpg',\n",
       " 'http://assets.myntassets.com/v1/images/style/properties/150dc3ae68a4b567aad9e604044ff122_images.jpg',\n",
       " 'http://assets.myntassets.com/v1/images/style/properties/bcb241296d93b8198038571a64f99b97_images.jpg',\n",
       " 'http://assets.myntassets.com/v1/images/style/properties/9d0dd0e253b33b263398d4bf0e13b4af_images.jpg',\n",
       " 'http://assets.myntassets.com/assets/images/45260/2018/3/5/11520251183737-CASIO-G-Shock-Men-Black-Digital-Watch-G001-5601520251183526-1.jpg',\n",
       " 'http://assets.myntassets.com/v1/images/style/properties/659ca18f067f9fb78cc7824eaf1d165e_images.jpg',\n",
       " 'http://assets.myntassets.com/v1/images/style/properties/Adidas-Men-Navy-Blue-Sweatshirt_be449d995ae665cbce81fbce0d69ea1e_images.jpg',\n",
       " 'http://assets.myntassets.com/v1/images/style/properties/95b4fd12eab9acd511b805a11601c92c_images.jpg',\n",
       " 'http://assets.myntassets.com/v1/images/style/properties/ab1244dde780b3a3275ff5ace796ecf3_images.jpg',\n",
       " 'http://assets.myntassets.com/v1/images/style/properties/8f19a26145719f3b827d29e1d82dc969_images.jpg',\n",
       " 'http://assets.myntassets.com/v1/images/style/properties/9fbf62acb109790ee9cf91bf5594cf5c_images.jpg',\n",
       " 'http://assets.myntassets.com/v1/images/style/properties/French-Connection-Women-Beige-Clutch_41c343d3db1461f9ba4fd8e5e0211906_images.jpg',\n",
       " 'http://assets.myntassets.com/assets/images/55833/2019/1/10/b111ce8e-7f66-4319-b753-90a5580f08221547122964116-Colorbar-Glamour-Radiant-Glow-001-6691547122964016-1.jpg',\n",
       " 'http://assets.myntassets.com/assets/images/46418/2016/1/11/11452508572308-Timex-Men-Olive-Green-Dial-Watch-DV10-6571452508571875-1.jpg',\n",
       " 'http://assets.myntassets.com/v1/images/style/properties/1e295b7875db19e9378ece6bb0bf23f8_images.jpg',\n",
       " 'http://assets.myntassets.com/v1/images/style/properties/d6b11ef3c249b0534ead09f4c42f3f2b_images.jpg',\n",
       " 'http://assets.myntassets.com/v1/images/style/properties/6b27c58fd2eb926c7f9b9d5efc0c1818_images.jpg',\n",
       " 'http://assets.myntassets.com/v1/images/style/properties/288e3c2cd409935a0e01540f7057859d_images.jpg',\n",
       " 'http://assets.myntassets.com/v1/images/style/properties/5489e314ba8c88e1641bf549fbf6ad0d_images.jpg',\n",
       " 'http://assets.myntassets.com/v1/images/style/properties/8580e2e688a9ccf9b2bb20e3a89c69cc_images.jpg',\n",
       " 'http://assets.myntassets.com/v1/images/style/properties/7de446d3e6ec4218c2a71e76aa91ce5a_images.jpg',\n",
       " 'http://assets.myntassets.com/v1/images/style/properties/Lotus-Herbals-Jojobawash-Face-Wash_f4d1e20721e77abd1c7d75e378f09f7b_images.jpg',\n",
       " 'http://assets.myntassets.com/v1/images/style/properties/ff765bacfb935d26ebd72c44547cde93_images.jpg',\n",
       " 'http://assets.myntassets.com/v1/images/style/properties/ab1fe16c66350052ecb0ade9502ebcca_images.jpg',\n",
       " 'http://assets.myntassets.com/v1/images/style/properties/015d474f1a5f2759e4cff6b78ef7bb2d_images.jpg',\n",
       " 'http://assets.myntassets.com/v1/images/style/properties/c48c9cad79bcb6e7563bbb292192d8c7_images.jpg',\n",
       " 'http://assets.myntassets.com/v1/images/style/properties/9772297f624ac9384d9b349fe62cdc1d_images.jpg',\n",
       " 'http://assets.myntassets.com/v1/images/style/properties/851760e82d34ebdc4b38d0dcd399e3f2_images.jpg',\n",
       " 'http://assets.myntassets.com/v1/images/style/properties/3f605d586102ca09379cc592e697610a_images.jpg',\n",
       " 'http://assets.myntassets.com/v1/images/style/properties/8fb251ea403fab32952058a73088aeb2_images.jpg',\n",
       " 'http://assets.myntassets.com/v1/images/style/properties/Wildcraft-Unisex-Orange-Chalk-Bag_b52edc6279b3e1f016a8e7d822a0b2d6_images.jpg',\n",
       " 'http://assets.myntassets.com/v1/images/style/properties/03024db69975ad4be6f33eb928e08f96_images.jpg',\n",
       " 'http://assets.myntassets.com/v1/images/style/properties/9972e0224ec65fe016e2703e8576475a_images.jpg',\n",
       " 'http://assets.myntassets.com/v1/images/style/properties/21decd2edae167eecd19870c7e879e3e_images.jpg',\n",
       " 'http://assets.myntassets.com/v1/images/style/properties/b102d8273537781b5cc6b28a929c501c_images.jpg',\n",
       " 'http://assets.myntassets.com/v1/images/style/properties/Basics-Men-White-T-shirt_09fac0ea8036d4de33ceec2351630e04_images.jpg',\n",
       " 'http://assets.myntassets.com/v1/images/style/properties/11371998e15f21cf032b30fdba5e972c_images.jpg',\n",
       " 'http://assets.myntassets.com/v1/images/style/properties/121642283d962bd7397e6d615345cb43_images.jpg',\n",
       " 'http://assets.myntassets.com/v1/images/style/properties/8dc1ff8347d5114e89baee9aeebfa68d_images.jpg',\n",
       " 'http://assets.myntassets.com/v1/images/style/properties/b4a93449c1fd4666bf2572c3d8d9763d_images.jpg',\n",
       " 'http://assets.myntassets.com/v1/images/style/properties/United-Colors-of-Benetton-Women-Sunglass_49a571ec79bd31b21bebc48eaf89dc47_images.jpg',\n",
       " 'http://assets.myntassets.com/v1/images/style/properties/d66a2ecd159e4e9b8f73856bc49cc26c_images.jpg',\n",
       " 'http://assets.myntassets.com/v1/images/style/properties/6a6896f41351e322a0beb82f444b0251_images.jpg',\n",
       " 'http://assets.myntassets.com/v1/images/style/properties/cfdb8d86d2a58e31cf47ad9106a7cf27_images.jpg',\n",
       " 'http://assets.myntassets.com/assets/images/36905/2016/5/20/11463745835251-Fossil-Men-Black-Dial-Watch-ME1113-3451463745835125-1.jpg',\n",
       " 'http://assets.myntassets.com/v1/images/style/properties/French-Connection-Men-White-T-shirt_48e05ffbe5d9005728594678420f7a3c_images.jpg',\n",
       " 'http://assets.myntassets.com/v1/images/style/properties/Puma-Unisex-Black-Backpack_93048ae205ab1474008b7a4efd4219b2_images.jpg',\n",
       " 'http://assets.myntassets.com/v1/images/style/properties/9ba6a4c84ec057a0ccd9a1a559b16531_images.jpg',\n",
       " 'http://assets.myntassets.com/v1/images/style/properties/5209f6e3a73471f764528cf56902d50b_images.jpg',\n",
       " 'http://assets.myntassets.com/v1/images/style/properties/Peri-Peri-Women-Black-Bra_2cf09a3a63a883806f14fa3c351007da_images.jpg',\n",
       " 'http://assets.myntassets.com/v1/images/style/properties/0834f6ae67b7891d53e9a0d612a6fe46_images.jpg',\n",
       " 'http://assets.myntassets.com/v1/images/style/properties/b70d4b2a4a1aab207368a75db5327917_images.jpg',\n",
       " 'http://assets.myntassets.com/v1/images/style/properties/0c378df9234ae3b2cf1b9f45d9fda3e3_images.jpg',\n",
       " 'http://assets.myntassets.com/v1/images/style/properties/0295bfcf59cb9a1066e44415b5108461_images.jpg',\n",
       " 'http://assets.myntassets.com/v1/images/style/properties/efa0a68179993f78b8b710b5e27f5554_images.jpg',\n",
       " 'http://assets.myntassets.com/v1/images/style/properties/853a100f5d3d8c1e8ef88b41ca0d2c88_images.jpg',\n",
       " 'http://assets.myntassets.com/v1/images/style/properties/Fastrack-Men-White-Stiches-Brown-Belts_d65df135bf78b95f729f5e0b4868bd3d_images.jpg',\n",
       " 'http://assets.myntassets.com/v1/images/style/properties/b11b94d5243d093905e5a5b20cfd4880_images.jpg',\n",
       " 'http://assets.myntassets.com/v1/images/style/properties/617c3ae8332e7ace12ceaa500bdeddec_images.jpg',\n",
       " 'http://assets.myntassets.com/v1/images/style/properties/d5aff6e7c302aeb65ba08ec3f4a81040_images.jpg',\n",
       " 'http://assets.myntassets.com/v1/images/style/properties/de79d341584312b09b3af7968b5146f4_images.jpg',\n",
       " 'http://assets.myntassets.com/v1/images/style/properties/Inc5-Women-Brown-Casual-Sandals_b942bed0e0fe8a1bdebfe77e8d6014db_images.jpg',\n",
       " 'http://assets.myntassets.com/v1/images/style/properties/06cc852ed1afab724ce3e88089a7e27f_images.jpg',\n",
       " 'http://assets.myntassets.com/v1/images/style/properties/c8c70971b1f7161865e49623121ba10a_images.jpg',\n",
       " 'http://assets.myntassets.com/v1/images/style/properties/2d9c7cf072865c543cf4405c798bddd3_images.jpg',\n",
       " 'http://assets.myntassets.com/v1/images/style/properties/0d5b2f896f80fc803118b823fe79d1c7_images.jpg',\n",
       " 'http://assets.myntassets.com/v1/images/style/properties/Lucera-Women-Silver-Ring_5d162856c37b870f1273a8fc1923b5cf_images.jpg',\n",
       " 'http://assets.myntassets.com/v1/images/style/properties/9fd9eaba65ab73f9860505d46894efb8_images.jpg',\n",
       " 'http://assets.myntassets.com/v1/images/style/properties/e63d4b367eeb7bfb99c2b11fa8082e75_images.jpg',\n",
       " 'http://assets.myntassets.com/v1/images/style/properties/Helix-Women-Black-Watch_53672b2d26b2cfa4870ab333f98b94b9_images.jpg',\n",
       " 'http://assets.myntassets.com/v1/images/style/properties/26cb109d81f58b1d89bd221d7111f4cf_images.jpg',\n",
       " 'http://assets.myntassets.com/v1/images/style/properties/3c1282e51eb6c43ff789db59376f9c02_images.jpg',\n",
       " 'http://assets.myntassets.com/v1/images/style/properties/442b28f764a40d8defe99095aca7bcab_images.jpg',\n",
       " 'http://assets.myntassets.com/v1/images/style/properties/1954feb80a70a495099a1c9b3868cebb_images.jpg',\n",
       " 'http://assets.myntassets.com/v1/images/style/properties/adf8000f76b545306c6e284c518a60fc_images.jpg',\n",
       " 'http://assets.myntassets.com/v1/image/style/properties/41259/Arrow-Men-Brown-Wallet_1_b251de97852a02a341c13ad721d5b8ce.jpg',\n",
       " 'http://assets.myntassets.com/v1/images/style/properties/f0fbf247458326317521ec367f72a2a7_images.jpg',\n",
       " 'http://assets.myntassets.com/v1/images/style/properties/8ecd514f28da61172ad5a38e58079315_images.jpg',\n",
       " 'http://assets.myntassets.com/v1/images/style/properties/724a329e2ac5bcf1aadfc7fda484cba9_images.jpg',\n",
       " 'http://assets.myntassets.com/v1/images/style/properties/6cdbcb8a0c91f6f08a5eca566a30ba9e_images.jpg',\n",
       " 'http://assets.myntassets.com/v1/images/style/properties/618749890e73cc6094d688ec6fa17287_images.jpg',\n",
       " 'http://assets.myntassets.com/v1/images/style/properties/2fb9b4426226b19e83c8363be89733e9_images.jpg',\n",
       " 'http://assets.myntassets.com/assets/images/56028/2019/1/11/79ad8d1e-ae5d-40a5-99f6-d4b4ac57867e1547190851117-Colorbar-Soft-Touch-Spring-Fling-Lipstick-023-30315471908508-1.jpg',\n",
       " 'http://assets.myntassets.com/v1/images/style/properties/e5b5823706a1c890f4300f30c92f59b2_images.jpg',\n",
       " 'http://assets.myntassets.com/v1/images/style/properties/Red-Rose-Red-Bra_64099f0aef908cd3497d33ddb05c43b3_images.jpg',\n",
       " 'http://assets.myntassets.com/v1/images/style/properties/Global-Desi-Women-Red-Kurta_df19e6470157467637aa52222a974e2a_images.jpg',\n",
       " 'http://assets.myntassets.com/v1/images/style/properties/1109685531795f17aca2acaba2ab39ad_images.jpg',\n",
       " 'http://assets.myntassets.com/v1/images/style/properties/Aneri-Women-Multi-Coloured-Tunic_394955836bc5b226b11e9dfcd559c900_images.jpg',\n",
       " 'http://assets.myntassets.com/v1/images/style/properties/3a9f62b28cc78e42ffc030e179f8a438_images.jpg',\n",
       " 'http://assets.myntassets.com/v1/images/style/properties/3892cb9dff0774f694ea34308089f19d_images.jpg',\n",
       " 'http://assets.myntassets.com/v1/images/style/properties/d2c51e11e302a66c19404b878b89258d_images.jpg',\n",
       " 'http://assets.myntassets.com/v1/images/style/properties/Baggit-Women-Brown-Bag_6b49e42c5b0c732f17bf454a6ed25a78_images.jpg',\n",
       " 'http://assets.myntassets.com/v1/images/style/properties/42a205d41cbc445ed70f474ed4998964_images.jpg',\n",
       " 'http://assets.myntassets.com/v1/images/style/properties/255daaace4d0099d51f7de22e7cedcbd_images.jpg',\n",
       " 'http://assets.myntassets.com/v1/images/style/properties/e3d6cb0e7317d4f11dd66f6b88291da9_images.jpg',\n",
       " 'http://assets.myntassets.com/v1/images/style/properties/d09964022188d673f03b5b115c9e47b6_images.jpg',\n",
       " 'http://assets.myntassets.com/v1/images/style/properties/e5da26ddf18c9b985c5609f0baca8048_images.jpg',\n",
       " 'http://assets.myntassets.com/v1/images/style/properties/3322c8321e6ac84429057df99b267669_images.jpg',\n",
       " 'http://assets.myntassets.com/v1/images/style/properties/9f4e03cbd7c16ee4a0c6c6a8ff166c49_images.jpg',\n",
       " 'http://assets.myntassets.com/v1/images/style/properties/8661e9c00b03eafaf8f718a1ed058c5c_images.jpg',\n",
       " 'http://assets.myntassets.com/v1/images/style/properties/678a1d2dfc786e7b0ed966a151d5ca92_images.jpg',\n",
       " 'http://assets.myntassets.com/v1/images/style/properties/Fabindia-Women-Blue-Kurta_d3a2356bf545c420dbe6870bc5834efc_images.jpg',\n",
       " 'http://assets.myntassets.com/v1/images/style/properties/Police-Men-Black-Chronograph-Dial-Watch_3f4a959644fffdb92a258fd14ac4a39b_images.jpg',\n",
       " 'http://assets.myntassets.com/v1/images/style/properties/2f660848a91c238cbaa44f9f01e65a26_images.jpg',\n",
       " 'http://assets.myntassets.com/v1/images/style/properties/61cb9703bb506a0b9671988c015ac432_images.jpg',\n",
       " 'http://assets.myntassets.com/v1/images/style/properties/6e0e3cadb479ef0bcc1e7b328e14fdd7_images.jpg',\n",
       " 'http://assets.myntassets.com/v1/images/style/properties/1f284f26ca5c625921b49c01b0089ccc_images.jpg',\n",
       " 'http://assets.myntassets.com/v1/images/style/properties/ce7a82b5bff5ddefe718d8aea080c7d7_images.jpg',\n",
       " 'http://assets.myntassets.com/v1/images/style/properties/c7918d7e238e8a7c735d5f3adfaeb78f_images.jpg',\n",
       " 'http://assets.myntassets.com/v1/images/style/properties/Puma-Men-Blue-T-shirt_b9642574a453cdfbae1f58e468187928_images.jpg',\n",
       " 'http://assets.myntassets.com/v1/images/style/properties/7d9d9ce41e8d57949ccc350e9cd699de_images.jpg',\n",
       " 'http://assets.myntassets.com/v1/images/style/properties/Titan-Men-White-Watch_4a096c721912e73a43fff73398626a2a_images.jpg',\n",
       " 'http://assets.myntassets.com/v1/images/style/properties/2aacd81da075c8d9cb891276bd9dbc9e_images.jpg',\n",
       " 'http://assets.myntassets.com/v1/images/style/properties/Do-u-speak-Off-White-Men-T-shirt_61eae1ea7af11b36fa4ed14a9f99f234_images.jpg',\n",
       " 'http://assets.myntassets.com/v1/images/style/properties/59d86dcc7301f53b5b3e963148ed7f5f_images.jpg',\n",
       " 'http://assets.myntassets.com/v1/images/style/properties/65e0186e6f5cc9c636f5a724461328e5_images.jpg',\n",
       " 'http://assets.myntassets.com/v1/images/style/properties/ea8233bb58cd14966d58903798d6acbc_images.jpg',\n",
       " 'http://assets.myntassets.com/v1/images/style/properties/9f2acc54981dd59cff1ff4be9f0cc91f_images.jpg',\n",
       " 'http://assets.myntassets.com/v1/images/style/properties/8b1c19f33a7ab230c7b37aa9e6996f71_images.jpg',\n",
       " 'http://assets.myntassets.com/v1/images/style/properties/4ca7b866daa3c0c62dcd4415a70ba01a_images.jpg',\n",
       " 'http://assets.myntassets.com/v1/images/style/properties/85a672861b73e66b706c36c53bf17166_images.jpg',\n",
       " 'http://assets.myntassets.com/v1/images/style/properties/c5042fbf31ee45fb5f928c608dc38936_images.jpg',\n",
       " 'http://assets.myntassets.com/v1/images/style/properties/1444d5d46afd24d8b02cfa41cc402b50_images.jpg',\n",
       " 'http://assets.myntassets.com/v1/images/style/properties/3b6ba277e7ff2c5760bd90c3d5c464ac_images.jpg',\n",
       " 'http://assets.myntassets.com/assets/images/45269/2018/3/2/11519971005835-Casio-Youth-Digital-Men-Black-Small-Dial-Digital-Watch-I065-W-210-1CVDF-8321519971005729-1.jpg',\n",
       " 'http://assets.myntassets.com/v1/images/style/properties/4bfce78151c396213aa4ce1ad204468b_images.jpg',\n",
       " 'http://assets.myntassets.com/v1/images/style/properties/FNF-Pink---Green-Collection-For-Wedding-Sari_3ca2c40f68f32302fcc91da027a5ec23_images.jpg',\n",
       " 'http://assets.myntassets.com/v1/images/style/properties/1d16b7a631810087d206ebcc2af4bcea_images.jpg',\n",
       " 'http://assets.myntassets.com/v1/images/style/properties/0dc1b1d7f865d06c674a7cdd79a0fb02_images.jpg',\n",
       " 'http://assets.myntassets.com/v1/images/style/properties/f65d3cb6d44062c1d10bbb1fc6662ad6_images.jpg',\n",
       " 'http://assets.myntassets.com/v1/images/style/properties/KIARA-Women-Brown-Handbag_7ea76a5eb5e306eb2139fc4eeb1dd572_images.jpg',\n",
       " 'http://assets.myntassets.com/v1/images/style/properties/63db367d013158c0913c1a54006e8318_images.jpg',\n",
       " 'http://assets.myntassets.com/v1/images/style/properties/ffc9598b1e94bff82942673c1a3bb641_images.jpg',\n",
       " 'http://assets.myntassets.com/v1/images/style/properties/Tokyo-Talkies-Women-Blue-Top_27a7cfa009105155b58792318967328c_images.jpg',\n",
       " 'http://assets.myntassets.com/assets/images/25982/2017/9/16/11505544699779-JDel-Pozo-In-White-Women-Perfume-8581505544700085-1.jpg',\n",
       " 'http://assets.myntassets.com/v1/images/style/properties/e3361edd25f563df9fbd726877dd413d_images.jpg',\n",
       " 'http://assets.myntassets.com/v1/images/style/properties/319fda051993c59afd7733c81f1fe74e_images.jpg',\n",
       " 'http://assets.myntassets.com/v1/images/style/properties/ae9b19f9e5b20995dd206e0400b2dbce_images.jpg',\n",
       " 'http://assets.myntassets.com/v1/images/style/properties/f738249673da002d005bb3df98aa19ba_images.jpg',\n",
       " 'http://assets.myntassets.com/v1/image/style/properties/51669/Louis-Philippe-Men-Grey-Sunglasses_1_c75b3dc92d6a6aff6266a8b4aa6b111f.jpg',\n",
       " 'http://assets.myntassets.com/v1/images/style/properties/a953166dfe7afbf8aafd557a1136dc46_images.jpg',\n",
       " 'http://assets.myntassets.com/v1/images/style/properties/4f71fdaa2c5525b17889355b506f4fcb_images.jpg',\n",
       " 'http://assets.myntassets.com/v1/images/style/properties/a4913e2a3323327ef224e634f48a857c_images.jpg',\n",
       " 'http://assets.myntassets.com/v1/images/style/properties/c481346a8ed1ce44ec54b459af7de08a_images.jpg',\n",
       " 'http://assets.myntassets.com/v1/images/style/properties/d072eb974267faa980a5b503b57ffe29_images.jpg',\n",
       " 'http://assets.myntassets.com/v1/images/style/properties/24297ac545ea122a3c333be495b7b5cd_images.jpg',\n",
       " 'http://assets.myntassets.com/v1/images/style/properties/cbb9a5395615600720954d56a002755c_images.jpg',\n",
       " 'http://assets.myntassets.com/v1/images/style/properties/538e095d6e2d1fe70731f5a14c154f2a_images.jpg',\n",
       " 'http://assets.myntassets.com/v1/images/style/properties/a988e2db84a21293fb9597b3a3bc0348_images.jpg',\n",
       " 'http://assets.myntassets.com/v1/images/style/properties/affe3aa43d16e7d72433a0a2d82cfc9d_images.jpg',\n",
       " 'http://assets.myntassets.com/v1/images/style/properties/Rocia-Women-Brown-Sandals_3a40e00dee9152dc562fe36fca7553cc_images.jpg',\n",
       " 'http://assets.myntassets.com/v1/images/style/properties/8dfd8801f1cdaa6b3a815f6f97f6dac7_images.jpg',\n",
       " 'http://assets.myntassets.com/v1/images/style/properties/716d324f6205e0013f19ce90a73cf72e_images.jpg',\n",
       " 'http://assets.myntassets.com/v1/images/style/properties/2f9629f9059f8124c582c4aca13f64b9_images.jpg',\n",
       " 'http://assets.myntassets.com/v1/images/style/properties/92d24a8ca7434697dd67e7c57bfefade_images.jpg',\n",
       " 'http://assets.myntassets.com/v1/images/style/properties/02d77ac6bf8e51ea28378b0f1bfd7e00_images.jpg',\n",
       " 'http://assets.myntassets.com/v1/images/style/properties/d239ef6926e4717a238faba074bb369a_images.jpg',\n",
       " 'http://assets.myntassets.com/v1/images/style/properties/Morellato-Men-Navy-Blue-Watch_4ad3b02c33059d8b1b19a35669773445_images.jpg',\n",
       " 'http://assets.myntassets.com/v1/images/style/properties/US-Polo-Assn-Men-Striped-Blue-Shirt_38cb59ca2ee59260900514765132a7e9_images.jpg',\n",
       " 'http://assets.myntassets.com/v1/images/style/properties/7a1e785e8f20a59d8262680cfc1bc808_images.jpg',\n",
       " 'http://assets.myntassets.com/v1/images/style/properties/c409e1086cf84af1e6f56d7899e762f8_images.jpg',\n",
       " 'http://assets.myntassets.com/v1/images/style/properties/e1f82da932e688fe0f59740369c59b97_images.jpg',\n",
       " 'http://assets.myntassets.com/v1/images/style/properties/45f5e0f8c40e5d991b01139350eeb058_images.jpg',\n",
       " 'http://assets.myntassets.com/v1/images/style/properties/81cf8c19e59aa21dd516d55a44f49a35_images.jpg',\n",
       " 'http://assets.myntassets.com/v1/images/style/properties/Scullers-For-Her-Navy-Blue-T-shirt_56f07e32d99ec5e5474b65264e544103_images.jpg',\n",
       " 'http://assets.myntassets.com/v1/images/style/properties/50aba4c7dbee879034bee18e8fa647f1_images.jpg',\n",
       " 'http://assets.myntassets.com/v1/images/style/properties/Revlon-Velvet-Touch-Royal-Burgundy-Lipstick-96_8364f7651072ddedacc16a8acad52be2_images.jpg',\n",
       " 'http://assets.myntassets.com/v1/images/style/properties/c569d8aaa255bdb321a512effb457855_images.jpg',\n",
       " 'http://assets.myntassets.com/v1/images/style/properties/5da23ec8638584a1576b3cd09318390a_images.jpg',\n",
       " 'http://assets.myntassets.com/v1/images/style/properties/Sushilas-Women-Printed-Green-Kurta_758e45b2970842513efaae8fdd8a4581_images.jpg',\n",
       " 'http://assets.myntassets.com/v1/images/style/properties/1dbabb93c7e0219a6ef095bb9317990b_images.jpg',\n",
       " 'http://assets.myntassets.com/v1/images/style/properties/9dc47ec74ce6e5a62d67cbcdbd89898d_images.jpg',\n",
       " 'http://assets.myntassets.com/v1/images/style/properties/b8ce32e91586eb7d256b5da18a8fb5db_images.jpg',\n",
       " 'http://assets.myntassets.com/v1/images/style/properties/54bf106056279c1e825094366347668d_images.jpg',\n",
       " 'http://assets.myntassets.com/v1/images/style/properties/4a41f184d3e88f812dc257f20d9e4846_images.jpg',\n",
       " 'http://assets.myntassets.com/v1/images/style/properties/c9748ec8d7ce34ecbc57c1a0e3cc28cd_images.jpg',\n",
       " 'http://assets.myntassets.com/v1/images/style/properties/a76c2bf247061dd389cf6ce4d8212dae_images.jpg',\n",
       " 'http://assets.myntassets.com/v1/images/style/properties/9b2e2a73312762930014e7478aead669_images.jpg',\n",
       " 'http://assets.myntassets.com/v1/images/style/properties/e8c71bfe20e87920a41403a43c447452_images.jpg',\n",
       " 'http://assets.myntassets.com/v1/images/style/properties/d0f66b9950ee0f818f8903b92f627daa_images.jpg',\n",
       " 'http://assets.myntassets.com/v1/images/style/properties/36a0eb09cbb983a3b0b1102e24e36391_images.jpg',\n",
       " 'http://assets.myntassets.com/v1/images/style/properties/ae3130f6a3d40667cf47cccab2431f97_images.jpg',\n",
       " 'http://assets.myntassets.com/v1/images/style/properties/88f26429910914fd8b5e15bce04d6e5f_images.jpg',\n",
       " 'http://assets.myntassets.com/v1/images/style/properties/Arrow-Men-White-Cap_aca68ecf9108eb2ee6c6d7d9dc02042a_images.jpg',\n",
       " 'http://assets.myntassets.com/v1/images/style/properties/a2cce2bf1bf63a510e07a50022f9d2da_images.jpg',\n",
       " 'http://assets.myntassets.com/v1/images/style/properties/9733239e50df24fc8fe9f8b515b72e26_images.jpg',\n",
       " 'http://assets.myntassets.com/v1/images/style/properties/26e93a4246e479e84c16a0ae547d2158_images.jpg',\n",
       " 'http://assets.myntassets.com/v1/images/style/properties/Elle-Women-Olive-Blue-Top_cd646ee8c25d177b2b5e22791bca5ca8_images.jpg',\n",
       " 'http://assets.myntassets.com/v1/images/style/properties/08a4b6bd0ce8b50667afaaded56c4717_images.jpg',\n",
       " 'http://assets.myntassets.com/v1/images/style/properties/Taylor-of-London-Women-White-Satin-Perfume_2b376d047c836c579b43732bdb4281f0_images.jpg',\n",
       " 'http://assets.myntassets.com/v1/images/style/properties/7cafa50ded6d7488ffad4f542e03ac10_images.jpg',\n",
       " 'http://assets.myntassets.com/v1/images/style/properties/Femella-Women-Yellow-Dress_3d227e50c7848fd7a20a306189f9039b_images.jpg',\n",
       " 'http://assets.myntassets.com/v1/images/style/properties/aa51b226cd0482361144698b06bb2ada_images.jpg',\n",
       " 'http://assets.myntassets.com/v1/images/style/properties/31cec799c74c62b9785cc809953ae766_images.jpg',\n",
       " 'http://assets.myntassets.com/v1/images/style/properties/ced627e0f9bf6a7499a80f9bb4d6957b_images.jpg',\n",
       " 'http://assets.myntassets.com/v1/images/style/properties/Rocky-S-Women-Navy-Blue-Handbag_4cf929ebebb81d77fd9698020b8a2cc5_images.jpg',\n",
       " 'http://assets.myntassets.com/v1/images/style/properties/GAS-Men-Casual-Shoes_b877c388a1212f0886ad1cb52e5c03fb_images.jpg',\n",
       " 'http://assets.myntassets.com/v1/images/style/properties/16166d165fed7105e5d1ac7c060703c7_images.jpg',\n",
       " 'http://assets.myntassets.com/v1/images/style/properties/Red-Rose-White---Green-Nightdress_b9ade01f805fa761f709eda9a04965b9_images.jpg',\n",
       " 'http://assets.myntassets.com/v1/images/style/properties/c6ee9c292ad6c05a9f0df2cf33de7dd7_images.jpg',\n",
       " 'http://assets.myntassets.com/v1/images/style/properties/849742ec275dd64e43469d1a11f20b1a_images.jpg',\n",
       " 'http://assets.myntassets.com/v1/images/style/properties/Maxima-Ssteele-Men-White-Watch00a0ea09f05c09b0d673ed509315d31c_images.jpg',\n",
       " 'http://assets.myntassets.com/v1/images/style/properties/01e1973738e23caaedbf176245af553f_images.jpg',\n",
       " 'http://assets.myntassets.com/v1/images/style/properties/8c496e85f70eeb3c63e5a68fb1500f55_images.jpg',\n",
       " 'http://assets.myntassets.com/v1/images/style/properties/Wildcraft-Unisex-Outdoor-Jinx-Grey-Bag_4676a6bac7ccdde9216aa50c23cc4295_images.jpg',\n",
       " 'http://assets.myntassets.com/v1/images/style/properties/057cfed92083e985d6dfc6fde95f6299_images.jpg',\n",
       " 'http://assets.myntassets.com/v1/images/style/properties/246ce1a949142a850ad580a014831782_images.jpg',\n",
       " 'http://assets.myntassets.com/v1/images/style/properties/b3ead7db8f3572f146a7d807742b9f43_images.jpg',\n",
       " 'http://assets.myntassets.com/v1/images/style/properties/6e2f96d8c460a9c1434e610f7cb6db85_images.jpg',\n",
       " 'http://assets.myntassets.com/v1/images/style/properties/Catwalk-Women-Casual-Brown-Sandals_59455438ca287eef7a3bffc3ee185dae_images.jpg',\n",
       " 'http://assets.myntassets.com/v1/images/style/properties/a15c48c3e83270df6c47a1f3bc40481b_images.jpg',\n",
       " 'http://assets.myntassets.com/v1/images/style/properties/1e59e6b2262a10894b5a829ca4a8441b_images.jpg',\n",
       " 'http://assets.myntassets.com/v1/images/style/properties/79ab8e426bec027b33c9e2ccac1096f1_images.jpg',\n",
       " 'http://assets.myntassets.com/assets/images/55202/2018/3/9/11520594836884-Lakme-Lip-Love-Hottie-Lip-Conditioner-511520594836863-1.jpg',\n",
       " 'http://assets.myntassets.com/v1/images/style/properties/395338ce9a4515b36e7b8c4a9c80546e_images.jpg',\n",
       " 'http://assets.myntassets.com/v1/images/style/properties/Image-Women-Classic-Eyewear-Brown-Sunglasses0c783ed9ff99d9e979cd2691a80fbda2_images.jpg',\n",
       " 'http://assets.myntassets.com/v1/images/style/properties/Lee-Men-Blue-Chicago-Fit-Jeans_856f3829ad838d43c45db753f5479abd_images.jpg',\n",
       " 'http://assets.myntassets.com/v1/images/style/properties/Lino-Perros-Women-Red-and-Grey-Handbagf5ea0760a0dbbb9a5e17c24aeacf70ba_images.jpg',\n",
       " 'http://assets.myntassets.com/v1/images/style/properties/Clarks-Women-Dolphin-Splash-Leather-Silver-Sandals_e55a6fa02cca3f6b6f3fa750619911d4_images.jpg',\n",
       " 'http://assets.myntassets.com/v1/images/style/properties/Lotus-Herbals-SPF-10-Tulip-Love-Lipstick-417_2ac58db59be96dc1ad1241be06c8bc01_images.jpg',\n",
       " 'http://assets.myntassets.com/v1/images/style/properties/c81654aaf3e8650d5c6a99e99e4b5a31_images.jpg',\n",
       " 'http://assets.myntassets.com/v1/images/style/properties/101d946073e86e8d42167719bab88431_images.jpg',\n",
       " 'http://assets.myntassets.com/v1/images/style/properties/50d3500215aaa4bc0ecb0e73210164ac_images.jpg',\n",
       " 'http://assets.myntassets.com/v1/images/style/properties/6c699af50a17c1f8a53d15430aab37a9_images.jpg',\n",
       " 'http://assets.myntassets.com/v1/images/style/properties/7469a0472f0e65203b2592bf320f6ca8_images.jpg',\n",
       " 'http://assets.myntassets.com/v1/images/style/properties/1c8e6ac033e34bf7c7d3982eb7f600aa_images.jpg',\n",
       " 'http://assets.myntassets.com/v1/images/style/properties/828535680403d13467099717c3de65e6_images.jpg',\n",
       " 'http://assets.myntassets.com/v1/images/style/properties/43c774b6529da5b6629cb54cd3d7d772_images.jpg',\n",
       " 'http://assets.myntassets.com/v1/images/style/properties/7c0191d27f3ddd42d63da600b164f551_images.jpg',\n",
       " 'http://assets.myntassets.com/v1/images/style/properties/0d64b8d2f706987c853a3f223705c91a_images.jpg',\n",
       " 'http://assets.myntassets.com/v1/images/style/properties/70bd637a60298d4ba5b448841f21858a_images.jpg',\n",
       " 'http://assets.myntassets.com/v1/images/style/properties/Quiksilver-Men-Black-Socksaba098a8187f845c6912e90b5d7bca29_images.jpg',\n",
       " 'http://assets.myntassets.com/v1/images/style/properties/Lotus-Herbals-Whiteglow-Skin-Whitening---Brightening-Masque_f74fe710ac627cda099dc0ed533bea68_images.jpg',\n",
       " 'http://assets.myntassets.com/v1/images/style/properties/0d3b2725d327a275c52c6f999e3982eb_images.jpg',\n",
       " 'http://assets.myntassets.com/v1/images/style/properties/d31f6013e972ceea6d6e3b234bad5bc4_images.jpg',\n",
       " 'http://assets.myntassets.com/v1/images/style/properties/6e0a7cc4e1d472f99d820275fe5f7679_images.jpg',\n",
       " 'http://assets.myntassets.com/v1/images/style/properties/d1e1def60617f1be6db22f46ceb4f02f_images.jpg',\n",
       " 'http://assets.myntassets.com/v1/images/style/properties/55878488c3dc46bc4407a383fea649ba_images.jpg',\n",
       " 'http://assets.myntassets.com/v1/images/style/properties/ff21c637f3896c771120bfb584e892e8_images.jpg',\n",
       " 'http://assets.myntassets.com/v1/images/style/properties/2602e7d55d1b5f690c7baedfbc98a219_images.jpg',\n",
       " 'http://assets.myntassets.com/v1/images/style/properties/5863961b3510970c2e31d466af69b32b_images.jpg',\n",
       " 'http://assets.myntassets.com/v1/images/style/properties/0dd6ba06c25eebe46eb03ce2761a28d0_images.jpg',\n",
       " 'http://assets.myntassets.com/v1/image/style/properties/46427/Timex-Men-Black-Dial-Watch_1_321fd855dc392831a8d6ec2cb66480b5.jpg',\n",
       " 'http://assets.myntassets.com/v1/images/style/properties/fabf230ba43bdd949ef5b6f97c1d7bcf_images.jpg',\n",
       " 'http://assets.myntassets.com/assets/images/27410/2017/5/19/11495196866345-Jockey-Women-Black-Lounge-Pants-3791495196865830-1.jpg',\n",
       " 'http://assets.myntassets.com/v1/images/style/properties/eaa9d93a50dc42462c0a04f1ee91e902_images.jpg',\n",
       " 'http://assets.myntassets.com/v1/images/style/properties/ff21386b92beb15aa045f876229a93ca_images.jpg',\n",
       " 'http://assets.myntassets.com/v1/images/style/properties/37fafc79943235067c410fe05217e8d3_images.jpg',\n",
       " 'http://assets.myntassets.com/v1/images/style/properties/13c635046e4e8b95b9212531166af8a4_images.jpg',\n",
       " 'http://assets.myntassets.com/v1/images/style/properties/Lakme-Absolute-Matte-Milan-Red-Lipstick-48_5f1e1f73197b7e9b11428797854762bb_images.jpg',\n",
       " 'http://assets.myntassets.com/v1/images/style/properties/525f30ac2bcf55f1da135dcc70a1c296_images.jpg',\n",
       " 'http://assets.myntassets.com/v1/images/style/properties/Clarks-Women-Cream-Coloured-Onslow-Beat-Leather-Wedges_d54ef67b1f4c7d4098230de69bc07b16_images.jpg',\n",
       " 'http://assets.myntassets.com/v1/images/style/properties/099e8242ba7479b2eca56824293bbfb2_images.jpg',\n",
       " 'http://assets.myntassets.com/v1/images/style/properties/Maxima-Ssteele-Men-Black-Watchd181fc8f59baedd6809298d2ab24b04e_images.jpg',\n",
       " 'http://assets.myntassets.com/v1/images/style/properties/b2f98fd8aeb72ad2dd8b76cd7468bc55_images.jpg',\n",
       " 'http://assets.myntassets.com/v1/images/style/properties/8a3eec8f2f75243d5a3cc9913d72160b_images.jpg',\n",
       " 'http://assets.myntassets.com/v1/images/style/properties/5ee4cbb5ba455589fad45bd33fb24914_images.jpg',\n",
       " 'http://assets.myntassets.com/v1/images/style/properties/75d5c3d2cc8fa481623002c9ca350ab7_images.jpg',\n",
       " 'http://assets.myntassets.com/v1/images/style/properties/9a3d773e0dfe93df5b2109c512b3f7b1_images.jpg',\n",
       " 'http://assets.myntassets.com/v1/images/style/properties/cbd13ec681d0898d4a6e43402c05f2b9_images.jpg',\n",
       " 'http://assets.myntassets.com/v1/images/style/properties/29c15deaf99c9a3a6a4e9aaa583a179b_images.jpg',\n",
       " 'http://assets.myntassets.com/v1/images/style/properties/c0a8afcb96adb60a55fcb4748bd21364_images.jpg',\n",
       " 'http://assets.myntassets.com/v1/images/style/properties/7c6e7824bf89b87b28d1e400d6483590_images.jpg',\n",
       " 'http://assets.myntassets.com/v1/images/style/properties/0c065355d66e08df89726a61a839a248_images.jpg',\n",
       " 'http://assets.myntassets.com/v1/images/style/properties/Streetwear-Grape-Shimmer-Nail-Polish-41_71c69c1dcc449035a7325aa960060466_images.jpg',\n",
       " 'http://assets.myntassets.com/v1/images/style/properties/Lino-Perros-Women-Leatherite-Brown-Handbag73bdaddb7f8433001c35385c2237060f_images.jpg',\n",
       " 'http://assets.myntassets.com/v1/images/style/properties/4eb872956e1b8d1387fe0f454a4bec7f_images.jpg',\n",
       " 'http://assets.myntassets.com/v1/images/style/properties/4269a355e474308b6e0f174cf6a9f6f0_images.jpg',\n",
       " 'http://assets.myntassets.com/v1/images/style/properties/784c5fc69221fa797570f1a3602c5bc3_images.jpg',\n",
       " 'http://assets.myntassets.com/v1/images/style/properties/45e5d30d4486c3569cb89dab80ed0c66_images.jpg',\n",
       " 'http://assets.myntassets.com/v1/images/style/properties/445fcfca58cd02edab12ea78d4e561fd_images.jpg',\n",
       " 'http://assets.myntassets.com/v1/images/style/properties/6c47906c4ede8ac1c9142bdba8e6fd63_images.jpg',\n",
       " 'http://assets.myntassets.com/v1/images/style/properties/f9e6c0170eadb83b2f0c082b457548a2_images.jpg',\n",
       " 'http://assets.myntassets.com/v1/images/style/properties/Fabindia-Silver-Earrings_1b13befaf4eb280de962dbe82b3e630a_images.jpg',\n",
       " 'http://assets.myntassets.com/v1/images/style/properties/Q-Q-Women-White-Dial-Watch_0cecd11e3c157ea36fcd2ea525d5496c_images.jpg',\n",
       " 'http://assets.myntassets.com/assets/images/57793/2018/4/27/11524809214196-Lotus-Herbals-Natural-Blend-Botanical-Compact-550-2491524809214143-1.jpg',\n",
       " 'http://assets.myntassets.com/v1/images/style/properties/dd87d19692f01880e34a6cf2b0bd9b22_images.jpg',\n",
       " 'http://assets.myntassets.com/v1/images/style/properties/461d2320504d9d9f1cbe2ebfd6ac7aae_images.jpg',\n",
       " 'http://assets.myntassets.com/assets/images/45256/2018/3/5/11520250788394-CASIO-Edifice-Men-Black-Dial-Watch-ED419-7241520250788213-1.jpg',\n",
       " 'http://assets.myntassets.com/v1/images/style/properties/FNF-Khaki-Collection-for-Wedding-Sari_e65b3b145f4c03f0104f8bbe17eadbd3_images.jpg',\n",
       " 'http://assets.myntassets.com/v1/images/style/properties/206ca2bfdecb0cefc8785c43697feda1_images.jpg',\n",
       " 'http://assets.myntassets.com/v1/images/style/properties/35c54f3458b165f0a4d56996f4b17299_images.jpg',\n",
       " 'http://assets.myntassets.com/v1/images/style/properties/45d19055b3ec74a52a05ff1b687f2b4b_images.jpg',\n",
       " 'http://assets.myntassets.com/v1/images/style/properties/American-Tourister-Unisex-Black-Sling-Bag_9905935744e838263122a844a321d091_images.jpg',\n",
       " 'http://assets.myntassets.com/v1/images/style/properties/b8d8c3d8ce77c3ffbeac1bd5ab06b450_images.jpg',\n",
       " 'http://assets.myntassets.com/v1/images/style/properties/c10c4d27a1dfa714ac4ba401b38fcd88_images.jpg',\n",
       " 'http://assets.myntassets.com/v1/images/style/properties/eaf2af327ae5b0fbd2d32a234201ebc3_images.jpg',\n",
       " 'http://assets.myntassets.com/v1/images/style/properties/4e6ea0b454b89dda95e775e6008028ba_images.jpg',\n",
       " 'http://assets.myntassets.com/v1/images/style/properties/13b63be853066689953a150fe1986bba_images.jpg',\n",
       " 'http://assets.myntassets.com/v1/images/style/properties/bbfe4e065fd17070416c4abce9166f75_images.jpg',\n",
       " 'http://assets.myntassets.com/v1/images/style/properties/6cf3168e7917dac9509f4a01ab3ad86d_images.jpg',\n",
       " 'http://assets.myntassets.com/v1/images/style/properties/98a0a57a35f52206b545d0d06a80f2f7_images.jpg',\n",
       " 'http://assets.myntassets.com/v1/images/style/properties/b9c1dec897aef4542fe47e98c7c9bd1f_images.jpg',\n",
       " 'http://assets.myntassets.com/v1/images/style/properties/Fila-Women-Sleeker-Green-Check-Casual-Shoes_e76128696b560d502836137def0216a4_images.jpg',\n",
       " 'http://assets.myntassets.com/v1/images/style/properties/c67ec1fde92718785bad116cf8711640_images.jpg',\n",
       " 'http://assets.myntassets.com/v1/images/style/properties/American-Tourister-Men-Black-Coin-Passcase-Wallet_599e93f2f77d4799d61c01b15f223f99_images.jpg',\n",
       " 'http://assets.myntassets.com/v1/images/style/properties/33a4f23ed9e1dc05e97ea94ab4809301_images.jpg',\n",
       " 'http://assets.myntassets.com/v1/images/style/properties/d55de4814c818878d0584e90470d14d6_images.jpg',\n",
       " 'http://assets.myntassets.com/v1/images/style/properties/9bbb0a99f2262993b7b659959fbcf3bc_images.jpg',\n",
       " 'http://assets.myntassets.com/v1/images/style/properties/8134f87644fb5617381cc4657f69ab51_images.jpg',\n",
       " 'http://assets.myntassets.com/v1/images/style/properties/72c3fb257c44e102c981b960219a9cd2_images.jpg',\n",
       " 'http://assets.myntassets.com/v1/images/style/properties/b77929d59d81689e660446586e5e8dc3_images.jpg',\n",
       " 'http://assets.myntassets.com/v1/images/style/properties/SDL-by-Sweet-Dreams-Men-Black---Grey-Pyjama-Set_579efb47dce889195f28f09f2205ebaf_images.jpg',\n",
       " 'http://assets.myntassets.com/v1/images/style/properties/5a1df9ac28930032d37b9fa4cf5102e6_images.jpg',\n",
       " 'http://assets.myntassets.com/v1/images/style/properties/986d8893b024b650133e1bb88905f6ed_images.jpg',\n",
       " 'http://assets.myntassets.com/v1/images/style/properties/Puma-Women-White-Sports-Shoes_4b0310657932f48364fbe27ecbece28b_images.jpg',\n",
       " 'http://assets.myntassets.com/v1/images/style/properties/1066deb40c4f9ff773d13931b0fc2edd_images.jpg',\n",
       " 'http://assets.myntassets.com/v1/images/style/properties/25cffc1cddbfbc2ae8c8a98ee2431665_images.jpg',\n",
       " 'http://assets.myntassets.com/v1/images/style/properties/Park-Avenue-Men-Grey-Melange-Briefs_56048ac754f2ffdf53d4bd5d72fe66f6_images.jpg',\n",
       " 'http://assets.myntassets.com/v1/images/style/properties/Enamor-Maroon-Bra-FB06_e5c0cc72a0f04bdef5dd4123989bde97_images.jpg',\n",
       " 'http://assets.myntassets.com/v1/images/style/properties/e7ca97d7b2f468e63a1f84cc988c72ca_images.jpg',\n",
       " 'http://assets.myntassets.com/v1/images/style/properties/7b3e15ecc237a90cd98b7e886bcda7f9_images.jpg',\n",
       " 'http://assets.myntassets.com/v1/images/style/properties/4ee9c897d673a21972f79ef041f6ec99_images.jpg',\n",
       " 'http://assets.myntassets.com/v1/images/style/properties/39b0b9be2b05463a185fe1d3b4005530_images.jpg',\n",
       " 'http://assets.myntassets.com/v1/images/style/properties/1cbaf5223bd7a31025df3c3aa9a6d7f5_images.jpg',\n",
       " 'http://assets.myntassets.com/v1/images/style/properties/689ceb9bdda2404dc4bc1576c3a6d518_images.jpg',\n",
       " 'http://assets.myntassets.com/v1/images/style/properties/ada30bf5dbd77bcb3ca30ee15882ce9b_images.jpg',\n",
       " 'http://assets.myntassets.com/v1/images/style/properties/6b763aa4dcd9e287b442f0ebe3e26122_images.jpg',\n",
       " 'http://assets.myntassets.com/v1/images/style/properties/3d5795ec77c53b0030af8f5caed06a51_images.jpg',\n",
       " 'http://assets.myntassets.com/v1/images/style/properties/bf2cc8065bd15d652e9309cba750c6db_images.jpg',\n",
       " 'http://assets.myntassets.com/v1/images/style/properties/Reid---Taylor-Men-White-Shirt_7868945b6d3a95140b08b1719b0092f1_images.jpg',\n",
       " 'http://assets.myntassets.com/v1/images/style/properties/Sushilas-Women-Multi-Coloured-Kurta_42e5063146a229c86ceda2e3d374aa60_images.jpg',\n",
       " 'http://assets.myntassets.com/v1/images/style/properties/e1fc1c55ab477c25864c495c536e30a8_images.jpg',\n",
       " ...]"
      ]
     },
     "execution_count": 9,
     "metadata": {},
     "output_type": "execute_result"
    }
   ],
   "source": [
    "filenames = list(fileanmes)\n",
    "filenames"
   ]
  },
  {
   "cell_type": "code",
   "execution_count": 73,
   "metadata": {},
   "outputs": [],
   "source": [
    "import tensorflow\n",
    "from keras.preprocessing import image\n",
    "from keras.layers import GlobalMaxPooling2D\n",
    "from tensorflow.keras.applications.resnet50 import ResNet50\n",
    "from tensorflow.keras.applications.resnet50 import preprocess_input\n",
    "from numpy.linalg import norm"
   ]
  },
  {
   "cell_type": "markdown",
   "metadata": {},
   "source": [
    "# Extracting features of images with ResNet50 \n",
    "- removing top layer and adding globalmaxpooling2D\n",
    " "
   ]
  },
  {
   "cell_type": "code",
   "execution_count": 74,
   "metadata": {},
   "outputs": [],
   "source": [
    "model = ResNet50(weights='imagenet', include_top=False, input_shape=(224,224,3))\n",
    "model.trainable = False\n",
    "\n",
    "model = tensorflow.keras.Sequential([\n",
    "    model,\n",
    "    GlobalMaxPooling2D()\n",
    "])"
   ]
  },
  {
   "cell_type": "code",
   "execution_count": null,
   "metadata": {},
   "outputs": [],
   "source": [
    "from PIL import Image\n",
    "import requests\n",
    "from io import BytesIO\n",
    "from keras.preprocessing import image\n",
    "from tensorflow.keras.utils import img_to_array\n",
    "from tqdm import tqdm\n",
    "import pickle\n",
    "# Define the image URL\n"
   ]
  },
  {
   "cell_type": "markdown",
   "metadata": {},
   "source": [
    "- preprocess_input will do the preprocessing on training data like converting RGB to BGR and Zero centering \n",
    "- ResNet50 extract the features of images"
   ]
  },
  {
   "cell_type": "code",
   "execution_count": null,
   "metadata": {},
   "outputs": [],
   "source": [
    "def extract_features(img_path, model):\n",
    "    response = requests.get(img_path)\n",
    "    img = Image.open(BytesIO(response.content))\n",
    "    # Resize the image if needed\n",
    "    img = img.resize((224, 224))\n",
    "    # Convert the image to a NumPy array\n",
    "    img_array = img_to_array(img)\n",
    "\n",
    "    # expanding array from 3-d to 4-d beacause keras works on batchs of images\n",
    "    expanded_img_array = np.expand_dims(img_array,axis=0)\n",
    "\n",
    "    # preprocessing\n",
    "    preprocessed_img = preprocess_input(expanded_img_array)\n",
    "\n",
    "\n",
    "    result = model.predict(preprocessed_img).flatten()\n",
    "\n",
    "    # normalizing the values between Zero to One\n",
    "    normalised_result = result / norm(result)\n",
    "    \n",
    "    return normalised_result\n",
    "\n",
    "    "
   ]
  },
  {
   "cell_type": "markdown",
   "metadata": {},
   "source": [
    "- saving the features of images in embedding.pkl \n",
    "- saving the filenames in filenames.pkl"
   ]
  },
  {
   "cell_type": "code",
   "execution_count": null,
   "metadata": {},
   "outputs": [],
   "source": [
    "filenames = []\n",
    "for file in os.listdir('images'):\n",
    "    filenames.append(os.path.join('images', file))\n"
   ]
  },
  {
   "cell_type": "code",
   "execution_count": 82,
   "metadata": {},
   "outputs": [
    {
     "name": "stderr",
     "output_type": "stream",
     "text": [
      "  0%|          | 0/44318 [00:00<?, ?it/s]"
     ]
    },
    {
     "name": "stdout",
     "output_type": "stream",
     "text": [
      "1/1 [==============================] - 1s 1s/step\n"
     ]
    },
    {
     "name": "stderr",
     "output_type": "stream",
     "text": [
      "  0%|          | 1/44318 [00:02<24:40:55,  2.00s/it]"
     ]
    },
    {
     "name": "stdout",
     "output_type": "stream",
     "text": [
      "1/1 [==============================] - 2s 2s/step\n"
     ]
    },
    {
     "name": "stderr",
     "output_type": "stream",
     "text": [
      "  0%|          | 2/44318 [00:04<30:15:00,  2.46s/it]"
     ]
    },
    {
     "name": "stdout",
     "output_type": "stream",
     "text": [
      "1/1 [==============================] - 1s 1s/step\n"
     ]
    },
    {
     "name": "stderr",
     "output_type": "stream",
     "text": [
      "  0%|          | 3/44318 [00:06<25:11:59,  2.05s/it]"
     ]
    },
    {
     "name": "stdout",
     "output_type": "stream",
     "text": [
      "1/1 [==============================] - 1s 939ms/step\n"
     ]
    },
    {
     "name": "stderr",
     "output_type": "stream",
     "text": [
      "  0%|          | 4/44318 [00:07<22:04:08,  1.79s/it]"
     ]
    },
    {
     "name": "stdout",
     "output_type": "stream",
     "text": [
      "1/1 [==============================] - 2s 2s/step\n"
     ]
    },
    {
     "name": "stderr",
     "output_type": "stream",
     "text": [
      "  0%|          | 5/44318 [00:09<23:03:32,  1.87s/it]"
     ]
    },
    {
     "name": "stdout",
     "output_type": "stream",
     "text": [
      "1/1 [==============================] - 1s 1s/step\n"
     ]
    },
    {
     "name": "stderr",
     "output_type": "stream",
     "text": [
      "  0%|          | 6/44318 [00:11<24:18:15,  1.97s/it]"
     ]
    },
    {
     "name": "stdout",
     "output_type": "stream",
     "text": [
      "1/1 [==============================] - 2s 2s/step\n"
     ]
    },
    {
     "name": "stderr",
     "output_type": "stream",
     "text": [
      "  0%|          | 7/44318 [00:14<27:54:54,  2.27s/it]"
     ]
    },
    {
     "name": "stdout",
     "output_type": "stream",
     "text": [
      "1/1 [==============================] - 1s 1s/step\n"
     ]
    },
    {
     "name": "stderr",
     "output_type": "stream",
     "text": [
      "  0%|          | 8/44318 [00:16<26:24:36,  2.15s/it]"
     ]
    },
    {
     "name": "stdout",
     "output_type": "stream",
     "text": [
      "1/1 [==============================] - 1s 1s/step\n"
     ]
    },
    {
     "name": "stderr",
     "output_type": "stream",
     "text": [
      "  0%|          | 9/44318 [00:18<26:28:47,  2.15s/it]"
     ]
    },
    {
     "name": "stdout",
     "output_type": "stream",
     "text": [
      "1/1 [==============================] - 2s 2s/step\n"
     ]
    },
    {
     "name": "stderr",
     "output_type": "stream",
     "text": [
      "  0%|          | 10/44318 [00:21<27:40:14,  2.25s/it]"
     ]
    },
    {
     "name": "stdout",
     "output_type": "stream",
     "text": [
      "1/1 [==============================] - 1s 1s/step\n"
     ]
    },
    {
     "name": "stderr",
     "output_type": "stream",
     "text": [
      "  0%|          | 11/44318 [00:23<28:34:50,  2.32s/it]"
     ]
    },
    {
     "name": "stdout",
     "output_type": "stream",
     "text": [
      "1/1 [==============================] - 3s 3s/step\n"
     ]
    },
    {
     "name": "stderr",
     "output_type": "stream",
     "text": [
      "  0%|          | 12/44318 [00:27<33:02:58,  2.69s/it]"
     ]
    },
    {
     "name": "stdout",
     "output_type": "stream",
     "text": [
      "1/1 [==============================] - 1s 1s/step\n"
     ]
    },
    {
     "name": "stderr",
     "output_type": "stream",
     "text": [
      "  0%|          | 13/44318 [00:29<29:46:26,  2.42s/it]"
     ]
    },
    {
     "name": "stdout",
     "output_type": "stream",
     "text": [
      "1/1 [==============================] - 1s 1s/step\n"
     ]
    },
    {
     "name": "stderr",
     "output_type": "stream",
     "text": [
      "  0%|          | 14/44318 [00:30<26:31:51,  2.16s/it]"
     ]
    },
    {
     "name": "stdout",
     "output_type": "stream",
     "text": [
      "1/1 [==============================] - 3s 3s/step\n"
     ]
    },
    {
     "name": "stderr",
     "output_type": "stream",
     "text": [
      "  0%|          | 15/44318 [00:34<32:17:04,  2.62s/it]"
     ]
    },
    {
     "name": "stdout",
     "output_type": "stream",
     "text": [
      "1/1 [==============================] - 2s 2s/step\n"
     ]
    },
    {
     "name": "stderr",
     "output_type": "stream",
     "text": [
      "  0%|          | 16/44318 [00:37<34:39:50,  2.82s/it]"
     ]
    },
    {
     "name": "stdout",
     "output_type": "stream",
     "text": [
      "1/1 [==============================] - 1s 1s/step\n"
     ]
    },
    {
     "name": "stderr",
     "output_type": "stream",
     "text": [
      "  0%|          | 17/44318 [00:39<30:42:03,  2.49s/it]"
     ]
    },
    {
     "name": "stdout",
     "output_type": "stream",
     "text": [
      "1/1 [==============================] - 1s 969ms/step\n"
     ]
    },
    {
     "name": "stderr",
     "output_type": "stream",
     "text": [
      "  0%|          | 18/44318 [00:40<27:19:29,  2.22s/it]"
     ]
    },
    {
     "name": "stdout",
     "output_type": "stream",
     "text": [
      "1/1 [==============================] - 1s 1s/step\n"
     ]
    },
    {
     "name": "stderr",
     "output_type": "stream",
     "text": [
      "  0%|          | 19/44318 [00:43<26:53:10,  2.18s/it]"
     ]
    },
    {
     "name": "stdout",
     "output_type": "stream",
     "text": [
      "1/1 [==============================] - 2s 2s/step\n"
     ]
    },
    {
     "name": "stderr",
     "output_type": "stream",
     "text": [
      "  0%|          | 20/44318 [00:47<35:56:53,  2.92s/it]"
     ]
    },
    {
     "name": "stdout",
     "output_type": "stream",
     "text": [
      "1/1 [==============================] - 3s 3s/step\n"
     ]
    },
    {
     "name": "stderr",
     "output_type": "stream",
     "text": [
      "  0%|          | 21/44318 [00:51<39:36:21,  3.22s/it]"
     ]
    },
    {
     "name": "stdout",
     "output_type": "stream",
     "text": [
      "1/1 [==============================] - 3s 3s/step\n"
     ]
    },
    {
     "name": "stderr",
     "output_type": "stream",
     "text": [
      "  0%|          | 22/44318 [00:56<45:35:04,  3.70s/it]"
     ]
    },
    {
     "name": "stdout",
     "output_type": "stream",
     "text": [
      "1/1 [==============================] - 1s 1s/step\n"
     ]
    },
    {
     "name": "stderr",
     "output_type": "stream",
     "text": [
      "  0%|          | 23/44318 [00:58<41:14:46,  3.35s/it]"
     ]
    },
    {
     "name": "stdout",
     "output_type": "stream",
     "text": [
      "1/1 [==============================] - 2s 2s/step\n"
     ]
    },
    {
     "name": "stderr",
     "output_type": "stream",
     "text": [
      "  0%|          | 24/44318 [01:02<42:16:01,  3.44s/it]"
     ]
    },
    {
     "name": "stdout",
     "output_type": "stream",
     "text": [
      "1/1 [==============================] - 2s 2s/step\n"
     ]
    },
    {
     "name": "stderr",
     "output_type": "stream",
     "text": [
      "  0%|          | 25/44318 [01:05<41:34:42,  3.38s/it]"
     ]
    },
    {
     "name": "stdout",
     "output_type": "stream",
     "text": [
      "1/1 [==============================] - 2s 2s/step\n"
     ]
    },
    {
     "name": "stderr",
     "output_type": "stream",
     "text": [
      "  0%|          | 26/44318 [01:08<39:59:59,  3.25s/it]"
     ]
    },
    {
     "name": "stdout",
     "output_type": "stream",
     "text": [
      "1/1 [==============================] - 2s 2s/step\n"
     ]
    },
    {
     "name": "stderr",
     "output_type": "stream",
     "text": [
      "  0%|          | 27/44318 [01:11<39:30:27,  3.21s/it]"
     ]
    },
    {
     "name": "stdout",
     "output_type": "stream",
     "text": [
      "1/1 [==============================] - 1s 1s/step\n"
     ]
    },
    {
     "name": "stderr",
     "output_type": "stream",
     "text": [
      "  0%|          | 28/44318 [01:15<39:42:05,  3.23s/it]"
     ]
    },
    {
     "name": "stdout",
     "output_type": "stream",
     "text": [
      "1/1 [==============================] - 2s 2s/step\n"
     ]
    },
    {
     "name": "stderr",
     "output_type": "stream",
     "text": [
      "  0%|          | 29/44318 [01:18<40:23:26,  3.28s/it]"
     ]
    },
    {
     "name": "stdout",
     "output_type": "stream",
     "text": [
      "1/1 [==============================] - 2s 2s/step\n"
     ]
    },
    {
     "name": "stderr",
     "output_type": "stream",
     "text": [
      "  0%|          | 30/44318 [01:20<36:29:44,  2.97s/it]"
     ]
    },
    {
     "name": "stdout",
     "output_type": "stream",
     "text": [
      "1/1 [==============================] - 1s 1s/step\n"
     ]
    },
    {
     "name": "stderr",
     "output_type": "stream",
     "text": [
      "  0%|          | 31/44318 [01:24<40:42:39,  3.31s/it]"
     ]
    },
    {
     "name": "stdout",
     "output_type": "stream",
     "text": [
      "1/1 [==============================] - 1s 1s/step\n"
     ]
    },
    {
     "name": "stderr",
     "output_type": "stream",
     "text": [
      "  0%|          | 32/44318 [01:27<37:44:03,  3.07s/it]"
     ]
    },
    {
     "name": "stdout",
     "output_type": "stream",
     "text": [
      "1/1 [==============================] - 1s 1s/step\n"
     ]
    },
    {
     "name": "stderr",
     "output_type": "stream",
     "text": [
      "  0%|          | 33/44318 [01:29<34:52:18,  2.83s/it]"
     ]
    },
    {
     "name": "stdout",
     "output_type": "stream",
     "text": [
      "1/1 [==============================] - 1s 1s/step\n"
     ]
    },
    {
     "name": "stderr",
     "output_type": "stream",
     "text": [
      "  0%|          | 34/44318 [01:32<34:27:57,  2.80s/it]"
     ]
    },
    {
     "name": "stdout",
     "output_type": "stream",
     "text": [
      "1/1 [==============================] - 1s 1s/step\n"
     ]
    },
    {
     "name": "stderr",
     "output_type": "stream",
     "text": [
      "  0%|          | 35/44318 [01:34<30:59:35,  2.52s/it]"
     ]
    },
    {
     "name": "stdout",
     "output_type": "stream",
     "text": [
      "1/1 [==============================] - 1s 1s/step\n"
     ]
    },
    {
     "name": "stderr",
     "output_type": "stream",
     "text": [
      "  0%|          | 36/44318 [01:38<35:22:13,  2.88s/it]"
     ]
    },
    {
     "name": "stdout",
     "output_type": "stream",
     "text": [
      "1/1 [==============================] - 1s 1s/step\n"
     ]
    },
    {
     "name": "stderr",
     "output_type": "stream",
     "text": [
      "  0%|          | 37/44318 [01:39<31:41:32,  2.58s/it]"
     ]
    },
    {
     "name": "stdout",
     "output_type": "stream",
     "text": [
      "1/1 [==============================] - 2s 2s/step\n"
     ]
    },
    {
     "name": "stderr",
     "output_type": "stream",
     "text": [
      "  0%|          | 38/44318 [01:42<31:52:00,  2.59s/it]"
     ]
    },
    {
     "name": "stdout",
     "output_type": "stream",
     "text": [
      "1/1 [==============================] - 1s 1s/step\n"
     ]
    },
    {
     "name": "stderr",
     "output_type": "stream",
     "text": [
      "  0%|          | 39/44318 [01:45<31:30:31,  2.56s/it]"
     ]
    },
    {
     "name": "stdout",
     "output_type": "stream",
     "text": [
      "1/1 [==============================] - 1s 1s/step\n"
     ]
    },
    {
     "name": "stderr",
     "output_type": "stream",
     "text": [
      "  0%|          | 40/44318 [01:47<29:42:17,  2.42s/it]"
     ]
    },
    {
     "name": "stdout",
     "output_type": "stream",
     "text": [
      "1/1 [==============================] - 1s 998ms/step\n"
     ]
    },
    {
     "name": "stderr",
     "output_type": "stream",
     "text": [
      "  0%|          | 41/44318 [01:49<29:41:19,  2.41s/it]"
     ]
    },
    {
     "name": "stdout",
     "output_type": "stream",
     "text": [
      "1/1 [==============================] - 1s 1s/step\n"
     ]
    },
    {
     "name": "stderr",
     "output_type": "stream",
     "text": [
      "  0%|          | 42/44318 [01:51<27:59:55,  2.28s/it]"
     ]
    },
    {
     "name": "stdout",
     "output_type": "stream",
     "text": [
      "1/1 [==============================] - 1s 1s/step\n"
     ]
    },
    {
     "name": "stderr",
     "output_type": "stream",
     "text": [
      "  0%|          | 43/44318 [01:54<28:56:39,  2.35s/it]"
     ]
    },
    {
     "name": "stdout",
     "output_type": "stream",
     "text": [
      "1/1 [==============================] - 1s 1s/step\n"
     ]
    },
    {
     "name": "stderr",
     "output_type": "stream",
     "text": [
      "  0%|          | 44/44318 [01:57<32:24:23,  2.64s/it]"
     ]
    },
    {
     "name": "stdout",
     "output_type": "stream",
     "text": [
      "1/1 [==============================] - 3s 3s/step\n"
     ]
    },
    {
     "name": "stderr",
     "output_type": "stream",
     "text": [
      "  0%|          | 45/44318 [02:02<40:22:42,  3.28s/it]"
     ]
    },
    {
     "name": "stdout",
     "output_type": "stream",
     "text": [
      "1/1 [==============================] - 1s 1s/step\n"
     ]
    },
    {
     "name": "stderr",
     "output_type": "stream",
     "text": [
      "  0%|          | 46/44318 [02:04<38:34:59,  3.14s/it]"
     ]
    },
    {
     "name": "stdout",
     "output_type": "stream",
     "text": [
      "1/1 [==============================] - 2s 2s/step\n"
     ]
    },
    {
     "name": "stderr",
     "output_type": "stream",
     "text": [
      "  0%|          | 47/44318 [02:07<37:52:07,  3.08s/it]"
     ]
    },
    {
     "name": "stdout",
     "output_type": "stream",
     "text": [
      "1/1 [==============================] - 4s 4s/step\n"
     ]
    },
    {
     "name": "stderr",
     "output_type": "stream",
     "text": [
      "  0%|          | 48/44318 [02:13<48:56:02,  3.98s/it]"
     ]
    },
    {
     "name": "stdout",
     "output_type": "stream",
     "text": [
      "1/1 [==============================] - 2s 2s/step\n"
     ]
    },
    {
     "name": "stderr",
     "output_type": "stream",
     "text": [
      "  0%|          | 49/44318 [02:18<51:44:34,  4.21s/it]"
     ]
    },
    {
     "name": "stdout",
     "output_type": "stream",
     "text": [
      "1/1 [==============================] - 3s 3s/step\n"
     ]
    },
    {
     "name": "stderr",
     "output_type": "stream",
     "text": [
      "  0%|          | 50/44318 [02:22<50:51:26,  4.14s/it]"
     ]
    },
    {
     "name": "stdout",
     "output_type": "stream",
     "text": [
      "1/1 [==============================] - 2s 2s/step\n"
     ]
    },
    {
     "name": "stderr",
     "output_type": "stream",
     "text": [
      "  0%|          | 51/44318 [02:25<44:53:16,  3.65s/it]"
     ]
    },
    {
     "name": "stdout",
     "output_type": "stream",
     "text": [
      "1/1 [==============================] - 1s 1s/step\n"
     ]
    },
    {
     "name": "stderr",
     "output_type": "stream",
     "text": [
      "  0%|          | 52/44318 [02:27<38:53:13,  3.16s/it]"
     ]
    },
    {
     "name": "stdout",
     "output_type": "stream",
     "text": [
      "1/1 [==============================] - 1s 1s/step\n"
     ]
    },
    {
     "name": "stderr",
     "output_type": "stream",
     "text": [
      "  0%|          | 53/44318 [02:30<41:11:35,  3.35s/it]"
     ]
    },
    {
     "name": "stdout",
     "output_type": "stream",
     "text": [
      "1/1 [==============================] - 1s 1s/step\n"
     ]
    },
    {
     "name": "stderr",
     "output_type": "stream",
     "text": [
      "  0%|          | 54/44318 [02:32<35:54:34,  2.92s/it]"
     ]
    },
    {
     "name": "stdout",
     "output_type": "stream",
     "text": [
      "1/1 [==============================] - 2s 2s/step\n"
     ]
    },
    {
     "name": "stderr",
     "output_type": "stream",
     "text": [
      "  0%|          | 55/44318 [02:35<33:19:02,  2.71s/it]"
     ]
    },
    {
     "name": "stdout",
     "output_type": "stream",
     "text": [
      "1/1 [==============================] - 1s 1s/step\n"
     ]
    },
    {
     "name": "stderr",
     "output_type": "stream",
     "text": [
      "  0%|          | 56/44318 [02:37<30:52:58,  2.51s/it]"
     ]
    },
    {
     "name": "stdout",
     "output_type": "stream",
     "text": [
      "1/1 [==============================] - 1s 1s/step\n"
     ]
    },
    {
     "name": "stderr",
     "output_type": "stream",
     "text": [
      "  0%|          | 57/44318 [02:43<44:03:02,  3.58s/it]"
     ]
    },
    {
     "name": "stdout",
     "output_type": "stream",
     "text": [
      "1/1 [==============================] - 1s 1s/step\n"
     ]
    },
    {
     "name": "stderr",
     "output_type": "stream",
     "text": [
      "  0%|          | 58/44318 [02:46<44:17:09,  3.60s/it]"
     ]
    },
    {
     "name": "stdout",
     "output_type": "stream",
     "text": [
      "1/1 [==============================] - 5s 5s/step\n"
     ]
    },
    {
     "name": "stderr",
     "output_type": "stream",
     "text": [
      "  0%|          | 59/44318 [02:53<55:05:56,  4.48s/it]"
     ]
    },
    {
     "name": "stdout",
     "output_type": "stream",
     "text": [
      "1/1 [==============================] - 1s 1s/step\n"
     ]
    },
    {
     "name": "stderr",
     "output_type": "stream",
     "text": [
      "  0%|          | 60/44318 [02:57<53:34:53,  4.36s/it]"
     ]
    },
    {
     "name": "stdout",
     "output_type": "stream",
     "text": [
      "1/1 [==============================] - 2s 2s/step\n"
     ]
    },
    {
     "name": "stderr",
     "output_type": "stream",
     "text": [
      "  0%|          | 61/44318 [03:00<47:21:12,  3.85s/it]"
     ]
    },
    {
     "name": "stdout",
     "output_type": "stream",
     "text": [
      "1/1 [==============================] - 1s 963ms/step\n"
     ]
    },
    {
     "name": "stderr",
     "output_type": "stream",
     "text": [
      "  0%|          | 62/44318 [03:04<47:22:31,  3.85s/it]"
     ]
    },
    {
     "name": "stdout",
     "output_type": "stream",
     "text": [
      "1/1 [==============================] - 2s 2s/step\n"
     ]
    },
    {
     "name": "stderr",
     "output_type": "stream",
     "text": [
      "  0%|          | 63/44318 [03:08<50:57:35,  4.15s/it]"
     ]
    },
    {
     "name": "stdout",
     "output_type": "stream",
     "text": [
      "1/1 [==============================] - 7s 7s/step\n"
     ]
    },
    {
     "name": "stderr",
     "output_type": "stream",
     "text": [
      "  0%|          | 64/44318 [03:16<65:46:03,  5.35s/it]"
     ]
    },
    {
     "name": "stdout",
     "output_type": "stream",
     "text": [
      "1/1 [==============================] - 5s 5s/step\n"
     ]
    },
    {
     "name": "stderr",
     "output_type": "stream",
     "text": [
      "  0%|          | 65/44318 [03:26<80:10:00,  6.52s/it]"
     ]
    },
    {
     "name": "stdout",
     "output_type": "stream",
     "text": [
      "1/1 [==============================] - 4s 4s/step\n"
     ]
    },
    {
     "name": "stderr",
     "output_type": "stream",
     "text": [
      "  0%|          | 66/44318 [03:31<76:49:12,  6.25s/it]"
     ]
    },
    {
     "name": "stdout",
     "output_type": "stream",
     "text": [
      "1/1 [==============================] - 3s 3s/step\n"
     ]
    },
    {
     "name": "stderr",
     "output_type": "stream",
     "text": [
      "  0%|          | 67/44318 [03:36<69:49:03,  5.68s/it]"
     ]
    },
    {
     "name": "stdout",
     "output_type": "stream",
     "text": [
      "1/1 [==============================] - 3s 3s/step\n"
     ]
    },
    {
     "name": "stderr",
     "output_type": "stream",
     "text": [
      "  0%|          | 68/44318 [03:40<65:12:51,  5.31s/it]"
     ]
    },
    {
     "name": "stdout",
     "output_type": "stream",
     "text": [
      "1/1 [==============================] - 2s 2s/step\n"
     ]
    },
    {
     "name": "stderr",
     "output_type": "stream",
     "text": [
      "  0%|          | 69/44318 [03:44<58:29:05,  4.76s/it]"
     ]
    },
    {
     "name": "stdout",
     "output_type": "stream",
     "text": [
      "1/1 [==============================] - 3s 3s/step\n"
     ]
    },
    {
     "name": "stderr",
     "output_type": "stream",
     "text": [
      "  0%|          | 70/44318 [03:48<56:46:32,  4.62s/it]"
     ]
    },
    {
     "name": "stdout",
     "output_type": "stream",
     "text": [
      "1/1 [==============================] - 2s 2s/step\n"
     ]
    },
    {
     "name": "stderr",
     "output_type": "stream",
     "text": [
      "  0%|          | 71/44318 [03:52<55:32:30,  4.52s/it]"
     ]
    },
    {
     "name": "stdout",
     "output_type": "stream",
     "text": [
      "1/1 [==============================] - 5s 5s/step\n"
     ]
    },
    {
     "name": "stderr",
     "output_type": "stream",
     "text": [
      "  0%|          | 72/44318 [04:00<66:54:45,  5.44s/it]"
     ]
    },
    {
     "name": "stdout",
     "output_type": "stream",
     "text": [
      "1/1 [==============================] - 3s 3s/step\n"
     ]
    },
    {
     "name": "stderr",
     "output_type": "stream",
     "text": [
      "  0%|          | 73/44318 [04:04<63:04:05,  5.13s/it]"
     ]
    },
    {
     "name": "stdout",
     "output_type": "stream",
     "text": [
      "1/1 [==============================] - 3s 3s/step\n"
     ]
    },
    {
     "name": "stderr",
     "output_type": "stream",
     "text": [
      "  0%|          | 74/44318 [04:09<61:53:19,  5.04s/it]"
     ]
    },
    {
     "name": "stdout",
     "output_type": "stream",
     "text": [
      "1/1 [==============================] - 3s 3s/step\n"
     ]
    },
    {
     "name": "stderr",
     "output_type": "stream",
     "text": [
      "  0%|          | 75/44318 [04:15<63:58:03,  5.20s/it]"
     ]
    },
    {
     "name": "stdout",
     "output_type": "stream",
     "text": [
      "1/1 [==============================] - 2s 2s/step\n"
     ]
    },
    {
     "name": "stderr",
     "output_type": "stream",
     "text": [
      "  0%|          | 76/44318 [04:19<60:13:54,  4.90s/it]"
     ]
    },
    {
     "name": "stdout",
     "output_type": "stream",
     "text": [
      "1/1 [==============================] - 2s 2s/step\n"
     ]
    },
    {
     "name": "stderr",
     "output_type": "stream",
     "text": [
      "  0%|          | 77/44318 [04:21<51:36:10,  4.20s/it]"
     ]
    },
    {
     "name": "stdout",
     "output_type": "stream",
     "text": [
      "1/1 [==============================] - 1s 1s/step\n"
     ]
    },
    {
     "name": "stderr",
     "output_type": "stream",
     "text": [
      "  0%|          | 78/44318 [04:24<47:15:04,  3.85s/it]"
     ]
    },
    {
     "name": "stdout",
     "output_type": "stream",
     "text": [
      "1/1 [==============================] - 3s 3s/step\n"
     ]
    },
    {
     "name": "stderr",
     "output_type": "stream",
     "text": [
      "  0%|          | 79/44318 [04:28<46:23:54,  3.78s/it]"
     ]
    },
    {
     "name": "stdout",
     "output_type": "stream",
     "text": [
      "1/1 [==============================] - 4s 4s/step\n"
     ]
    },
    {
     "name": "stderr",
     "output_type": "stream",
     "text": [
      "  0%|          | 80/44318 [04:33<51:39:45,  4.20s/it]"
     ]
    },
    {
     "name": "stdout",
     "output_type": "stream",
     "text": [
      "1/1 [==============================] - 2s 2s/step\n"
     ]
    },
    {
     "name": "stderr",
     "output_type": "stream",
     "text": [
      "  0%|          | 81/44318 [04:36<47:12:40,  3.84s/it]"
     ]
    },
    {
     "name": "stdout",
     "output_type": "stream",
     "text": [
      "1/1 [==============================] - 1s 1s/step\n"
     ]
    },
    {
     "name": "stderr",
     "output_type": "stream",
     "text": [
      "  0%|          | 82/44318 [04:39<41:47:01,  3.40s/it]"
     ]
    },
    {
     "name": "stdout",
     "output_type": "stream",
     "text": [
      "1/1 [==============================] - 1s 1s/step\n"
     ]
    },
    {
     "name": "stderr",
     "output_type": "stream",
     "text": [
      "  0%|          | 83/44318 [04:41<38:39:05,  3.15s/it]"
     ]
    },
    {
     "name": "stdout",
     "output_type": "stream",
     "text": [
      "1/1 [==============================] - 1s 1s/step\n"
     ]
    },
    {
     "name": "stderr",
     "output_type": "stream",
     "text": [
      "  0%|          | 84/44318 [04:43<35:00:50,  2.85s/it]"
     ]
    },
    {
     "name": "stdout",
     "output_type": "stream",
     "text": [
      "1/1 [==============================] - 1s 1s/step\n"
     ]
    },
    {
     "name": "stderr",
     "output_type": "stream",
     "text": [
      "  0%|          | 85/44318 [04:46<35:30:17,  2.89s/it]"
     ]
    },
    {
     "name": "stdout",
     "output_type": "stream",
     "text": [
      "1/1 [==============================] - 2s 2s/step\n"
     ]
    },
    {
     "name": "stderr",
     "output_type": "stream",
     "text": [
      "  0%|          | 86/44318 [04:49<34:59:34,  2.85s/it]"
     ]
    },
    {
     "name": "stdout",
     "output_type": "stream",
     "text": [
      "1/1 [==============================] - 1s 1s/step\n"
     ]
    },
    {
     "name": "stderr",
     "output_type": "stream",
     "text": [
      "  0%|          | 87/44318 [04:51<32:04:21,  2.61s/it]"
     ]
    },
    {
     "name": "stdout",
     "output_type": "stream",
     "text": [
      "1/1 [==============================] - 1s 1s/step\n"
     ]
    },
    {
     "name": "stderr",
     "output_type": "stream",
     "text": [
      "  0%|          | 88/44318 [04:53<30:39:58,  2.50s/it]"
     ]
    },
    {
     "name": "stdout",
     "output_type": "stream",
     "text": [
      "1/1 [==============================] - 1s 1s/step\n"
     ]
    },
    {
     "name": "stderr",
     "output_type": "stream",
     "text": [
      "  0%|          | 89/44318 [04:55<29:16:06,  2.38s/it]"
     ]
    },
    {
     "name": "stdout",
     "output_type": "stream",
     "text": [
      "1/1 [==============================] - 1s 1s/step\n"
     ]
    },
    {
     "name": "stderr",
     "output_type": "stream",
     "text": [
      "  0%|          | 90/44318 [04:58<29:11:34,  2.38s/it]"
     ]
    },
    {
     "name": "stdout",
     "output_type": "stream",
     "text": [
      "1/1 [==============================] - 1s 1s/step\n"
     ]
    },
    {
     "name": "stderr",
     "output_type": "stream",
     "text": [
      "  0%|          | 91/44318 [05:00<28:31:01,  2.32s/it]"
     ]
    },
    {
     "name": "stdout",
     "output_type": "stream",
     "text": [
      "1/1 [==============================] - 1s 1s/step\n"
     ]
    },
    {
     "name": "stderr",
     "output_type": "stream",
     "text": [
      "  0%|          | 92/44318 [05:02<28:14:47,  2.30s/it]"
     ]
    },
    {
     "name": "stdout",
     "output_type": "stream",
     "text": [
      "1/1 [==============================] - 1s 1s/step\n"
     ]
    },
    {
     "name": "stderr",
     "output_type": "stream",
     "text": [
      "  0%|          | 93/44318 [05:04<27:53:14,  2.27s/it]"
     ]
    },
    {
     "name": "stdout",
     "output_type": "stream",
     "text": [
      "1/1 [==============================] - 1s 1s/step\n"
     ]
    },
    {
     "name": "stderr",
     "output_type": "stream",
     "text": [
      "  0%|          | 94/44318 [05:07<27:12:16,  2.21s/it]"
     ]
    },
    {
     "name": "stdout",
     "output_type": "stream",
     "text": [
      "1/1 [==============================] - 1s 1s/step\n"
     ]
    },
    {
     "name": "stderr",
     "output_type": "stream",
     "text": [
      "  0%|          | 95/44318 [05:09<28:25:44,  2.31s/it]"
     ]
    },
    {
     "name": "stdout",
     "output_type": "stream",
     "text": [
      "1/1 [==============================] - 1s 1s/step\n"
     ]
    },
    {
     "name": "stderr",
     "output_type": "stream",
     "text": [
      "  0%|          | 96/44318 [05:11<28:11:03,  2.29s/it]"
     ]
    },
    {
     "name": "stdout",
     "output_type": "stream",
     "text": [
      "1/1 [==============================] - 1s 1s/step\n"
     ]
    },
    {
     "name": "stderr",
     "output_type": "stream",
     "text": [
      "  0%|          | 97/44318 [05:14<28:34:08,  2.33s/it]"
     ]
    },
    {
     "name": "stdout",
     "output_type": "stream",
     "text": [
      "1/1 [==============================] - 1s 1s/step\n"
     ]
    },
    {
     "name": "stderr",
     "output_type": "stream",
     "text": [
      "  0%|          | 98/44318 [05:16<29:58:10,  2.44s/it]"
     ]
    },
    {
     "name": "stdout",
     "output_type": "stream",
     "text": [
      "1/1 [==============================] - 1s 1s/step\n"
     ]
    },
    {
     "name": "stderr",
     "output_type": "stream",
     "text": [
      "  0%|          | 99/44318 [05:19<32:04:51,  2.61s/it]"
     ]
    },
    {
     "name": "stdout",
     "output_type": "stream",
     "text": [
      "1/1 [==============================] - 1s 1s/step\n"
     ]
    },
    {
     "name": "stderr",
     "output_type": "stream",
     "text": [
      "  0%|          | 100/44318 [05:22<30:27:07,  2.48s/it]"
     ]
    },
    {
     "name": "stdout",
     "output_type": "stream",
     "text": [
      "1/1 [==============================] - 1s 1s/step\n"
     ]
    },
    {
     "name": "stderr",
     "output_type": "stream",
     "text": [
      "  0%|          | 101/44318 [05:23<28:14:35,  2.30s/it]"
     ]
    },
    {
     "name": "stdout",
     "output_type": "stream",
     "text": [
      "1/1 [==============================] - 1s 1s/step\n"
     ]
    },
    {
     "name": "stderr",
     "output_type": "stream",
     "text": [
      "  0%|          | 102/44318 [05:25<26:44:28,  2.18s/it]"
     ]
    },
    {
     "name": "stdout",
     "output_type": "stream",
     "text": [
      "1/1 [==============================] - 3s 3s/step\n"
     ]
    },
    {
     "name": "stderr",
     "output_type": "stream",
     "text": [
      "  0%|          | 103/44318 [05:30<35:56:24,  2.93s/it]"
     ]
    },
    {
     "name": "stdout",
     "output_type": "stream",
     "text": [
      "1/1 [==============================] - 2s 2s/step\n"
     ]
    },
    {
     "name": "stderr",
     "output_type": "stream",
     "text": [
      "  0%|          | 104/44318 [05:34<40:23:48,  3.29s/it]"
     ]
    },
    {
     "name": "stdout",
     "output_type": "stream",
     "text": [
      "1/1 [==============================] - 2s 2s/step\n"
     ]
    },
    {
     "name": "stderr",
     "output_type": "stream",
     "text": [
      "  0%|          | 105/44318 [05:38<40:51:33,  3.33s/it]"
     ]
    },
    {
     "name": "stdout",
     "output_type": "stream",
     "text": [
      "1/1 [==============================] - 1s 1s/step\n"
     ]
    },
    {
     "name": "stderr",
     "output_type": "stream",
     "text": [
      "  0%|          | 106/44318 [05:40<37:04:02,  3.02s/it]"
     ]
    },
    {
     "name": "stdout",
     "output_type": "stream",
     "text": [
      "1/1 [==============================] - 1s 1s/step\n"
     ]
    },
    {
     "name": "stderr",
     "output_type": "stream",
     "text": [
      "  0%|          | 107/44318 [05:42<33:59:35,  2.77s/it]"
     ]
    },
    {
     "name": "stdout",
     "output_type": "stream",
     "text": [
      "1/1 [==============================] - 2s 2s/step\n"
     ]
    },
    {
     "name": "stderr",
     "output_type": "stream",
     "text": [
      "  0%|          | 108/44318 [05:46<36:38:41,  2.98s/it]"
     ]
    },
    {
     "name": "stdout",
     "output_type": "stream",
     "text": [
      "1/1 [==============================] - 2s 2s/step\n"
     ]
    },
    {
     "name": "stderr",
     "output_type": "stream",
     "text": [
      "  0%|          | 109/44318 [05:48<36:01:04,  2.93s/it]"
     ]
    },
    {
     "name": "stdout",
     "output_type": "stream",
     "text": [
      "1/1 [==============================] - 2s 2s/step\n"
     ]
    },
    {
     "name": "stderr",
     "output_type": "stream",
     "text": [
      "  0%|          | 110/44318 [05:51<36:26:13,  2.97s/it]"
     ]
    },
    {
     "name": "stdout",
     "output_type": "stream",
     "text": [
      "1/1 [==============================] - 1s 1s/step\n"
     ]
    },
    {
     "name": "stderr",
     "output_type": "stream",
     "text": [
      "  0%|          | 111/44318 [05:54<33:51:37,  2.76s/it]"
     ]
    },
    {
     "name": "stdout",
     "output_type": "stream",
     "text": [
      "1/1 [==============================] - 1s 1s/step\n"
     ]
    },
    {
     "name": "stderr",
     "output_type": "stream",
     "text": [
      "  0%|          | 112/44318 [05:56<31:34:27,  2.57s/it]"
     ]
    },
    {
     "name": "stdout",
     "output_type": "stream",
     "text": [
      "1/1 [==============================] - 1s 1s/step\n"
     ]
    },
    {
     "name": "stderr",
     "output_type": "stream",
     "text": [
      "  0%|          | 113/44318 [05:58<30:58:19,  2.52s/it]"
     ]
    },
    {
     "name": "stdout",
     "output_type": "stream",
     "text": [
      "1/1 [==============================] - 1s 1s/step\n"
     ]
    },
    {
     "name": "stderr",
     "output_type": "stream",
     "text": [
      "  0%|          | 114/44318 [06:01<30:26:09,  2.48s/it]"
     ]
    },
    {
     "name": "stdout",
     "output_type": "stream",
     "text": [
      "1/1 [==============================] - 6s 6s/step\n"
     ]
    },
    {
     "name": "stderr",
     "output_type": "stream",
     "text": [
      "  0%|          | 115/44318 [06:08<49:09:48,  4.00s/it]"
     ]
    },
    {
     "name": "stdout",
     "output_type": "stream",
     "text": [
      "1/1 [==============================] - 7s 7s/step\n"
     ]
    },
    {
     "name": "stderr",
     "output_type": "stream",
     "text": [
      "  0%|          | 116/44318 [06:18<69:15:47,  5.64s/it]"
     ]
    },
    {
     "name": "stdout",
     "output_type": "stream",
     "text": [
      "1/1 [==============================] - 17s 17s/step\n"
     ]
    },
    {
     "name": "stderr",
     "output_type": "stream",
     "text": [
      "  0%|          | 117/44318 [06:38<123:24:47, 10.05s/it]"
     ]
    },
    {
     "name": "stdout",
     "output_type": "stream",
     "text": [
      "1/1 [==============================] - 10s 10s/step\n"
     ]
    },
    {
     "name": "stderr",
     "output_type": "stream",
     "text": [
      "  0%|          | 118/44318 [06:56<151:31:18, 12.34s/it]"
     ]
    },
    {
     "name": "stdout",
     "output_type": "stream",
     "text": [
      "1/1 [==============================] - 7s 7s/step\n"
     ]
    },
    {
     "name": "stderr",
     "output_type": "stream",
     "text": [
      "  0%|          | 119/44318 [07:05<141:20:54, 11.51s/it]"
     ]
    },
    {
     "name": "stdout",
     "output_type": "stream",
     "text": [
      "1/1 [==============================] - 5s 5s/step\n"
     ]
    },
    {
     "name": "stderr",
     "output_type": "stream",
     "text": [
      "  0%|          | 120/44318 [07:12<125:30:43, 10.22s/it]"
     ]
    },
    {
     "name": "stdout",
     "output_type": "stream",
     "text": [
      "1/1 [==============================] - 5s 5s/step\n"
     ]
    },
    {
     "name": "stderr",
     "output_type": "stream",
     "text": [
      "  0%|          | 121/44318 [07:21<118:11:51,  9.63s/it]"
     ]
    },
    {
     "name": "stdout",
     "output_type": "stream",
     "text": [
      "1/1 [==============================] - 3s 3s/step\n"
     ]
    },
    {
     "name": "stderr",
     "output_type": "stream",
     "text": [
      "  0%|          | 122/44318 [07:26<102:41:54,  8.37s/it]"
     ]
    },
    {
     "name": "stdout",
     "output_type": "stream",
     "text": [
      "1/1 [==============================] - 4s 4s/step\n"
     ]
    },
    {
     "name": "stderr",
     "output_type": "stream",
     "text": [
      "  0%|          | 123/44318 [07:32<92:32:54,  7.54s/it] "
     ]
    },
    {
     "name": "stdout",
     "output_type": "stream",
     "text": [
      "1/1 [==============================] - 4s 4s/step\n"
     ]
    },
    {
     "name": "stderr",
     "output_type": "stream",
     "text": [
      "  0%|          | 124/44318 [07:38<88:28:26,  7.21s/it]"
     ]
    },
    {
     "name": "stdout",
     "output_type": "stream",
     "text": [
      "1/1 [==============================] - 6s 6s/step\n"
     ]
    },
    {
     "name": "stderr",
     "output_type": "stream",
     "text": [
      "  0%|          | 125/44318 [07:48<98:27:21,  8.02s/it]"
     ]
    },
    {
     "name": "stdout",
     "output_type": "stream",
     "text": [
      "1/1 [==============================] - 5s 5s/step\n"
     ]
    },
    {
     "name": "stderr",
     "output_type": "stream",
     "text": [
      "  0%|          | 126/44318 [07:58<105:56:08,  8.63s/it]"
     ]
    },
    {
     "name": "stdout",
     "output_type": "stream",
     "text": [
      "1/1 [==============================] - 7s 7s/step\n"
     ]
    },
    {
     "name": "stderr",
     "output_type": "stream",
     "text": [
      "  0%|          | 127/44318 [08:07<107:02:20,  8.72s/it]"
     ]
    },
    {
     "name": "stdout",
     "output_type": "stream",
     "text": [
      "1/1 [==============================] - 3s 3s/step\n"
     ]
    },
    {
     "name": "stderr",
     "output_type": "stream",
     "text": [
      "  0%|          | 128/44318 [08:11<90:13:34,  7.35s/it] "
     ]
    },
    {
     "name": "stdout",
     "output_type": "stream",
     "text": [
      "1/1 [==============================] - 2s 2s/step\n"
     ]
    },
    {
     "name": "stderr",
     "output_type": "stream",
     "text": [
      "  0%|          | 129/44318 [08:18<47:28:15,  3.87s/it]\n"
     ]
    },
    {
     "ename": "KeyboardInterrupt",
     "evalue": "",
     "output_type": "error",
     "traceback": [
      "\u001b[1;31m---------------------------------------------------------------------------\u001b[0m",
      "\u001b[1;31mKeyboardInterrupt\u001b[0m                         Traceback (most recent call last)",
      "Cell \u001b[1;32mIn[82], line 3\u001b[0m\n\u001b[0;32m      1\u001b[0m feature_list \u001b[39m=\u001b[39m []\n\u001b[0;32m      2\u001b[0m \u001b[39mfor\u001b[39;00m file \u001b[39min\u001b[39;00m tqdm(filenames):\n\u001b[1;32m----> 3\u001b[0m     feature_list\u001b[39m.\u001b[39mappend(extract_features(file, model))\n\u001b[0;32m      7\u001b[0m pickle\u001b[39m.\u001b[39mdump(feature_list,\u001b[39mopen\u001b[39m(\u001b[39m'\u001b[39m\u001b[39membedding.pkl\u001b[39m\u001b[39m'\u001b[39m, \u001b[39m'\u001b[39m\u001b[39mwb\u001b[39m\u001b[39m'\u001b[39m))\n\u001b[0;32m      8\u001b[0m pickle\u001b[39m.\u001b[39mdump(filenames,\u001b[39mopen\u001b[39m(\u001b[39m'\u001b[39m\u001b[39mfilenames.pkl\u001b[39m\u001b[39m'\u001b[39m, \u001b[39m'\u001b[39m\u001b[39mwb\u001b[39m\u001b[39m'\u001b[39m))\n",
      "Cell \u001b[1;32mIn[77], line 12\u001b[0m, in \u001b[0;36mextract_features\u001b[1;34m(img_path, model)\u001b[0m\n\u001b[0;32m      9\u001b[0m expanded_img_array \u001b[39m=\u001b[39m np\u001b[39m.\u001b[39mexpand_dims(img_array,axis\u001b[39m=\u001b[39m\u001b[39m0\u001b[39m)\n\u001b[0;32m     10\u001b[0m preprocessed_img \u001b[39m=\u001b[39m preprocess_input(expanded_img_array)\n\u001b[1;32m---> 12\u001b[0m result \u001b[39m=\u001b[39m model\u001b[39m.\u001b[39;49mpredict(preprocessed_img)\u001b[39m.\u001b[39mflatten()\n\u001b[0;32m     13\u001b[0m normalised_result \u001b[39m=\u001b[39m result \u001b[39m/\u001b[39m norm(result)\n\u001b[0;32m     14\u001b[0m \u001b[39mreturn\u001b[39;00m normalised_result\n",
      "File \u001b[1;32mf:\\Project\\shopping hub\\shopping_hub_env\\lib\\site-packages\\keras\\utils\\traceback_utils.py:65\u001b[0m, in \u001b[0;36mfilter_traceback.<locals>.error_handler\u001b[1;34m(*args, **kwargs)\u001b[0m\n\u001b[0;32m     63\u001b[0m filtered_tb \u001b[39m=\u001b[39m \u001b[39mNone\u001b[39;00m\n\u001b[0;32m     64\u001b[0m \u001b[39mtry\u001b[39;00m:\n\u001b[1;32m---> 65\u001b[0m     \u001b[39mreturn\u001b[39;00m fn(\u001b[39m*\u001b[39;49margs, \u001b[39m*\u001b[39;49m\u001b[39m*\u001b[39;49mkwargs)\n\u001b[0;32m     66\u001b[0m \u001b[39mexcept\u001b[39;00m \u001b[39mException\u001b[39;00m \u001b[39mas\u001b[39;00m e:\n\u001b[0;32m     67\u001b[0m     filtered_tb \u001b[39m=\u001b[39m _process_traceback_frames(e\u001b[39m.\u001b[39m__traceback__)\n",
      "File \u001b[1;32mf:\\Project\\shopping hub\\shopping_hub_env\\lib\\site-packages\\keras\\engine\\training.py:2382\u001b[0m, in \u001b[0;36mModel.predict\u001b[1;34m(self, x, batch_size, verbose, steps, callbacks, max_queue_size, workers, use_multiprocessing)\u001b[0m\n\u001b[0;32m   2380\u001b[0m \u001b[39mfor\u001b[39;00m step \u001b[39min\u001b[39;00m data_handler\u001b[39m.\u001b[39msteps():\n\u001b[0;32m   2381\u001b[0m     callbacks\u001b[39m.\u001b[39mon_predict_batch_begin(step)\n\u001b[1;32m-> 2382\u001b[0m     tmp_batch_outputs \u001b[39m=\u001b[39m \u001b[39mself\u001b[39;49m\u001b[39m.\u001b[39;49mpredict_function(iterator)\n\u001b[0;32m   2383\u001b[0m     \u001b[39mif\u001b[39;00m data_handler\u001b[39m.\u001b[39mshould_sync:\n\u001b[0;32m   2384\u001b[0m         context\u001b[39m.\u001b[39masync_wait()\n",
      "File \u001b[1;32mf:\\Project\\shopping hub\\shopping_hub_env\\lib\\site-packages\\tensorflow\\python\\util\\traceback_utils.py:150\u001b[0m, in \u001b[0;36mfilter_traceback.<locals>.error_handler\u001b[1;34m(*args, **kwargs)\u001b[0m\n\u001b[0;32m    148\u001b[0m filtered_tb \u001b[39m=\u001b[39m \u001b[39mNone\u001b[39;00m\n\u001b[0;32m    149\u001b[0m \u001b[39mtry\u001b[39;00m:\n\u001b[1;32m--> 150\u001b[0m   \u001b[39mreturn\u001b[39;00m fn(\u001b[39m*\u001b[39;49margs, \u001b[39m*\u001b[39;49m\u001b[39m*\u001b[39;49mkwargs)\n\u001b[0;32m    151\u001b[0m \u001b[39mexcept\u001b[39;00m \u001b[39mException\u001b[39;00m \u001b[39mas\u001b[39;00m e:\n\u001b[0;32m    152\u001b[0m   filtered_tb \u001b[39m=\u001b[39m _process_traceback_frames(e\u001b[39m.\u001b[39m__traceback__)\n",
      "File \u001b[1;32mf:\\Project\\shopping hub\\shopping_hub_env\\lib\\site-packages\\tensorflow\\python\\eager\\polymorphic_function\\polymorphic_function.py:894\u001b[0m, in \u001b[0;36mFunction.__call__\u001b[1;34m(self, *args, **kwds)\u001b[0m\n\u001b[0;32m    891\u001b[0m compiler \u001b[39m=\u001b[39m \u001b[39m\"\u001b[39m\u001b[39mxla\u001b[39m\u001b[39m\"\u001b[39m \u001b[39mif\u001b[39;00m \u001b[39mself\u001b[39m\u001b[39m.\u001b[39m_jit_compile \u001b[39melse\u001b[39;00m \u001b[39m\"\u001b[39m\u001b[39mnonXla\u001b[39m\u001b[39m\"\u001b[39m\n\u001b[0;32m    893\u001b[0m \u001b[39mwith\u001b[39;00m OptionalXlaContext(\u001b[39mself\u001b[39m\u001b[39m.\u001b[39m_jit_compile):\n\u001b[1;32m--> 894\u001b[0m   result \u001b[39m=\u001b[39m \u001b[39mself\u001b[39;49m\u001b[39m.\u001b[39;49m_call(\u001b[39m*\u001b[39;49margs, \u001b[39m*\u001b[39;49m\u001b[39m*\u001b[39;49mkwds)\n\u001b[0;32m    896\u001b[0m new_tracing_count \u001b[39m=\u001b[39m \u001b[39mself\u001b[39m\u001b[39m.\u001b[39mexperimental_get_tracing_count()\n\u001b[0;32m    897\u001b[0m without_tracing \u001b[39m=\u001b[39m (tracing_count \u001b[39m==\u001b[39m new_tracing_count)\n",
      "File \u001b[1;32mf:\\Project\\shopping hub\\shopping_hub_env\\lib\\site-packages\\tensorflow\\python\\eager\\polymorphic_function\\polymorphic_function.py:933\u001b[0m, in \u001b[0;36mFunction._call\u001b[1;34m(self, *args, **kwds)\u001b[0m\n\u001b[0;32m    930\u001b[0m \u001b[39mself\u001b[39m\u001b[39m.\u001b[39m_lock\u001b[39m.\u001b[39mrelease()\n\u001b[0;32m    931\u001b[0m \u001b[39m# In this case we have not created variables on the first call. So we can\u001b[39;00m\n\u001b[0;32m    932\u001b[0m \u001b[39m# run the first trace but we should fail if variables are created.\u001b[39;00m\n\u001b[1;32m--> 933\u001b[0m results \u001b[39m=\u001b[39m \u001b[39mself\u001b[39;49m\u001b[39m.\u001b[39;49m_variable_creation_fn(\u001b[39m*\u001b[39;49margs, \u001b[39m*\u001b[39;49m\u001b[39m*\u001b[39;49mkwds)\n\u001b[0;32m    934\u001b[0m \u001b[39mif\u001b[39;00m \u001b[39mself\u001b[39m\u001b[39m.\u001b[39m_created_variables \u001b[39mand\u001b[39;00m \u001b[39mnot\u001b[39;00m ALLOW_DYNAMIC_VARIABLE_CREATION:\n\u001b[0;32m    935\u001b[0m   \u001b[39mraise\u001b[39;00m \u001b[39mValueError\u001b[39;00m(\u001b[39m\"\u001b[39m\u001b[39mCreating variables on a non-first call to a function\u001b[39m\u001b[39m\"\u001b[39m\n\u001b[0;32m    936\u001b[0m                    \u001b[39m\"\u001b[39m\u001b[39m decorated with tf.function.\u001b[39m\u001b[39m\"\u001b[39m)\n",
      "File \u001b[1;32mf:\\Project\\shopping hub\\shopping_hub_env\\lib\\site-packages\\tensorflow\\python\\eager\\polymorphic_function\\tracing_compiler.py:143\u001b[0m, in \u001b[0;36mTracingCompiler.__call__\u001b[1;34m(self, *args, **kwargs)\u001b[0m\n\u001b[0;32m    140\u001b[0m \u001b[39mwith\u001b[39;00m \u001b[39mself\u001b[39m\u001b[39m.\u001b[39m_lock:\n\u001b[0;32m    141\u001b[0m   (concrete_function,\n\u001b[0;32m    142\u001b[0m    filtered_flat_args) \u001b[39m=\u001b[39m \u001b[39mself\u001b[39m\u001b[39m.\u001b[39m_maybe_define_function(args, kwargs)\n\u001b[1;32m--> 143\u001b[0m \u001b[39mreturn\u001b[39;00m concrete_function\u001b[39m.\u001b[39;49m_call_flat(\n\u001b[0;32m    144\u001b[0m     filtered_flat_args, captured_inputs\u001b[39m=\u001b[39;49mconcrete_function\u001b[39m.\u001b[39;49mcaptured_inputs)\n",
      "File \u001b[1;32mf:\\Project\\shopping hub\\shopping_hub_env\\lib\\site-packages\\tensorflow\\python\\eager\\polymorphic_function\\monomorphic_function.py:1757\u001b[0m, in \u001b[0;36mConcreteFunction._call_flat\u001b[1;34m(self, args, captured_inputs, cancellation_manager)\u001b[0m\n\u001b[0;32m   1753\u001b[0m possible_gradient_type \u001b[39m=\u001b[39m gradients_util\u001b[39m.\u001b[39mPossibleTapeGradientTypes(args)\n\u001b[0;32m   1754\u001b[0m \u001b[39mif\u001b[39;00m (possible_gradient_type \u001b[39m==\u001b[39m gradients_util\u001b[39m.\u001b[39mPOSSIBLE_GRADIENT_TYPES_NONE\n\u001b[0;32m   1755\u001b[0m     \u001b[39mand\u001b[39;00m executing_eagerly):\n\u001b[0;32m   1756\u001b[0m   \u001b[39m# No tape is watching; skip to running the function.\u001b[39;00m\n\u001b[1;32m-> 1757\u001b[0m   \u001b[39mreturn\u001b[39;00m \u001b[39mself\u001b[39m\u001b[39m.\u001b[39m_build_call_outputs(\u001b[39mself\u001b[39;49m\u001b[39m.\u001b[39;49m_inference_function\u001b[39m.\u001b[39;49mcall(\n\u001b[0;32m   1758\u001b[0m       ctx, args, cancellation_manager\u001b[39m=\u001b[39;49mcancellation_manager))\n\u001b[0;32m   1759\u001b[0m forward_backward \u001b[39m=\u001b[39m \u001b[39mself\u001b[39m\u001b[39m.\u001b[39m_select_forward_and_backward_functions(\n\u001b[0;32m   1760\u001b[0m     args,\n\u001b[0;32m   1761\u001b[0m     possible_gradient_type,\n\u001b[0;32m   1762\u001b[0m     executing_eagerly)\n\u001b[0;32m   1763\u001b[0m forward_function, args_with_tangents \u001b[39m=\u001b[39m forward_backward\u001b[39m.\u001b[39mforward()\n",
      "File \u001b[1;32mf:\\Project\\shopping hub\\shopping_hub_env\\lib\\site-packages\\tensorflow\\python\\eager\\polymorphic_function\\monomorphic_function.py:381\u001b[0m, in \u001b[0;36m_EagerDefinedFunction.call\u001b[1;34m(self, ctx, args, cancellation_manager)\u001b[0m\n\u001b[0;32m    379\u001b[0m \u001b[39mwith\u001b[39;00m _InterpolateFunctionError(\u001b[39mself\u001b[39m):\n\u001b[0;32m    380\u001b[0m   \u001b[39mif\u001b[39;00m cancellation_manager \u001b[39mis\u001b[39;00m \u001b[39mNone\u001b[39;00m:\n\u001b[1;32m--> 381\u001b[0m     outputs \u001b[39m=\u001b[39m execute\u001b[39m.\u001b[39;49mexecute(\n\u001b[0;32m    382\u001b[0m         \u001b[39mstr\u001b[39;49m(\u001b[39mself\u001b[39;49m\u001b[39m.\u001b[39;49msignature\u001b[39m.\u001b[39;49mname),\n\u001b[0;32m    383\u001b[0m         num_outputs\u001b[39m=\u001b[39;49m\u001b[39mself\u001b[39;49m\u001b[39m.\u001b[39;49m_num_outputs,\n\u001b[0;32m    384\u001b[0m         inputs\u001b[39m=\u001b[39;49margs,\n\u001b[0;32m    385\u001b[0m         attrs\u001b[39m=\u001b[39;49mattrs,\n\u001b[0;32m    386\u001b[0m         ctx\u001b[39m=\u001b[39;49mctx)\n\u001b[0;32m    387\u001b[0m   \u001b[39melse\u001b[39;00m:\n\u001b[0;32m    388\u001b[0m     outputs \u001b[39m=\u001b[39m execute\u001b[39m.\u001b[39mexecute_with_cancellation(\n\u001b[0;32m    389\u001b[0m         \u001b[39mstr\u001b[39m(\u001b[39mself\u001b[39m\u001b[39m.\u001b[39msignature\u001b[39m.\u001b[39mname),\n\u001b[0;32m    390\u001b[0m         num_outputs\u001b[39m=\u001b[39m\u001b[39mself\u001b[39m\u001b[39m.\u001b[39m_num_outputs,\n\u001b[1;32m   (...)\u001b[0m\n\u001b[0;32m    393\u001b[0m         ctx\u001b[39m=\u001b[39mctx,\n\u001b[0;32m    394\u001b[0m         cancellation_manager\u001b[39m=\u001b[39mcancellation_manager)\n",
      "File \u001b[1;32mf:\\Project\\shopping hub\\shopping_hub_env\\lib\\site-packages\\tensorflow\\python\\eager\\execute.py:52\u001b[0m, in \u001b[0;36mquick_execute\u001b[1;34m(op_name, num_outputs, inputs, attrs, ctx, name)\u001b[0m\n\u001b[0;32m     50\u001b[0m \u001b[39mtry\u001b[39;00m:\n\u001b[0;32m     51\u001b[0m   ctx\u001b[39m.\u001b[39mensure_initialized()\n\u001b[1;32m---> 52\u001b[0m   tensors \u001b[39m=\u001b[39m pywrap_tfe\u001b[39m.\u001b[39;49mTFE_Py_Execute(ctx\u001b[39m.\u001b[39;49m_handle, device_name, op_name,\n\u001b[0;32m     53\u001b[0m                                       inputs, attrs, num_outputs)\n\u001b[0;32m     54\u001b[0m \u001b[39mexcept\u001b[39;00m core\u001b[39m.\u001b[39m_NotOkStatusException \u001b[39mas\u001b[39;00m e:\n\u001b[0;32m     55\u001b[0m   \u001b[39mif\u001b[39;00m name \u001b[39mis\u001b[39;00m \u001b[39mnot\u001b[39;00m \u001b[39mNone\u001b[39;00m:\n",
      "\u001b[1;31mKeyboardInterrupt\u001b[0m: "
     ]
    }
   ],
   "source": [
    "feature_list = []\n",
    "for file in tqdm(filenames):\n",
    "    feature_list.append(extract_features(file, model))\n",
    "\n",
    "\n",
    "\n",
    "pickle.dump(feature_list,open('embedding.pkl', 'wb'))\n",
    "pickle.dump(filenames,open('filenames.pkl', 'wb'))"
   ]
  },
  {
   "cell_type": "code",
   "execution_count": null,
   "metadata": {},
   "outputs": [],
   "source": []
  }
 ],
 "metadata": {
  "kernelspec": {
   "display_name": "Python 3",
   "language": "python",
   "name": "python3"
  },
  "language_info": {
   "codemirror_mode": {
    "name": "ipython",
    "version": 3
   },
   "file_extension": ".py",
   "mimetype": "text/x-python",
   "name": "python",
   "nbconvert_exporter": "python",
   "pygments_lexer": "ipython3",
   "version": "3.8.0"
  },
  "orig_nbformat": 4
 },
 "nbformat": 4,
 "nbformat_minor": 2
}
